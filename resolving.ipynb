{
 "cells": [
  {
   "cell_type": "code",
   "execution_count": 29,
   "metadata": {},
   "outputs": [],
   "source": [
    "import pandas as pd\n",
    "import numpy as np\n",
    "import seaborn as sns\n",
    "import matplotlib.pyplot as plt\n",
    "import datetime as dt\n",
    "import plotly.express as px\n",
    "import plotly.graph_objects as go\n",
    "from sklearn.linear_model import LinearRegression\n",
    "from sklearn.metrics import mean_squared_error\n",
    "from sklearn.model_selection import train_test_split"
   ]
  },
  {
   "cell_type": "code",
   "execution_count": 2,
   "metadata": {},
   "outputs": [
    {
     "data": {
      "text/html": [
       "<div>\n",
       "<style scoped>\n",
       "    .dataframe tbody tr th:only-of-type {\n",
       "        vertical-align: middle;\n",
       "    }\n",
       "\n",
       "    .dataframe tbody tr th {\n",
       "        vertical-align: top;\n",
       "    }\n",
       "\n",
       "    .dataframe thead th {\n",
       "        text-align: right;\n",
       "    }\n",
       "</style>\n",
       "<table border=\"1\" class=\"dataframe\">\n",
       "  <thead>\n",
       "    <tr style=\"text-align: right;\">\n",
       "      <th></th>\n",
       "      <th>state</th>\n",
       "      <th>date</th>\n",
       "      <th>critical_staffing_shortage_today_yes</th>\n",
       "      <th>critical_staffing_shortage_today_no</th>\n",
       "      <th>critical_staffing_shortage_today_not_reported</th>\n",
       "      <th>critical_staffing_shortage_anticipated_within_week_yes</th>\n",
       "      <th>critical_staffing_shortage_anticipated_within_week_no</th>\n",
       "      <th>critical_staffing_shortage_anticipated_within_week_not_reported</th>\n",
       "      <th>hospital_onset_covid</th>\n",
       "      <th>hospital_onset_covid_coverage</th>\n",
       "      <th>...</th>\n",
       "      <th>staffed_pediatric_icu_bed_occupancy_coverage</th>\n",
       "      <th>total_staffed_pediatric_icu_beds</th>\n",
       "      <th>total_staffed_pediatric_icu_beds_coverage</th>\n",
       "      <th>staffed_icu_pediatric_patients_confirmed_covid</th>\n",
       "      <th>on_hand_supply_therapeutic_c_bamlanivimab_etesevimab_courses</th>\n",
       "      <th>previous_week_therapeutic_c_bamlanivimab_etesevimab_courses_used</th>\n",
       "      <th>previous_day_admission_pediatric_covid_confirmed_0_4</th>\n",
       "      <th>previous_day_admission_pediatric_covid_confirmed_unknown</th>\n",
       "      <th>previous_day_admission_pediatric_covid_confirmed_12_17</th>\n",
       "      <th>previous_day_admission_pediatric_covid_confirmed_5_11</th>\n",
       "    </tr>\n",
       "  </thead>\n",
       "  <tbody>\n",
       "    <tr>\n",
       "      <th>0</th>\n",
       "      <td>AL</td>\n",
       "      <td>2020-01-01</td>\n",
       "      <td>0</td>\n",
       "      <td>0</td>\n",
       "      <td>1</td>\n",
       "      <td>0</td>\n",
       "      <td>0</td>\n",
       "      <td>1</td>\n",
       "      <td>NaN</td>\n",
       "      <td>0</td>\n",
       "      <td>...</td>\n",
       "      <td>0</td>\n",
       "      <td>NaN</td>\n",
       "      <td>0</td>\n",
       "      <td>NaN</td>\n",
       "      <td>NaN</td>\n",
       "      <td>NaN</td>\n",
       "      <td>NaN</td>\n",
       "      <td>NaN</td>\n",
       "      <td>NaN</td>\n",
       "      <td>NaN</td>\n",
       "    </tr>\n",
       "    <tr>\n",
       "      <th>1</th>\n",
       "      <td>HI</td>\n",
       "      <td>2020-01-01</td>\n",
       "      <td>0</td>\n",
       "      <td>0</td>\n",
       "      <td>1</td>\n",
       "      <td>0</td>\n",
       "      <td>0</td>\n",
       "      <td>1</td>\n",
       "      <td>0.0</td>\n",
       "      <td>1</td>\n",
       "      <td>...</td>\n",
       "      <td>0</td>\n",
       "      <td>NaN</td>\n",
       "      <td>0</td>\n",
       "      <td>NaN</td>\n",
       "      <td>NaN</td>\n",
       "      <td>NaN</td>\n",
       "      <td>NaN</td>\n",
       "      <td>NaN</td>\n",
       "      <td>NaN</td>\n",
       "      <td>NaN</td>\n",
       "    </tr>\n",
       "    <tr>\n",
       "      <th>2</th>\n",
       "      <td>IN</td>\n",
       "      <td>2020-01-01</td>\n",
       "      <td>0</td>\n",
       "      <td>0</td>\n",
       "      <td>1</td>\n",
       "      <td>0</td>\n",
       "      <td>0</td>\n",
       "      <td>1</td>\n",
       "      <td>0.0</td>\n",
       "      <td>1</td>\n",
       "      <td>...</td>\n",
       "      <td>0</td>\n",
       "      <td>NaN</td>\n",
       "      <td>0</td>\n",
       "      <td>NaN</td>\n",
       "      <td>NaN</td>\n",
       "      <td>NaN</td>\n",
       "      <td>NaN</td>\n",
       "      <td>NaN</td>\n",
       "      <td>NaN</td>\n",
       "      <td>NaN</td>\n",
       "    </tr>\n",
       "    <tr>\n",
       "      <th>3</th>\n",
       "      <td>LA</td>\n",
       "      <td>2020-01-01</td>\n",
       "      <td>0</td>\n",
       "      <td>0</td>\n",
       "      <td>1</td>\n",
       "      <td>0</td>\n",
       "      <td>0</td>\n",
       "      <td>1</td>\n",
       "      <td>NaN</td>\n",
       "      <td>0</td>\n",
       "      <td>...</td>\n",
       "      <td>0</td>\n",
       "      <td>NaN</td>\n",
       "      <td>0</td>\n",
       "      <td>NaN</td>\n",
       "      <td>NaN</td>\n",
       "      <td>NaN</td>\n",
       "      <td>NaN</td>\n",
       "      <td>NaN</td>\n",
       "      <td>NaN</td>\n",
       "      <td>NaN</td>\n",
       "    </tr>\n",
       "    <tr>\n",
       "      <th>4</th>\n",
       "      <td>MN</td>\n",
       "      <td>2020-01-01</td>\n",
       "      <td>0</td>\n",
       "      <td>0</td>\n",
       "      <td>1</td>\n",
       "      <td>0</td>\n",
       "      <td>0</td>\n",
       "      <td>1</td>\n",
       "      <td>0.0</td>\n",
       "      <td>1</td>\n",
       "      <td>...</td>\n",
       "      <td>0</td>\n",
       "      <td>NaN</td>\n",
       "      <td>0</td>\n",
       "      <td>NaN</td>\n",
       "      <td>NaN</td>\n",
       "      <td>NaN</td>\n",
       "      <td>NaN</td>\n",
       "      <td>NaN</td>\n",
       "      <td>NaN</td>\n",
       "      <td>NaN</td>\n",
       "    </tr>\n",
       "    <tr>\n",
       "      <th>...</th>\n",
       "      <td>...</td>\n",
       "      <td>...</td>\n",
       "      <td>...</td>\n",
       "      <td>...</td>\n",
       "      <td>...</td>\n",
       "      <td>...</td>\n",
       "      <td>...</td>\n",
       "      <td>...</td>\n",
       "      <td>...</td>\n",
       "      <td>...</td>\n",
       "      <td>...</td>\n",
       "      <td>...</td>\n",
       "      <td>...</td>\n",
       "      <td>...</td>\n",
       "      <td>...</td>\n",
       "      <td>...</td>\n",
       "      <td>...</td>\n",
       "      <td>...</td>\n",
       "      <td>...</td>\n",
       "      <td>...</td>\n",
       "      <td>...</td>\n",
       "    </tr>\n",
       "    <tr>\n",
       "      <th>47796</th>\n",
       "      <td>VT</td>\n",
       "      <td>2022-08-08</td>\n",
       "      <td>3</td>\n",
       "      <td>13</td>\n",
       "      <td>1</td>\n",
       "      <td>6</td>\n",
       "      <td>10</td>\n",
       "      <td>1</td>\n",
       "      <td>1.0</td>\n",
       "      <td>16</td>\n",
       "      <td>...</td>\n",
       "      <td>16</td>\n",
       "      <td>4.0</td>\n",
       "      <td>16</td>\n",
       "      <td>0.0</td>\n",
       "      <td>148.0</td>\n",
       "      <td>0.0</td>\n",
       "      <td>0.0</td>\n",
       "      <td>0.0</td>\n",
       "      <td>0.0</td>\n",
       "      <td>0.0</td>\n",
       "    </tr>\n",
       "    <tr>\n",
       "      <th>47797</th>\n",
       "      <td>WA</td>\n",
       "      <td>2022-08-08</td>\n",
       "      <td>0</td>\n",
       "      <td>38</td>\n",
       "      <td>52</td>\n",
       "      <td>3</td>\n",
       "      <td>42</td>\n",
       "      <td>45</td>\n",
       "      <td>33.0</td>\n",
       "      <td>88</td>\n",
       "      <td>...</td>\n",
       "      <td>86</td>\n",
       "      <td>124.0</td>\n",
       "      <td>86</td>\n",
       "      <td>2.0</td>\n",
       "      <td>25.0</td>\n",
       "      <td>0.0</td>\n",
       "      <td>1.0</td>\n",
       "      <td>0.0</td>\n",
       "      <td>1.0</td>\n",
       "      <td>0.0</td>\n",
       "    </tr>\n",
       "    <tr>\n",
       "      <th>47798</th>\n",
       "      <td>WI</td>\n",
       "      <td>2022-08-08</td>\n",
       "      <td>20</td>\n",
       "      <td>95</td>\n",
       "      <td>24</td>\n",
       "      <td>19</td>\n",
       "      <td>96</td>\n",
       "      <td>24</td>\n",
       "      <td>12.0</td>\n",
       "      <td>136</td>\n",
       "      <td>...</td>\n",
       "      <td>136</td>\n",
       "      <td>98.0</td>\n",
       "      <td>136</td>\n",
       "      <td>0.0</td>\n",
       "      <td>3122.0</td>\n",
       "      <td>46.0</td>\n",
       "      <td>1.0</td>\n",
       "      <td>0.0</td>\n",
       "      <td>2.0</td>\n",
       "      <td>2.0</td>\n",
       "    </tr>\n",
       "    <tr>\n",
       "      <th>47799</th>\n",
       "      <td>WV</td>\n",
       "      <td>2022-08-08</td>\n",
       "      <td>0</td>\n",
       "      <td>8</td>\n",
       "      <td>54</td>\n",
       "      <td>24</td>\n",
       "      <td>34</td>\n",
       "      <td>4</td>\n",
       "      <td>28.0</td>\n",
       "      <td>58</td>\n",
       "      <td>...</td>\n",
       "      <td>58</td>\n",
       "      <td>112.0</td>\n",
       "      <td>58</td>\n",
       "      <td>8.0</td>\n",
       "      <td>31.0</td>\n",
       "      <td>0.0</td>\n",
       "      <td>2.0</td>\n",
       "      <td>0.0</td>\n",
       "      <td>2.0</td>\n",
       "      <td>0.0</td>\n",
       "    </tr>\n",
       "    <tr>\n",
       "      <th>47800</th>\n",
       "      <td>WY</td>\n",
       "      <td>2022-08-08</td>\n",
       "      <td>0</td>\n",
       "      <td>2</td>\n",
       "      <td>27</td>\n",
       "      <td>5</td>\n",
       "      <td>19</td>\n",
       "      <td>5</td>\n",
       "      <td>1.0</td>\n",
       "      <td>27</td>\n",
       "      <td>...</td>\n",
       "      <td>27</td>\n",
       "      <td>0.0</td>\n",
       "      <td>27</td>\n",
       "      <td>0.0</td>\n",
       "      <td>344.0</td>\n",
       "      <td>0.0</td>\n",
       "      <td>0.0</td>\n",
       "      <td>0.0</td>\n",
       "      <td>0.0</td>\n",
       "      <td>0.0</td>\n",
       "    </tr>\n",
       "  </tbody>\n",
       "</table>\n",
       "<p>47801 rows × 134 columns</p>\n",
       "</div>"
      ],
      "text/plain": [
       "      state       date  critical_staffing_shortage_today_yes  \\\n",
       "0        AL 2020-01-01                                     0   \n",
       "1        HI 2020-01-01                                     0   \n",
       "2        IN 2020-01-01                                     0   \n",
       "3        LA 2020-01-01                                     0   \n",
       "4        MN 2020-01-01                                     0   \n",
       "...     ...        ...                                   ...   \n",
       "47796    VT 2022-08-08                                     3   \n",
       "47797    WA 2022-08-08                                     0   \n",
       "47798    WI 2022-08-08                                    20   \n",
       "47799    WV 2022-08-08                                     0   \n",
       "47800    WY 2022-08-08                                     0   \n",
       "\n",
       "       critical_staffing_shortage_today_no  \\\n",
       "0                                        0   \n",
       "1                                        0   \n",
       "2                                        0   \n",
       "3                                        0   \n",
       "4                                        0   \n",
       "...                                    ...   \n",
       "47796                                   13   \n",
       "47797                                   38   \n",
       "47798                                   95   \n",
       "47799                                    8   \n",
       "47800                                    2   \n",
       "\n",
       "       critical_staffing_shortage_today_not_reported  \\\n",
       "0                                                  1   \n",
       "1                                                  1   \n",
       "2                                                  1   \n",
       "3                                                  1   \n",
       "4                                                  1   \n",
       "...                                              ...   \n",
       "47796                                              1   \n",
       "47797                                             52   \n",
       "47798                                             24   \n",
       "47799                                             54   \n",
       "47800                                             27   \n",
       "\n",
       "       critical_staffing_shortage_anticipated_within_week_yes  \\\n",
       "0                                                      0        \n",
       "1                                                      0        \n",
       "2                                                      0        \n",
       "3                                                      0        \n",
       "4                                                      0        \n",
       "...                                                  ...        \n",
       "47796                                                  6        \n",
       "47797                                                  3        \n",
       "47798                                                 19        \n",
       "47799                                                 24        \n",
       "47800                                                  5        \n",
       "\n",
       "       critical_staffing_shortage_anticipated_within_week_no  \\\n",
       "0                                                      0       \n",
       "1                                                      0       \n",
       "2                                                      0       \n",
       "3                                                      0       \n",
       "4                                                      0       \n",
       "...                                                  ...       \n",
       "47796                                                 10       \n",
       "47797                                                 42       \n",
       "47798                                                 96       \n",
       "47799                                                 34       \n",
       "47800                                                 19       \n",
       "\n",
       "       critical_staffing_shortage_anticipated_within_week_not_reported  \\\n",
       "0                                                      1                 \n",
       "1                                                      1                 \n",
       "2                                                      1                 \n",
       "3                                                      1                 \n",
       "4                                                      1                 \n",
       "...                                                  ...                 \n",
       "47796                                                  1                 \n",
       "47797                                                 45                 \n",
       "47798                                                 24                 \n",
       "47799                                                  4                 \n",
       "47800                                                  5                 \n",
       "\n",
       "       hospital_onset_covid  hospital_onset_covid_coverage  ...  \\\n",
       "0                       NaN                              0  ...   \n",
       "1                       0.0                              1  ...   \n",
       "2                       0.0                              1  ...   \n",
       "3                       NaN                              0  ...   \n",
       "4                       0.0                              1  ...   \n",
       "...                     ...                            ...  ...   \n",
       "47796                   1.0                             16  ...   \n",
       "47797                  33.0                             88  ...   \n",
       "47798                  12.0                            136  ...   \n",
       "47799                  28.0                             58  ...   \n",
       "47800                   1.0                             27  ...   \n",
       "\n",
       "       staffed_pediatric_icu_bed_occupancy_coverage  \\\n",
       "0                                                 0   \n",
       "1                                                 0   \n",
       "2                                                 0   \n",
       "3                                                 0   \n",
       "4                                                 0   \n",
       "...                                             ...   \n",
       "47796                                            16   \n",
       "47797                                            86   \n",
       "47798                                           136   \n",
       "47799                                            58   \n",
       "47800                                            27   \n",
       "\n",
       "       total_staffed_pediatric_icu_beds  \\\n",
       "0                                   NaN   \n",
       "1                                   NaN   \n",
       "2                                   NaN   \n",
       "3                                   NaN   \n",
       "4                                   NaN   \n",
       "...                                 ...   \n",
       "47796                               4.0   \n",
       "47797                             124.0   \n",
       "47798                              98.0   \n",
       "47799                             112.0   \n",
       "47800                               0.0   \n",
       "\n",
       "       total_staffed_pediatric_icu_beds_coverage  \\\n",
       "0                                              0   \n",
       "1                                              0   \n",
       "2                                              0   \n",
       "3                                              0   \n",
       "4                                              0   \n",
       "...                                          ...   \n",
       "47796                                         16   \n",
       "47797                                         86   \n",
       "47798                                        136   \n",
       "47799                                         58   \n",
       "47800                                         27   \n",
       "\n",
       "       staffed_icu_pediatric_patients_confirmed_covid  \\\n",
       "0                                                 NaN   \n",
       "1                                                 NaN   \n",
       "2                                                 NaN   \n",
       "3                                                 NaN   \n",
       "4                                                 NaN   \n",
       "...                                               ...   \n",
       "47796                                             0.0   \n",
       "47797                                             2.0   \n",
       "47798                                             0.0   \n",
       "47799                                             8.0   \n",
       "47800                                             0.0   \n",
       "\n",
       "       on_hand_supply_therapeutic_c_bamlanivimab_etesevimab_courses  \\\n",
       "0                                                    NaN              \n",
       "1                                                    NaN              \n",
       "2                                                    NaN              \n",
       "3                                                    NaN              \n",
       "4                                                    NaN              \n",
       "...                                                  ...              \n",
       "47796                                              148.0              \n",
       "47797                                               25.0              \n",
       "47798                                             3122.0              \n",
       "47799                                               31.0              \n",
       "47800                                              344.0              \n",
       "\n",
       "       previous_week_therapeutic_c_bamlanivimab_etesevimab_courses_used  \\\n",
       "0                                                    NaN                  \n",
       "1                                                    NaN                  \n",
       "2                                                    NaN                  \n",
       "3                                                    NaN                  \n",
       "4                                                    NaN                  \n",
       "...                                                  ...                  \n",
       "47796                                                0.0                  \n",
       "47797                                                0.0                  \n",
       "47798                                               46.0                  \n",
       "47799                                                0.0                  \n",
       "47800                                                0.0                  \n",
       "\n",
       "       previous_day_admission_pediatric_covid_confirmed_0_4  \\\n",
       "0                                                    NaN      \n",
       "1                                                    NaN      \n",
       "2                                                    NaN      \n",
       "3                                                    NaN      \n",
       "4                                                    NaN      \n",
       "...                                                  ...      \n",
       "47796                                                0.0      \n",
       "47797                                                1.0      \n",
       "47798                                                1.0      \n",
       "47799                                                2.0      \n",
       "47800                                                0.0      \n",
       "\n",
       "       previous_day_admission_pediatric_covid_confirmed_unknown  \\\n",
       "0                                                    NaN          \n",
       "1                                                    NaN          \n",
       "2                                                    NaN          \n",
       "3                                                    NaN          \n",
       "4                                                    NaN          \n",
       "...                                                  ...          \n",
       "47796                                                0.0          \n",
       "47797                                                0.0          \n",
       "47798                                                0.0          \n",
       "47799                                                0.0          \n",
       "47800                                                0.0          \n",
       "\n",
       "       previous_day_admission_pediatric_covid_confirmed_12_17  \\\n",
       "0                                                    NaN        \n",
       "1                                                    NaN        \n",
       "2                                                    NaN        \n",
       "3                                                    NaN        \n",
       "4                                                    NaN        \n",
       "...                                                  ...        \n",
       "47796                                                0.0        \n",
       "47797                                                1.0        \n",
       "47798                                                2.0        \n",
       "47799                                                2.0        \n",
       "47800                                                0.0        \n",
       "\n",
       "       previous_day_admission_pediatric_covid_confirmed_5_11  \n",
       "0                                                    NaN      \n",
       "1                                                    NaN      \n",
       "2                                                    NaN      \n",
       "3                                                    NaN      \n",
       "4                                                    NaN      \n",
       "...                                                  ...      \n",
       "47796                                                0.0      \n",
       "47797                                                0.0      \n",
       "47798                                                2.0      \n",
       "47799                                                0.0      \n",
       "47800                                                0.0      \n",
       "\n",
       "[47801 rows x 134 columns]"
      ]
     },
     "execution_count": 2,
     "metadata": {},
     "output_type": "execute_result"
    }
   ],
   "source": [
    "table = pd.read_csv('my_table.csv')\n",
    "table['date'] = table['date'].map(lambda x: dt.datetime.strptime(x.split('T')[0], '%Y-%m-%d'))\n",
    "table.sort_values(['date','state'], inplace = True)\n",
    "table.reset_index(drop=True, inplace=True)\n",
    "table"
   ]
  },
  {
   "cell_type": "markdown",
   "metadata": {},
   "source": [
    "**1 - ¿Cuáles fueron los 5 Estados con mayor ocupación hospitalaria por COVID? Criterio de ocupación por cama común. Considere la cantidad de camas ocupadas con pacientes confirmados y tome como referencia los 6 primeros meses del 2020 - recuerde incluir la cifra de infectados en esos meses (acumulativo). ¿Influye el rango etario en este comportamiento?**\n",
    "\n",
    "Para resolver el problema, usaremos una tabla con los siguientes datos.\n",
    "| fecha | estado | camas_usadas_por_covid |\n",
    "|-|-|-|\n",
    "\n",
    "Estaremos resolviendo con el **promedio** de pacientes en el día"
   ]
  },
  {
   "cell_type": "code",
   "execution_count": 3,
   "metadata": {},
   "outputs": [
    {
     "data": {
      "text/html": [
       "<div>\n",
       "<style scoped>\n",
       "    .dataframe tbody tr th:only-of-type {\n",
       "        vertical-align: middle;\n",
       "    }\n",
       "\n",
       "    .dataframe tbody tr th {\n",
       "        vertical-align: top;\n",
       "    }\n",
       "\n",
       "    .dataframe thead th {\n",
       "        text-align: right;\n",
       "    }\n",
       "</style>\n",
       "<table border=\"1\" class=\"dataframe\">\n",
       "  <thead>\n",
       "    <tr style=\"text-align: right;\">\n",
       "      <th></th>\n",
       "      <th>date</th>\n",
       "      <th>state</th>\n",
       "      <th>inpatient_beds_used_covid</th>\n",
       "    </tr>\n",
       "  </thead>\n",
       "  <tbody>\n",
       "    <tr>\n",
       "      <th>0</th>\n",
       "      <td>2020-01-01</td>\n",
       "      <td>HI</td>\n",
       "      <td>0.0</td>\n",
       "    </tr>\n",
       "    <tr>\n",
       "      <th>1</th>\n",
       "      <td>2020-01-01</td>\n",
       "      <td>IN</td>\n",
       "      <td>0.0</td>\n",
       "    </tr>\n",
       "    <tr>\n",
       "      <th>2</th>\n",
       "      <td>2020-01-01</td>\n",
       "      <td>MN</td>\n",
       "      <td>0.0</td>\n",
       "    </tr>\n",
       "    <tr>\n",
       "      <th>3</th>\n",
       "      <td>2020-01-01</td>\n",
       "      <td>MT</td>\n",
       "      <td>0.0</td>\n",
       "    </tr>\n",
       "    <tr>\n",
       "      <th>4</th>\n",
       "      <td>2020-01-01</td>\n",
       "      <td>NC</td>\n",
       "      <td>0.0</td>\n",
       "    </tr>\n",
       "    <tr>\n",
       "      <th>...</th>\n",
       "      <td>...</td>\n",
       "      <td>...</td>\n",
       "      <td>...</td>\n",
       "    </tr>\n",
       "    <tr>\n",
       "      <th>6605</th>\n",
       "      <td>2020-06-30</td>\n",
       "      <td>VT</td>\n",
       "      <td>10.0</td>\n",
       "    </tr>\n",
       "    <tr>\n",
       "      <th>6606</th>\n",
       "      <td>2020-06-30</td>\n",
       "      <td>WA</td>\n",
       "      <td>500.0</td>\n",
       "    </tr>\n",
       "    <tr>\n",
       "      <th>6607</th>\n",
       "      <td>2020-06-30</td>\n",
       "      <td>WI</td>\n",
       "      <td>364.0</td>\n",
       "    </tr>\n",
       "    <tr>\n",
       "      <th>6608</th>\n",
       "      <td>2020-06-30</td>\n",
       "      <td>WV</td>\n",
       "      <td>91.0</td>\n",
       "    </tr>\n",
       "    <tr>\n",
       "      <th>6609</th>\n",
       "      <td>2020-06-30</td>\n",
       "      <td>WY</td>\n",
       "      <td>12.0</td>\n",
       "    </tr>\n",
       "  </tbody>\n",
       "</table>\n",
       "<p>6610 rows × 3 columns</p>\n",
       "</div>"
      ],
      "text/plain": [
       "           date state  inpatient_beds_used_covid\n",
       "0    2020-01-01    HI                        0.0\n",
       "1    2020-01-01    IN                        0.0\n",
       "2    2020-01-01    MN                        0.0\n",
       "3    2020-01-01    MT                        0.0\n",
       "4    2020-01-01    NC                        0.0\n",
       "...         ...   ...                        ...\n",
       "6605 2020-06-30    VT                       10.0\n",
       "6606 2020-06-30    WA                      500.0\n",
       "6607 2020-06-30    WI                      364.0\n",
       "6608 2020-06-30    WV                       91.0\n",
       "6609 2020-06-30    WY                       12.0\n",
       "\n",
       "[6610 rows x 3 columns]"
      ]
     },
     "execution_count": 3,
     "metadata": {},
     "output_type": "execute_result"
    }
   ],
   "source": [
    "fecha_inicio_01 = dt.datetime(2020,1,1) # Primero de enero del 2020\n",
    "fecha_final_01 = dt.datetime(2020,6,30) # 30 de Junio del 2020\n",
    "table01 = table[(table['date'] >= fecha_inicio_01) & (table['date'] <= fecha_final_01)].copy()\n",
    "table01 = table01[['date', 'state', 'inpatient_beds_used_covid']]\n",
    "table01.dropna(inplace=True)\n",
    "table01.reset_index(drop=True, inplace=True)\n",
    "table01"
   ]
  },
  {
   "cell_type": "markdown",
   "metadata": {},
   "source": [
    "Vemos la cantidad de registros que hay para cada estado:"
   ]
  },
  {
   "cell_type": "code",
   "execution_count": 4,
   "metadata": {},
   "outputs": [
    {
     "data": {
      "text/plain": [
       "HI    182\n",
       "MN    182\n",
       "MT    182\n",
       "NC    182\n",
       "IN    182\n",
       "TX    182\n",
       "NV    164\n",
       "KS    151\n",
       "IL    134\n",
       "MS    133\n",
       "WV    132\n",
       "MO    129\n",
       "OR    128\n",
       "CA    127\n",
       "PR    127\n",
       "WA    124\n",
       "ND    122\n",
       "WY    122\n",
       "PA    122\n",
       "OK    122\n",
       "NJ    122\n",
       "NE    122\n",
       "OH    122\n",
       "MI    122\n",
       "ME    122\n",
       "MD    122\n",
       "LA    122\n",
       "KY    122\n",
       "IA    122\n",
       "GA    122\n",
       "AL    121\n",
       "AZ    121\n",
       "SC    121\n",
       "VA    121\n",
       "RI    120\n",
       "WI    113\n",
       "AR    112\n",
       "FL    111\n",
       "ID    110\n",
       "CO    109\n",
       "NM    109\n",
       "NY    109\n",
       "TN    107\n",
       "CT    105\n",
       "VT    104\n",
       "UT    103\n",
       "AK    100\n",
       "SD     98\n",
       "DE     96\n",
       "MA     96\n",
       "NH     96\n",
       "DC     95\n",
       "VI     84\n",
       "Name: state, dtype: int64"
      ]
     },
     "execution_count": 4,
     "metadata": {},
     "output_type": "execute_result"
    }
   ],
   "source": [
    "table01['state'].value_counts()"
   ]
  },
  {
   "cell_type": "markdown",
   "metadata": {},
   "source": [
    "Debido a que hay diferentes cantidades de registros para cada estado, lo conveniente es usar el promedio de pacientes en cama por día."
   ]
  },
  {
   "cell_type": "code",
   "execution_count": 5,
   "metadata": {},
   "outputs": [
    {
     "data": {
      "text/html": [
       "<div>\n",
       "<style scoped>\n",
       "    .dataframe tbody tr th:only-of-type {\n",
       "        vertical-align: middle;\n",
       "    }\n",
       "\n",
       "    .dataframe tbody tr th {\n",
       "        vertical-align: top;\n",
       "    }\n",
       "\n",
       "    .dataframe thead th {\n",
       "        text-align: right;\n",
       "    }\n",
       "</style>\n",
       "<table border=\"1\" class=\"dataframe\">\n",
       "  <thead>\n",
       "    <tr style=\"text-align: right;\">\n",
       "      <th></th>\n",
       "      <th>Camas usadas por covid diariamente</th>\n",
       "      <th>Total en 6 meses</th>\n",
       "    </tr>\n",
       "    <tr>\n",
       "      <th>Estado</th>\n",
       "      <th></th>\n",
       "      <th></th>\n",
       "    </tr>\n",
       "  </thead>\n",
       "  <tbody>\n",
       "    <tr>\n",
       "      <th>NY</th>\n",
       "      <td>6298.422018</td>\n",
       "      <td>1.140014e+06</td>\n",
       "    </tr>\n",
       "    <tr>\n",
       "      <th>CA</th>\n",
       "      <td>3423.000000</td>\n",
       "      <td>6.195630e+05</td>\n",
       "    </tr>\n",
       "    <tr>\n",
       "      <th>FL</th>\n",
       "      <td>2902.945946</td>\n",
       "      <td>5.254332e+05</td>\n",
       "    </tr>\n",
       "    <tr>\n",
       "      <th>MA</th>\n",
       "      <td>2040.114583</td>\n",
       "      <td>3.692607e+05</td>\n",
       "    </tr>\n",
       "    <tr>\n",
       "      <th>IL</th>\n",
       "      <td>1597.089552</td>\n",
       "      <td>2.890732e+05</td>\n",
       "    </tr>\n",
       "  </tbody>\n",
       "</table>\n",
       "</div>"
      ],
      "text/plain": [
       "        Camas usadas por covid diariamente  Total en 6 meses\n",
       "Estado                                                      \n",
       "NY                             6298.422018      1.140014e+06\n",
       "CA                             3423.000000      6.195630e+05\n",
       "FL                             2902.945946      5.254332e+05\n",
       "MA                             2040.114583      3.692607e+05\n",
       "IL                             1597.089552      2.890732e+05"
      ]
     },
     "execution_count": 5,
     "metadata": {},
     "output_type": "execute_result"
    }
   ],
   "source": [
    "top_oc_hosp = table01[['state','inpatient_beds_used_covid']].groupby('state').mean().sort_values('inpatient_beds_used_covid', ascending=False)\n",
    "top_oc_hosp.rename(columns={'inpatient_beds_used_covid':'Camas usadas por covid diariamente'}, inplace=True)\n",
    "top_oc_hosp['Total en 6 meses'] = top_oc_hosp['Camas usadas por covid diariamente'] * (fecha_final_01 - fecha_inicio_01).days\n",
    "top_oc_hosp.index.set_names('Estado', inplace=True)\n",
    "top_oc_hosp.head()"
   ]
  },
  {
   "cell_type": "markdown",
   "metadata": {},
   "source": [
    "**2 - Analice la ocupación de camas (Común) por COVID en el Estado de Nueva York durante la cuarentena establecida e indique:**\n",
    "* **Intervalos de crecimiento y decrecimiento**\n",
    "* **Puntos críticos (mínimos y máximos)**\n",
    "\n",
    "Para este problema usaremos como fecha inicial de cuarentena el _22 de marzo del 2020_ y fecha final el _13 de junio del 2020_. De esta manera la pandemia duró 84 días contando estos días límites. Fuentes: <br>\n",
    "fecha inicial: https://edition.cnn.com/2020/03/20/politics/new-york-workforce-stay-home/index.html <br>\n",
    "fecha final: https://www.cbsnews.com/news/new-york-stay-at-home-extended-coronavirus-lockdown/ "
   ]
  },
  {
   "cell_type": "code",
   "execution_count": 6,
   "metadata": {},
   "outputs": [
    {
     "data": {
      "text/html": [
       "<div>\n",
       "<style scoped>\n",
       "    .dataframe tbody tr th:only-of-type {\n",
       "        vertical-align: middle;\n",
       "    }\n",
       "\n",
       "    .dataframe tbody tr th {\n",
       "        vertical-align: top;\n",
       "    }\n",
       "\n",
       "    .dataframe thead th {\n",
       "        text-align: right;\n",
       "    }\n",
       "</style>\n",
       "<table border=\"1\" class=\"dataframe\">\n",
       "  <thead>\n",
       "    <tr style=\"text-align: right;\">\n",
       "      <th></th>\n",
       "      <th>Fecha</th>\n",
       "      <th>Ocupación de camas por Covid en NY</th>\n",
       "    </tr>\n",
       "  </thead>\n",
       "  <tbody>\n",
       "    <tr>\n",
       "      <th>0</th>\n",
       "      <td>2020-03-22</td>\n",
       "      <td>324.0</td>\n",
       "    </tr>\n",
       "    <tr>\n",
       "      <th>1</th>\n",
       "      <td>2020-03-23</td>\n",
       "      <td>417.0</td>\n",
       "    </tr>\n",
       "    <tr>\n",
       "      <th>2</th>\n",
       "      <td>2020-03-24</td>\n",
       "      <td>554.0</td>\n",
       "    </tr>\n",
       "    <tr>\n",
       "      <th>3</th>\n",
       "      <td>2020-03-25</td>\n",
       "      <td>843.0</td>\n",
       "    </tr>\n",
       "    <tr>\n",
       "      <th>4</th>\n",
       "      <td>2020-03-26</td>\n",
       "      <td>992.0</td>\n",
       "    </tr>\n",
       "    <tr>\n",
       "      <th>...</th>\n",
       "      <td>...</td>\n",
       "      <td>...</td>\n",
       "    </tr>\n",
       "    <tr>\n",
       "      <th>79</th>\n",
       "      <td>2020-06-09</td>\n",
       "      <td>3001.0</td>\n",
       "    </tr>\n",
       "    <tr>\n",
       "      <th>80</th>\n",
       "      <td>2020-06-10</td>\n",
       "      <td>2835.0</td>\n",
       "    </tr>\n",
       "    <tr>\n",
       "      <th>81</th>\n",
       "      <td>2020-06-11</td>\n",
       "      <td>2772.0</td>\n",
       "    </tr>\n",
       "    <tr>\n",
       "      <th>82</th>\n",
       "      <td>2020-06-12</td>\n",
       "      <td>2638.0</td>\n",
       "    </tr>\n",
       "    <tr>\n",
       "      <th>83</th>\n",
       "      <td>2020-06-13</td>\n",
       "      <td>2530.0</td>\n",
       "    </tr>\n",
       "  </tbody>\n",
       "</table>\n",
       "<p>84 rows × 2 columns</p>\n",
       "</div>"
      ],
      "text/plain": [
       "        Fecha  Ocupación de camas por Covid en NY\n",
       "0  2020-03-22                               324.0\n",
       "1  2020-03-23                               417.0\n",
       "2  2020-03-24                               554.0\n",
       "3  2020-03-25                               843.0\n",
       "4  2020-03-26                               992.0\n",
       "..        ...                                 ...\n",
       "79 2020-06-09                              3001.0\n",
       "80 2020-06-10                              2835.0\n",
       "81 2020-06-11                              2772.0\n",
       "82 2020-06-12                              2638.0\n",
       "83 2020-06-13                              2530.0\n",
       "\n",
       "[84 rows x 2 columns]"
      ]
     },
     "execution_count": 6,
     "metadata": {},
     "output_type": "execute_result"
    }
   ],
   "source": [
    "fecha_inicio_02 = dt.datetime(2020,3,22) # 22 de marzo del 2020\n",
    "fecha_final_02 = dt.datetime(2020,6,13) # 13 de junio del 2020\n",
    "table02 = table[(table['date'] >= fecha_inicio_02) & (table['date'] <= fecha_final_02) & (table['state'] == 'NY')].copy()\n",
    "table02 = table02[['date', 'inpatient_beds_used_covid']]\n",
    "table02.reset_index(drop=True, inplace=True)\n",
    "table02.rename(columns={'date':'Fecha', 'state':'Estado', 'inpatient_beds_used_covid':'Ocupación de camas por Covid en NY'}, inplace = True)\n",
    "table02\n"
   ]
  },
  {
   "cell_type": "code",
   "execution_count": 7,
   "metadata": {},
   "outputs": [],
   "source": [
    "def add_criticos(table, columna):\n",
    "    casos = np.array([])\n",
    "    critico = np.array([])\n",
    "    if table.loc[1,columna] - table.loc[0,columna] > 0:\n",
    "        case = 'Creciente'\n",
    "    else:\n",
    "        case = 'Decreciente'\n",
    "    for index in table.index:\n",
    "        if index == 0 or index == table.index[-1]:\n",
    "            casos = np.append(casos,case)\n",
    "            if index == 0: critico = np.append(critico,'Limite')\n",
    "            else: critico = np.append(critico,'Limite')\n",
    "            continue\n",
    "        actual_value = table.loc[index, columna]\n",
    "        last_value = table.loc[index-1, columna]\n",
    "        next_value = table.loc[index+1, columna]\n",
    "        last_dif = actual_value - last_value\n",
    "        next_dif = next_value - actual_value\n",
    "        if last_dif*next_dif < 0 and last_dif < 0:\n",
    "            critico = np.append(critico, 'Mínimo')\n",
    "            casos = np.append(casos,'--')\n",
    "            case = 'Creciente'\n",
    "            continue\n",
    "        elif last_dif*next_dif < 0:\n",
    "            critico = np.append(critico, 'Máximo')\n",
    "            casos = np.append(casos,'--')\n",
    "            case = 'Decreciente'\n",
    "            continue\n",
    "        casos = np.append(casos,case)\n",
    "        critico = np.append(critico, '--')\n",
    "    table['Comportamiento'] = casos\n",
    "    table['Criticos'] = critico   "
   ]
  },
  {
   "cell_type": "code",
   "execution_count": 8,
   "metadata": {},
   "outputs": [
    {
     "data": {
      "text/html": [
       "<div>\n",
       "<style scoped>\n",
       "    .dataframe tbody tr th:only-of-type {\n",
       "        vertical-align: middle;\n",
       "    }\n",
       "\n",
       "    .dataframe tbody tr th {\n",
       "        vertical-align: top;\n",
       "    }\n",
       "\n",
       "    .dataframe thead th {\n",
       "        text-align: right;\n",
       "    }\n",
       "</style>\n",
       "<table border=\"1\" class=\"dataframe\">\n",
       "  <thead>\n",
       "    <tr style=\"text-align: right;\">\n",
       "      <th></th>\n",
       "      <th>Fecha</th>\n",
       "      <th>Ocupación de camas por Covid en NY</th>\n",
       "      <th>Comportamiento</th>\n",
       "      <th>Criticos</th>\n",
       "    </tr>\n",
       "  </thead>\n",
       "  <tbody>\n",
       "    <tr>\n",
       "      <th>0</th>\n",
       "      <td>2020-03-22</td>\n",
       "      <td>324.0</td>\n",
       "      <td>Creciente</td>\n",
       "      <td>Limite</td>\n",
       "    </tr>\n",
       "    <tr>\n",
       "      <th>1</th>\n",
       "      <td>2020-03-23</td>\n",
       "      <td>417.0</td>\n",
       "      <td>Creciente</td>\n",
       "      <td>--</td>\n",
       "    </tr>\n",
       "    <tr>\n",
       "      <th>2</th>\n",
       "      <td>2020-03-24</td>\n",
       "      <td>554.0</td>\n",
       "      <td>Creciente</td>\n",
       "      <td>--</td>\n",
       "    </tr>\n",
       "    <tr>\n",
       "      <th>3</th>\n",
       "      <td>2020-03-25</td>\n",
       "      <td>843.0</td>\n",
       "      <td>Creciente</td>\n",
       "      <td>--</td>\n",
       "    </tr>\n",
       "    <tr>\n",
       "      <th>4</th>\n",
       "      <td>2020-03-26</td>\n",
       "      <td>992.0</td>\n",
       "      <td>Creciente</td>\n",
       "      <td>--</td>\n",
       "    </tr>\n",
       "    <tr>\n",
       "      <th>...</th>\n",
       "      <td>...</td>\n",
       "      <td>...</td>\n",
       "      <td>...</td>\n",
       "      <td>...</td>\n",
       "    </tr>\n",
       "    <tr>\n",
       "      <th>79</th>\n",
       "      <td>2020-06-09</td>\n",
       "      <td>3001.0</td>\n",
       "      <td>Decreciente</td>\n",
       "      <td>--</td>\n",
       "    </tr>\n",
       "    <tr>\n",
       "      <th>80</th>\n",
       "      <td>2020-06-10</td>\n",
       "      <td>2835.0</td>\n",
       "      <td>Decreciente</td>\n",
       "      <td>--</td>\n",
       "    </tr>\n",
       "    <tr>\n",
       "      <th>81</th>\n",
       "      <td>2020-06-11</td>\n",
       "      <td>2772.0</td>\n",
       "      <td>Decreciente</td>\n",
       "      <td>--</td>\n",
       "    </tr>\n",
       "    <tr>\n",
       "      <th>82</th>\n",
       "      <td>2020-06-12</td>\n",
       "      <td>2638.0</td>\n",
       "      <td>Decreciente</td>\n",
       "      <td>--</td>\n",
       "    </tr>\n",
       "    <tr>\n",
       "      <th>83</th>\n",
       "      <td>2020-06-13</td>\n",
       "      <td>2530.0</td>\n",
       "      <td>Decreciente</td>\n",
       "      <td>Limite</td>\n",
       "    </tr>\n",
       "  </tbody>\n",
       "</table>\n",
       "<p>84 rows × 4 columns</p>\n",
       "</div>"
      ],
      "text/plain": [
       "        Fecha  Ocupación de camas por Covid en NY Comportamiento Criticos\n",
       "0  2020-03-22                               324.0      Creciente   Limite\n",
       "1  2020-03-23                               417.0      Creciente       --\n",
       "2  2020-03-24                               554.0      Creciente       --\n",
       "3  2020-03-25                               843.0      Creciente       --\n",
       "4  2020-03-26                               992.0      Creciente       --\n",
       "..        ...                                 ...            ...      ...\n",
       "79 2020-06-09                              3001.0    Decreciente       --\n",
       "80 2020-06-10                              2835.0    Decreciente       --\n",
       "81 2020-06-11                              2772.0    Decreciente       --\n",
       "82 2020-06-12                              2638.0    Decreciente       --\n",
       "83 2020-06-13                              2530.0    Decreciente   Limite\n",
       "\n",
       "[84 rows x 4 columns]"
      ]
     },
     "execution_count": 8,
     "metadata": {},
     "output_type": "execute_result"
    }
   ],
   "source": [
    "add_criticos(table02, 'Ocupación de camas por Covid en NY')\n",
    "table02"
   ]
  },
  {
   "cell_type": "code",
   "execution_count": 9,
   "metadata": {},
   "outputs": [
    {
     "data": {
      "application/vnd.plotly.v1+json": {
       "config": {
        "plotlyServerURL": "https://plot.ly"
       },
       "data": [
        {
         "mode": "lines",
         "name": "Número de camas",
         "type": "scatter",
         "x": [
          "2020-03-22T00:00:00",
          "2020-03-23T00:00:00",
          "2020-03-24T00:00:00",
          "2020-03-25T00:00:00",
          "2020-03-26T00:00:00",
          "2020-03-27T00:00:00",
          "2020-03-28T00:00:00",
          "2020-03-29T00:00:00",
          "2020-03-30T00:00:00",
          "2020-03-31T00:00:00",
          "2020-04-01T00:00:00",
          "2020-04-02T00:00:00",
          "2020-04-03T00:00:00",
          "2020-04-04T00:00:00",
          "2020-04-05T00:00:00",
          "2020-04-06T00:00:00",
          "2020-04-07T00:00:00",
          "2020-04-08T00:00:00",
          "2020-04-09T00:00:00",
          "2020-04-10T00:00:00",
          "2020-04-11T00:00:00",
          "2020-04-12T00:00:00",
          "2020-04-13T00:00:00",
          "2020-04-14T00:00:00",
          "2020-04-15T00:00:00",
          "2020-04-16T00:00:00",
          "2020-04-17T00:00:00",
          "2020-04-18T00:00:00",
          "2020-04-19T00:00:00",
          "2020-04-20T00:00:00",
          "2020-04-21T00:00:00",
          "2020-04-22T00:00:00",
          "2020-04-23T00:00:00",
          "2020-04-24T00:00:00",
          "2020-04-25T00:00:00",
          "2020-04-26T00:00:00",
          "2020-04-27T00:00:00",
          "2020-04-28T00:00:00",
          "2020-04-29T00:00:00",
          "2020-04-30T00:00:00",
          "2020-05-01T00:00:00",
          "2020-05-02T00:00:00",
          "2020-05-03T00:00:00",
          "2020-05-04T00:00:00",
          "2020-05-05T00:00:00",
          "2020-05-06T00:00:00",
          "2020-05-07T00:00:00",
          "2020-05-08T00:00:00",
          "2020-05-09T00:00:00",
          "2020-05-10T00:00:00",
          "2020-05-11T00:00:00",
          "2020-05-12T00:00:00",
          "2020-05-13T00:00:00",
          "2020-05-14T00:00:00",
          "2020-05-15T00:00:00",
          "2020-05-16T00:00:00",
          "2020-05-17T00:00:00",
          "2020-05-18T00:00:00",
          "2020-05-19T00:00:00",
          "2020-05-20T00:00:00",
          "2020-05-21T00:00:00",
          "2020-05-22T00:00:00",
          "2020-05-23T00:00:00",
          "2020-05-24T00:00:00",
          "2020-05-25T00:00:00",
          "2020-05-26T00:00:00",
          "2020-05-27T00:00:00",
          "2020-05-28T00:00:00",
          "2020-05-29T00:00:00",
          "2020-05-30T00:00:00",
          "2020-05-31T00:00:00",
          "2020-06-01T00:00:00",
          "2020-06-02T00:00:00",
          "2020-06-03T00:00:00",
          "2020-06-04T00:00:00",
          "2020-06-05T00:00:00",
          "2020-06-06T00:00:00",
          "2020-06-07T00:00:00",
          "2020-06-08T00:00:00",
          "2020-06-09T00:00:00",
          "2020-06-10T00:00:00",
          "2020-06-11T00:00:00",
          "2020-06-12T00:00:00",
          "2020-06-13T00:00:00"
         ],
         "y": [
          324,
          417,
          554,
          843,
          992,
          1205,
          1294,
          1630,
          5007,
          10251,
          11029,
          12278,
          12637,
          13107,
          12363,
          12711,
          12611,
          12787,
          13009,
          13369,
          13361,
          13443,
          13909,
          14126,
          14067,
          13419,
          13038,
          12838,
          12496,
          12507,
          12335,
          13005,
          12461,
          12009,
          11657,
          11453,
          11037,
          10736,
          10137,
          9662,
          9229,
          8802,
          8648,
          8591,
          8434,
          7942,
          7469,
          7049,
          6798,
          6674,
          6763,
          8237,
          8040,
          7875,
          7758,
          7580,
          5966,
          6110,
          5781,
          5580,
          5308,
          5056,
          4746,
          4659,
          4690,
          4708,
          4516,
          4172,
          4036,
          3939,
          3903,
          3836,
          3805,
          3970,
          4261,
          4166,
          3989,
          3720,
          3363,
          3001,
          2835,
          2772,
          2638,
          2530
         ]
        },
        {
         "mode": "markers",
         "name": "Máximos",
         "type": "scatter",
         "x": [
          "2020-04-04T00:00:00",
          "2020-04-06T00:00:00",
          "2020-04-10T00:00:00",
          "2020-04-14T00:00:00",
          "2020-04-20T00:00:00",
          "2020-04-22T00:00:00",
          "2020-05-12T00:00:00",
          "2020-05-18T00:00:00",
          "2020-05-26T00:00:00",
          "2020-06-04T00:00:00"
         ],
         "y": [
          13107,
          12711,
          13369,
          14126,
          12507,
          13005,
          8237,
          6110,
          4708,
          4261
         ]
        },
        {
         "mode": "markers",
         "name": "Mínimos",
         "type": "scatter",
         "x": [
          "2020-04-05T00:00:00",
          "2020-04-07T00:00:00",
          "2020-04-11T00:00:00",
          "2020-04-19T00:00:00",
          "2020-04-21T00:00:00",
          "2020-05-10T00:00:00",
          "2020-05-17T00:00:00",
          "2020-05-24T00:00:00",
          "2020-06-02T00:00:00"
         ],
         "y": [
          12363,
          12611,
          13361,
          12496,
          12335,
          6674,
          5966,
          4659,
          3805
         ]
        }
       ],
       "layout": {
        "annotations": [
         {
          "showarrow": false,
          "text": "C",
          "x": "2020-03-22T00:00:00",
          "xanchor": "left",
          "xref": "x",
          "y": 0,
          "yanchor": "bottom",
          "yref": "y domain"
         },
         {
          "showarrow": false,
          "text": "D",
          "x": "2020-04-04T00:00:00",
          "xanchor": "left",
          "xref": "x",
          "y": 0,
          "yanchor": "bottom",
          "yref": "y domain"
         },
         {
          "showarrow": false,
          "text": "C",
          "x": "2020-04-05T00:00:00",
          "xanchor": "left",
          "xref": "x",
          "y": 0,
          "yanchor": "bottom",
          "yref": "y domain"
         },
         {
          "showarrow": false,
          "text": "D",
          "x": "2020-04-06T00:00:00",
          "xanchor": "left",
          "xref": "x",
          "y": 0,
          "yanchor": "bottom",
          "yref": "y domain"
         },
         {
          "showarrow": false,
          "text": "C",
          "x": "2020-04-07T00:00:00",
          "xanchor": "left",
          "xref": "x",
          "y": 0,
          "yanchor": "bottom",
          "yref": "y domain"
         },
         {
          "showarrow": false,
          "text": "D",
          "x": "2020-04-10T00:00:00",
          "xanchor": "left",
          "xref": "x",
          "y": 0,
          "yanchor": "bottom",
          "yref": "y domain"
         },
         {
          "showarrow": false,
          "text": "C",
          "x": "2020-04-11T00:00:00",
          "xanchor": "left",
          "xref": "x",
          "y": 0,
          "yanchor": "bottom",
          "yref": "y domain"
         },
         {
          "showarrow": false,
          "text": "D",
          "x": "2020-04-14T00:00:00",
          "xanchor": "left",
          "xref": "x",
          "y": 0,
          "yanchor": "bottom",
          "yref": "y domain"
         },
         {
          "showarrow": false,
          "text": "C",
          "x": "2020-04-19T00:00:00",
          "xanchor": "left",
          "xref": "x",
          "y": 0,
          "yanchor": "bottom",
          "yref": "y domain"
         },
         {
          "showarrow": false,
          "text": "D",
          "x": "2020-04-20T00:00:00",
          "xanchor": "left",
          "xref": "x",
          "y": 0,
          "yanchor": "bottom",
          "yref": "y domain"
         },
         {
          "showarrow": false,
          "text": "C",
          "x": "2020-04-21T00:00:00",
          "xanchor": "left",
          "xref": "x",
          "y": 0,
          "yanchor": "bottom",
          "yref": "y domain"
         },
         {
          "showarrow": false,
          "text": "D",
          "x": "2020-04-22T00:00:00",
          "xanchor": "left",
          "xref": "x",
          "y": 0,
          "yanchor": "bottom",
          "yref": "y domain"
         },
         {
          "showarrow": false,
          "text": "C",
          "x": "2020-05-10T00:00:00",
          "xanchor": "left",
          "xref": "x",
          "y": 0,
          "yanchor": "bottom",
          "yref": "y domain"
         },
         {
          "showarrow": false,
          "text": "D",
          "x": "2020-05-12T00:00:00",
          "xanchor": "left",
          "xref": "x",
          "y": 0,
          "yanchor": "bottom",
          "yref": "y domain"
         },
         {
          "showarrow": false,
          "text": "C",
          "x": "2020-05-17T00:00:00",
          "xanchor": "left",
          "xref": "x",
          "y": 0,
          "yanchor": "bottom",
          "yref": "y domain"
         },
         {
          "showarrow": false,
          "text": "D",
          "x": "2020-05-18T00:00:00",
          "xanchor": "left",
          "xref": "x",
          "y": 0,
          "yanchor": "bottom",
          "yref": "y domain"
         },
         {
          "showarrow": false,
          "text": "C",
          "x": "2020-05-24T00:00:00",
          "xanchor": "left",
          "xref": "x",
          "y": 0,
          "yanchor": "bottom",
          "yref": "y domain"
         },
         {
          "showarrow": false,
          "text": "D",
          "x": "2020-05-26T00:00:00",
          "xanchor": "left",
          "xref": "x",
          "y": 0,
          "yanchor": "bottom",
          "yref": "y domain"
         },
         {
          "showarrow": false,
          "text": "C",
          "x": "2020-06-02T00:00:00",
          "xanchor": "left",
          "xref": "x",
          "y": 0,
          "yanchor": "bottom",
          "yref": "y domain"
         },
         {
          "showarrow": false,
          "text": "D",
          "x": "2020-06-04T00:00:00",
          "xanchor": "left",
          "xref": "x",
          "y": 0,
          "yanchor": "bottom",
          "yref": "y domain"
         }
        ],
        "shapes": [
         {
          "fillcolor": "red",
          "line": {
           "width": 0
          },
          "opacity": 0.2,
          "type": "rect",
          "x0": "2020-03-22T00:00:00",
          "x1": "2020-04-04T00:00:00",
          "xref": "x",
          "y0": 0,
          "y1": 1,
          "yref": "y domain"
         },
         {
          "fillcolor": "green",
          "line": {
           "width": 0
          },
          "opacity": 0.2,
          "type": "rect",
          "x0": "2020-04-04T00:00:00",
          "x1": "2020-04-05T00:00:00",
          "xref": "x",
          "y0": 0,
          "y1": 1,
          "yref": "y domain"
         },
         {
          "fillcolor": "red",
          "line": {
           "width": 0
          },
          "opacity": 0.2,
          "type": "rect",
          "x0": "2020-04-05T00:00:00",
          "x1": "2020-04-06T00:00:00",
          "xref": "x",
          "y0": 0,
          "y1": 1,
          "yref": "y domain"
         },
         {
          "fillcolor": "green",
          "line": {
           "width": 0
          },
          "opacity": 0.2,
          "type": "rect",
          "x0": "2020-04-06T00:00:00",
          "x1": "2020-04-07T00:00:00",
          "xref": "x",
          "y0": 0,
          "y1": 1,
          "yref": "y domain"
         },
         {
          "fillcolor": "red",
          "line": {
           "width": 0
          },
          "opacity": 0.2,
          "type": "rect",
          "x0": "2020-04-07T00:00:00",
          "x1": "2020-04-10T00:00:00",
          "xref": "x",
          "y0": 0,
          "y1": 1,
          "yref": "y domain"
         },
         {
          "fillcolor": "green",
          "line": {
           "width": 0
          },
          "opacity": 0.2,
          "type": "rect",
          "x0": "2020-04-10T00:00:00",
          "x1": "2020-04-11T00:00:00",
          "xref": "x",
          "y0": 0,
          "y1": 1,
          "yref": "y domain"
         },
         {
          "fillcolor": "red",
          "line": {
           "width": 0
          },
          "opacity": 0.2,
          "type": "rect",
          "x0": "2020-04-11T00:00:00",
          "x1": "2020-04-14T00:00:00",
          "xref": "x",
          "y0": 0,
          "y1": 1,
          "yref": "y domain"
         },
         {
          "fillcolor": "green",
          "line": {
           "width": 0
          },
          "opacity": 0.2,
          "type": "rect",
          "x0": "2020-04-14T00:00:00",
          "x1": "2020-04-19T00:00:00",
          "xref": "x",
          "y0": 0,
          "y1": 1,
          "yref": "y domain"
         },
         {
          "fillcolor": "red",
          "line": {
           "width": 0
          },
          "opacity": 0.2,
          "type": "rect",
          "x0": "2020-04-19T00:00:00",
          "x1": "2020-04-20T00:00:00",
          "xref": "x",
          "y0": 0,
          "y1": 1,
          "yref": "y domain"
         },
         {
          "fillcolor": "green",
          "line": {
           "width": 0
          },
          "opacity": 0.2,
          "type": "rect",
          "x0": "2020-04-20T00:00:00",
          "x1": "2020-04-21T00:00:00",
          "xref": "x",
          "y0": 0,
          "y1": 1,
          "yref": "y domain"
         },
         {
          "fillcolor": "red",
          "line": {
           "width": 0
          },
          "opacity": 0.2,
          "type": "rect",
          "x0": "2020-04-21T00:00:00",
          "x1": "2020-04-22T00:00:00",
          "xref": "x",
          "y0": 0,
          "y1": 1,
          "yref": "y domain"
         },
         {
          "fillcolor": "green",
          "line": {
           "width": 0
          },
          "opacity": 0.2,
          "type": "rect",
          "x0": "2020-04-22T00:00:00",
          "x1": "2020-05-10T00:00:00",
          "xref": "x",
          "y0": 0,
          "y1": 1,
          "yref": "y domain"
         },
         {
          "fillcolor": "red",
          "line": {
           "width": 0
          },
          "opacity": 0.2,
          "type": "rect",
          "x0": "2020-05-10T00:00:00",
          "x1": "2020-05-12T00:00:00",
          "xref": "x",
          "y0": 0,
          "y1": 1,
          "yref": "y domain"
         },
         {
          "fillcolor": "green",
          "line": {
           "width": 0
          },
          "opacity": 0.2,
          "type": "rect",
          "x0": "2020-05-12T00:00:00",
          "x1": "2020-05-17T00:00:00",
          "xref": "x",
          "y0": 0,
          "y1": 1,
          "yref": "y domain"
         },
         {
          "fillcolor": "red",
          "line": {
           "width": 0
          },
          "opacity": 0.2,
          "type": "rect",
          "x0": "2020-05-17T00:00:00",
          "x1": "2020-05-18T00:00:00",
          "xref": "x",
          "y0": 0,
          "y1": 1,
          "yref": "y domain"
         },
         {
          "fillcolor": "green",
          "line": {
           "width": 0
          },
          "opacity": 0.2,
          "type": "rect",
          "x0": "2020-05-18T00:00:00",
          "x1": "2020-05-24T00:00:00",
          "xref": "x",
          "y0": 0,
          "y1": 1,
          "yref": "y domain"
         },
         {
          "fillcolor": "red",
          "line": {
           "width": 0
          },
          "opacity": 0.2,
          "type": "rect",
          "x0": "2020-05-24T00:00:00",
          "x1": "2020-05-26T00:00:00",
          "xref": "x",
          "y0": 0,
          "y1": 1,
          "yref": "y domain"
         },
         {
          "fillcolor": "green",
          "line": {
           "width": 0
          },
          "opacity": 0.2,
          "type": "rect",
          "x0": "2020-05-26T00:00:00",
          "x1": "2020-06-02T00:00:00",
          "xref": "x",
          "y0": 0,
          "y1": 1,
          "yref": "y domain"
         },
         {
          "fillcolor": "red",
          "line": {
           "width": 0
          },
          "opacity": 0.2,
          "type": "rect",
          "x0": "2020-06-02T00:00:00",
          "x1": "2020-06-04T00:00:00",
          "xref": "x",
          "y0": 0,
          "y1": 1,
          "yref": "y domain"
         },
         {
          "fillcolor": "green",
          "line": {
           "width": 0
          },
          "opacity": 0.2,
          "type": "rect",
          "x0": "2020-06-04T00:00:00",
          "x1": "2020-06-13T00:00:00",
          "xref": "x",
          "y0": 0,
          "y1": 1,
          "yref": "y domain"
         }
        ],
        "template": {
         "data": {
          "bar": [
           {
            "error_x": {
             "color": "#2a3f5f"
            },
            "error_y": {
             "color": "#2a3f5f"
            },
            "marker": {
             "line": {
              "color": "#E5ECF6",
              "width": 0.5
             },
             "pattern": {
              "fillmode": "overlay",
              "size": 10,
              "solidity": 0.2
             }
            },
            "type": "bar"
           }
          ],
          "barpolar": [
           {
            "marker": {
             "line": {
              "color": "#E5ECF6",
              "width": 0.5
             },
             "pattern": {
              "fillmode": "overlay",
              "size": 10,
              "solidity": 0.2
             }
            },
            "type": "barpolar"
           }
          ],
          "carpet": [
           {
            "aaxis": {
             "endlinecolor": "#2a3f5f",
             "gridcolor": "white",
             "linecolor": "white",
             "minorgridcolor": "white",
             "startlinecolor": "#2a3f5f"
            },
            "baxis": {
             "endlinecolor": "#2a3f5f",
             "gridcolor": "white",
             "linecolor": "white",
             "minorgridcolor": "white",
             "startlinecolor": "#2a3f5f"
            },
            "type": "carpet"
           }
          ],
          "choropleth": [
           {
            "colorbar": {
             "outlinewidth": 0,
             "ticks": ""
            },
            "type": "choropleth"
           }
          ],
          "contour": [
           {
            "colorbar": {
             "outlinewidth": 0,
             "ticks": ""
            },
            "colorscale": [
             [
              0,
              "#0d0887"
             ],
             [
              0.1111111111111111,
              "#46039f"
             ],
             [
              0.2222222222222222,
              "#7201a8"
             ],
             [
              0.3333333333333333,
              "#9c179e"
             ],
             [
              0.4444444444444444,
              "#bd3786"
             ],
             [
              0.5555555555555556,
              "#d8576b"
             ],
             [
              0.6666666666666666,
              "#ed7953"
             ],
             [
              0.7777777777777778,
              "#fb9f3a"
             ],
             [
              0.8888888888888888,
              "#fdca26"
             ],
             [
              1,
              "#f0f921"
             ]
            ],
            "type": "contour"
           }
          ],
          "contourcarpet": [
           {
            "colorbar": {
             "outlinewidth": 0,
             "ticks": ""
            },
            "type": "contourcarpet"
           }
          ],
          "heatmap": [
           {
            "colorbar": {
             "outlinewidth": 0,
             "ticks": ""
            },
            "colorscale": [
             [
              0,
              "#0d0887"
             ],
             [
              0.1111111111111111,
              "#46039f"
             ],
             [
              0.2222222222222222,
              "#7201a8"
             ],
             [
              0.3333333333333333,
              "#9c179e"
             ],
             [
              0.4444444444444444,
              "#bd3786"
             ],
             [
              0.5555555555555556,
              "#d8576b"
             ],
             [
              0.6666666666666666,
              "#ed7953"
             ],
             [
              0.7777777777777778,
              "#fb9f3a"
             ],
             [
              0.8888888888888888,
              "#fdca26"
             ],
             [
              1,
              "#f0f921"
             ]
            ],
            "type": "heatmap"
           }
          ],
          "heatmapgl": [
           {
            "colorbar": {
             "outlinewidth": 0,
             "ticks": ""
            },
            "colorscale": [
             [
              0,
              "#0d0887"
             ],
             [
              0.1111111111111111,
              "#46039f"
             ],
             [
              0.2222222222222222,
              "#7201a8"
             ],
             [
              0.3333333333333333,
              "#9c179e"
             ],
             [
              0.4444444444444444,
              "#bd3786"
             ],
             [
              0.5555555555555556,
              "#d8576b"
             ],
             [
              0.6666666666666666,
              "#ed7953"
             ],
             [
              0.7777777777777778,
              "#fb9f3a"
             ],
             [
              0.8888888888888888,
              "#fdca26"
             ],
             [
              1,
              "#f0f921"
             ]
            ],
            "type": "heatmapgl"
           }
          ],
          "histogram": [
           {
            "marker": {
             "pattern": {
              "fillmode": "overlay",
              "size": 10,
              "solidity": 0.2
             }
            },
            "type": "histogram"
           }
          ],
          "histogram2d": [
           {
            "colorbar": {
             "outlinewidth": 0,
             "ticks": ""
            },
            "colorscale": [
             [
              0,
              "#0d0887"
             ],
             [
              0.1111111111111111,
              "#46039f"
             ],
             [
              0.2222222222222222,
              "#7201a8"
             ],
             [
              0.3333333333333333,
              "#9c179e"
             ],
             [
              0.4444444444444444,
              "#bd3786"
             ],
             [
              0.5555555555555556,
              "#d8576b"
             ],
             [
              0.6666666666666666,
              "#ed7953"
             ],
             [
              0.7777777777777778,
              "#fb9f3a"
             ],
             [
              0.8888888888888888,
              "#fdca26"
             ],
             [
              1,
              "#f0f921"
             ]
            ],
            "type": "histogram2d"
           }
          ],
          "histogram2dcontour": [
           {
            "colorbar": {
             "outlinewidth": 0,
             "ticks": ""
            },
            "colorscale": [
             [
              0,
              "#0d0887"
             ],
             [
              0.1111111111111111,
              "#46039f"
             ],
             [
              0.2222222222222222,
              "#7201a8"
             ],
             [
              0.3333333333333333,
              "#9c179e"
             ],
             [
              0.4444444444444444,
              "#bd3786"
             ],
             [
              0.5555555555555556,
              "#d8576b"
             ],
             [
              0.6666666666666666,
              "#ed7953"
             ],
             [
              0.7777777777777778,
              "#fb9f3a"
             ],
             [
              0.8888888888888888,
              "#fdca26"
             ],
             [
              1,
              "#f0f921"
             ]
            ],
            "type": "histogram2dcontour"
           }
          ],
          "mesh3d": [
           {
            "colorbar": {
             "outlinewidth": 0,
             "ticks": ""
            },
            "type": "mesh3d"
           }
          ],
          "parcoords": [
           {
            "line": {
             "colorbar": {
              "outlinewidth": 0,
              "ticks": ""
             }
            },
            "type": "parcoords"
           }
          ],
          "pie": [
           {
            "automargin": true,
            "type": "pie"
           }
          ],
          "scatter": [
           {
            "fillpattern": {
             "fillmode": "overlay",
             "size": 10,
             "solidity": 0.2
            },
            "type": "scatter"
           }
          ],
          "scatter3d": [
           {
            "line": {
             "colorbar": {
              "outlinewidth": 0,
              "ticks": ""
             }
            },
            "marker": {
             "colorbar": {
              "outlinewidth": 0,
              "ticks": ""
             }
            },
            "type": "scatter3d"
           }
          ],
          "scattercarpet": [
           {
            "marker": {
             "colorbar": {
              "outlinewidth": 0,
              "ticks": ""
             }
            },
            "type": "scattercarpet"
           }
          ],
          "scattergeo": [
           {
            "marker": {
             "colorbar": {
              "outlinewidth": 0,
              "ticks": ""
             }
            },
            "type": "scattergeo"
           }
          ],
          "scattergl": [
           {
            "marker": {
             "colorbar": {
              "outlinewidth": 0,
              "ticks": ""
             }
            },
            "type": "scattergl"
           }
          ],
          "scattermapbox": [
           {
            "marker": {
             "colorbar": {
              "outlinewidth": 0,
              "ticks": ""
             }
            },
            "type": "scattermapbox"
           }
          ],
          "scatterpolar": [
           {
            "marker": {
             "colorbar": {
              "outlinewidth": 0,
              "ticks": ""
             }
            },
            "type": "scatterpolar"
           }
          ],
          "scatterpolargl": [
           {
            "marker": {
             "colorbar": {
              "outlinewidth": 0,
              "ticks": ""
             }
            },
            "type": "scatterpolargl"
           }
          ],
          "scatterternary": [
           {
            "marker": {
             "colorbar": {
              "outlinewidth": 0,
              "ticks": ""
             }
            },
            "type": "scatterternary"
           }
          ],
          "surface": [
           {
            "colorbar": {
             "outlinewidth": 0,
             "ticks": ""
            },
            "colorscale": [
             [
              0,
              "#0d0887"
             ],
             [
              0.1111111111111111,
              "#46039f"
             ],
             [
              0.2222222222222222,
              "#7201a8"
             ],
             [
              0.3333333333333333,
              "#9c179e"
             ],
             [
              0.4444444444444444,
              "#bd3786"
             ],
             [
              0.5555555555555556,
              "#d8576b"
             ],
             [
              0.6666666666666666,
              "#ed7953"
             ],
             [
              0.7777777777777778,
              "#fb9f3a"
             ],
             [
              0.8888888888888888,
              "#fdca26"
             ],
             [
              1,
              "#f0f921"
             ]
            ],
            "type": "surface"
           }
          ],
          "table": [
           {
            "cells": {
             "fill": {
              "color": "#EBF0F8"
             },
             "line": {
              "color": "white"
             }
            },
            "header": {
             "fill": {
              "color": "#C8D4E3"
             },
             "line": {
              "color": "white"
             }
            },
            "type": "table"
           }
          ]
         },
         "layout": {
          "annotationdefaults": {
           "arrowcolor": "#2a3f5f",
           "arrowhead": 0,
           "arrowwidth": 1
          },
          "autotypenumbers": "strict",
          "coloraxis": {
           "colorbar": {
            "outlinewidth": 0,
            "ticks": ""
           }
          },
          "colorscale": {
           "diverging": [
            [
             0,
             "#8e0152"
            ],
            [
             0.1,
             "#c51b7d"
            ],
            [
             0.2,
             "#de77ae"
            ],
            [
             0.3,
             "#f1b6da"
            ],
            [
             0.4,
             "#fde0ef"
            ],
            [
             0.5,
             "#f7f7f7"
            ],
            [
             0.6,
             "#e6f5d0"
            ],
            [
             0.7,
             "#b8e186"
            ],
            [
             0.8,
             "#7fbc41"
            ],
            [
             0.9,
             "#4d9221"
            ],
            [
             1,
             "#276419"
            ]
           ],
           "sequential": [
            [
             0,
             "#0d0887"
            ],
            [
             0.1111111111111111,
             "#46039f"
            ],
            [
             0.2222222222222222,
             "#7201a8"
            ],
            [
             0.3333333333333333,
             "#9c179e"
            ],
            [
             0.4444444444444444,
             "#bd3786"
            ],
            [
             0.5555555555555556,
             "#d8576b"
            ],
            [
             0.6666666666666666,
             "#ed7953"
            ],
            [
             0.7777777777777778,
             "#fb9f3a"
            ],
            [
             0.8888888888888888,
             "#fdca26"
            ],
            [
             1,
             "#f0f921"
            ]
           ],
           "sequentialminus": [
            [
             0,
             "#0d0887"
            ],
            [
             0.1111111111111111,
             "#46039f"
            ],
            [
             0.2222222222222222,
             "#7201a8"
            ],
            [
             0.3333333333333333,
             "#9c179e"
            ],
            [
             0.4444444444444444,
             "#bd3786"
            ],
            [
             0.5555555555555556,
             "#d8576b"
            ],
            [
             0.6666666666666666,
             "#ed7953"
            ],
            [
             0.7777777777777778,
             "#fb9f3a"
            ],
            [
             0.8888888888888888,
             "#fdca26"
            ],
            [
             1,
             "#f0f921"
            ]
           ]
          },
          "colorway": [
           "#636efa",
           "#EF553B",
           "#00cc96",
           "#ab63fa",
           "#FFA15A",
           "#19d3f3",
           "#FF6692",
           "#B6E880",
           "#FF97FF",
           "#FECB52"
          ],
          "font": {
           "color": "#2a3f5f"
          },
          "geo": {
           "bgcolor": "white",
           "lakecolor": "white",
           "landcolor": "#E5ECF6",
           "showlakes": true,
           "showland": true,
           "subunitcolor": "white"
          },
          "hoverlabel": {
           "align": "left"
          },
          "hovermode": "closest",
          "mapbox": {
           "style": "light"
          },
          "paper_bgcolor": "white",
          "plot_bgcolor": "#E5ECF6",
          "polar": {
           "angularaxis": {
            "gridcolor": "white",
            "linecolor": "white",
            "ticks": ""
           },
           "bgcolor": "#E5ECF6",
           "radialaxis": {
            "gridcolor": "white",
            "linecolor": "white",
            "ticks": ""
           }
          },
          "scene": {
           "xaxis": {
            "backgroundcolor": "#E5ECF6",
            "gridcolor": "white",
            "gridwidth": 2,
            "linecolor": "white",
            "showbackground": true,
            "ticks": "",
            "zerolinecolor": "white"
           },
           "yaxis": {
            "backgroundcolor": "#E5ECF6",
            "gridcolor": "white",
            "gridwidth": 2,
            "linecolor": "white",
            "showbackground": true,
            "ticks": "",
            "zerolinecolor": "white"
           },
           "zaxis": {
            "backgroundcolor": "#E5ECF6",
            "gridcolor": "white",
            "gridwidth": 2,
            "linecolor": "white",
            "showbackground": true,
            "ticks": "",
            "zerolinecolor": "white"
           }
          },
          "shapedefaults": {
           "line": {
            "color": "#2a3f5f"
           }
          },
          "ternary": {
           "aaxis": {
            "gridcolor": "white",
            "linecolor": "white",
            "ticks": ""
           },
           "baxis": {
            "gridcolor": "white",
            "linecolor": "white",
            "ticks": ""
           },
           "bgcolor": "#E5ECF6",
           "caxis": {
            "gridcolor": "white",
            "linecolor": "white",
            "ticks": ""
           }
          },
          "title": {
           "x": 0.05
          },
          "xaxis": {
           "automargin": true,
           "gridcolor": "white",
           "linecolor": "white",
           "ticks": "",
           "title": {
            "standoff": 15
           },
           "zerolinecolor": "white",
           "zerolinewidth": 2
          },
          "yaxis": {
           "automargin": true,
           "gridcolor": "white",
           "linecolor": "white",
           "ticks": "",
           "title": {
            "standoff": 15
           },
           "zerolinecolor": "white",
           "zerolinewidth": 2
          }
         }
        },
        "title": {
         "text": "Ocupación de camas por Covid en NY"
        },
        "xaxis": {
         "title": {
          "text": "Fecha"
         }
        },
        "yaxis": {
         "title": {
          "text": "Número de camas"
         }
        }
       }
      }
     },
     "metadata": {},
     "output_type": "display_data"
    }
   ],
   "source": [
    "fig02 = go.Figure()\n",
    "x0 = table02.loc[0,'Fecha']\n",
    "comp = table02.loc[0,'Comportamiento']\n",
    "for index in table02.index:\n",
    "    if index == 0:\n",
    "        continue\n",
    "    elif table02.loc[index,'Comportamiento'] == '--':\n",
    "        x1 = table02.loc[index,'Fecha']\n",
    "        if comp == 'Creciente': color = 'red'\n",
    "        else: color = 'green'\n",
    "        fig02.add_vrect(x0,x1, fillcolor=color, line_width=0, opacity=0.2, annotation_text=comp[0], annotation_position=\"bottom left\")\n",
    "        x0 = table02.loc[index,'Fecha']\n",
    "        if comp == 'Creciente': comp = 'Decreciente'\n",
    "        else: comp = 'Creciente'\n",
    "        continue\n",
    "    elif index == table02.index[-1]:\n",
    "        x1 = table02.loc[index,'Fecha']\n",
    "        if comp == 'Creciente': color = 'red'\n",
    "        else: color = 'green'\n",
    "        fig02.add_vrect(x0,x1, fillcolor=color, line_width=0, opacity=0.2, annotation_text=comp[0], annotation_position=\"bottom left\",)\n",
    "        continue\n",
    "fig02.add_trace(go.Scatter(x = table02['Fecha'], y = table02['Ocupación de camas por Covid en NY'], mode='lines', name='Número de camas'))\n",
    "table02_ = table02[table02['Criticos'] == 'Máximo']\n",
    "fig02.add_trace(go.Scatter(x = table02_['Fecha'], y = table02_['Ocupación de camas por Covid en NY'], mode='markers', name='Máximos'))\n",
    "table02_ = table02[table02['Criticos'] == 'Mínimo']\n",
    "fig02.add_trace(go.Scatter(x = table02_['Fecha'], y = table02_['Ocupación de camas por Covid en NY'], mode='markers', name='Mínimos'))\n",
    "fig02.update_layout(\n",
    "    title='Ocupación de camas por Covid en NY',\n",
    "    xaxis_title = 'Fecha',\n",
    "    yaxis_title = 'Número de camas')"
   ]
  },
  {
   "cell_type": "markdown",
   "metadata": {},
   "source": [
    "Noticias relevantes\n",
    "https://pix11.com/news/coronavirus/latest-coronavirus-updates-in-new-york-tuesday-april-14-2020/"
   ]
  },
  {
   "cell_type": "markdown",
   "metadata": {},
   "source": [
    "**3 - ¿Cuáles fueron los cinco Estados que más camas UCI -Unidades de Cuidados Intensivos- utilizaron durante el año 2020? La medición debe realizarse en términos absolutos.**"
   ]
  },
  {
   "cell_type": "code",
   "execution_count": 10,
   "metadata": {},
   "outputs": [
    {
     "data": {
      "text/html": [
       "<div>\n",
       "<style scoped>\n",
       "    .dataframe tbody tr th:only-of-type {\n",
       "        vertical-align: middle;\n",
       "    }\n",
       "\n",
       "    .dataframe tbody tr th {\n",
       "        vertical-align: top;\n",
       "    }\n",
       "\n",
       "    .dataframe thead th {\n",
       "        text-align: right;\n",
       "    }\n",
       "</style>\n",
       "<table border=\"1\" class=\"dataframe\">\n",
       "  <thead>\n",
       "    <tr style=\"text-align: right;\">\n",
       "      <th></th>\n",
       "      <th>Estado</th>\n",
       "      <th>Ocupación de camas por adultos en UCI</th>\n",
       "    </tr>\n",
       "  </thead>\n",
       "  <tbody>\n",
       "    <tr>\n",
       "      <th>0</th>\n",
       "      <td>TX</td>\n",
       "      <td>991193.0</td>\n",
       "    </tr>\n",
       "    <tr>\n",
       "      <th>1</th>\n",
       "      <td>CA</td>\n",
       "      <td>901654.0</td>\n",
       "    </tr>\n",
       "    <tr>\n",
       "      <th>2</th>\n",
       "      <td>FL</td>\n",
       "      <td>799387.0</td>\n",
       "    </tr>\n",
       "    <tr>\n",
       "      <th>3</th>\n",
       "      <td>NY</td>\n",
       "      <td>495372.0</td>\n",
       "    </tr>\n",
       "    <tr>\n",
       "      <th>4</th>\n",
       "      <td>PA</td>\n",
       "      <td>465537.0</td>\n",
       "    </tr>\n",
       "  </tbody>\n",
       "</table>\n",
       "</div>"
      ],
      "text/plain": [
       "  Estado  Ocupación de camas por adultos en UCI\n",
       "0     TX                               991193.0\n",
       "1     CA                               901654.0\n",
       "2     FL                               799387.0\n",
       "3     NY                               495372.0\n",
       "4     PA                               465537.0"
      ]
     },
     "execution_count": 10,
     "metadata": {},
     "output_type": "execute_result"
    }
   ],
   "source": [
    "fecha_inicio_03 = dt.datetime(2020,1,1) # 1ro de enero del 2020\n",
    "fecha_final_03 = dt.datetime(2020,12,31) # 31 de diciembre del 2020\n",
    "table03 = table[(table['date'] >= fecha_inicio_03) & (table['date'] <= fecha_final_03)].copy()\n",
    "table03 = table03[['date', 'state', 'staffed_adult_icu_bed_occupancy']]\n",
    "table03.dropna(inplace=True)\n",
    "table03.reset_index(drop=True, inplace=True)\n",
    "table03.rename(columns={'date':'Fecha', 'state':'Estado', 'staffed_adult_icu_bed_occupancy':'Ocupación de camas por adultos en UCI'}, inplace = True)\n",
    "table03 = table03[['Estado', 'Ocupación de camas por adultos en UCI']].groupby('Estado').sum().sort_values('Ocupación de camas por adultos en UCI', ascending=False).reset_index()\n",
    "table03.head()"
   ]
  },
  {
   "cell_type": "code",
   "execution_count": 11,
   "metadata": {},
   "outputs": [
    {
     "data": {
      "application/vnd.plotly.v1+json": {
       "config": {
        "plotlyServerURL": "https://plot.ly"
       },
       "data": [
        {
         "marker": {
          "color": [
           "rgb(228,26,28)",
           "rgb(228,26,28)",
           "rgb(228,26,28)",
           "rgb(228,26,28)",
           "rgb(228,26,28)",
           "rgb(179,179,179)",
           "rgb(179,179,179)",
           "rgb(179,179,179)",
           "rgb(179,179,179)",
           "rgb(179,179,179)",
           "rgb(179,179,179)",
           "rgb(179,179,179)",
           "rgb(179,179,179)",
           "rgb(179,179,179)",
           "rgb(179,179,179)"
          ]
         },
         "text": [
          991193,
          901654,
          799387,
          495372,
          465537,
          453317,
          348278,
          307411,
          305983,
          295420,
          278178,
          247611,
          241837,
          216557,
          211593
         ],
         "textposition": "auto",
         "texttemplate": "%{text:.3s}",
         "type": "bar",
         "x": [
          "TX",
          "CA",
          "FL",
          "NY",
          "PA",
          "OH",
          "IL",
          "GA",
          "NC",
          "MI",
          "TN",
          "IN",
          "MO",
          "LA",
          "AL"
         ],
         "y": [
          991193,
          901654,
          799387,
          495372,
          465537,
          453317,
          348278,
          307411,
          305983,
          295420,
          278178,
          247611,
          241837,
          216557,
          211593
         ]
        }
       ],
       "layout": {
        "template": {
         "data": {
          "bar": [
           {
            "error_x": {
             "color": "#2a3f5f"
            },
            "error_y": {
             "color": "#2a3f5f"
            },
            "marker": {
             "line": {
              "color": "#E5ECF6",
              "width": 0.5
             },
             "pattern": {
              "fillmode": "overlay",
              "size": 10,
              "solidity": 0.2
             }
            },
            "type": "bar"
           }
          ],
          "barpolar": [
           {
            "marker": {
             "line": {
              "color": "#E5ECF6",
              "width": 0.5
             },
             "pattern": {
              "fillmode": "overlay",
              "size": 10,
              "solidity": 0.2
             }
            },
            "type": "barpolar"
           }
          ],
          "carpet": [
           {
            "aaxis": {
             "endlinecolor": "#2a3f5f",
             "gridcolor": "white",
             "linecolor": "white",
             "minorgridcolor": "white",
             "startlinecolor": "#2a3f5f"
            },
            "baxis": {
             "endlinecolor": "#2a3f5f",
             "gridcolor": "white",
             "linecolor": "white",
             "minorgridcolor": "white",
             "startlinecolor": "#2a3f5f"
            },
            "type": "carpet"
           }
          ],
          "choropleth": [
           {
            "colorbar": {
             "outlinewidth": 0,
             "ticks": ""
            },
            "type": "choropleth"
           }
          ],
          "contour": [
           {
            "colorbar": {
             "outlinewidth": 0,
             "ticks": ""
            },
            "colorscale": [
             [
              0,
              "#0d0887"
             ],
             [
              0.1111111111111111,
              "#46039f"
             ],
             [
              0.2222222222222222,
              "#7201a8"
             ],
             [
              0.3333333333333333,
              "#9c179e"
             ],
             [
              0.4444444444444444,
              "#bd3786"
             ],
             [
              0.5555555555555556,
              "#d8576b"
             ],
             [
              0.6666666666666666,
              "#ed7953"
             ],
             [
              0.7777777777777778,
              "#fb9f3a"
             ],
             [
              0.8888888888888888,
              "#fdca26"
             ],
             [
              1,
              "#f0f921"
             ]
            ],
            "type": "contour"
           }
          ],
          "contourcarpet": [
           {
            "colorbar": {
             "outlinewidth": 0,
             "ticks": ""
            },
            "type": "contourcarpet"
           }
          ],
          "heatmap": [
           {
            "colorbar": {
             "outlinewidth": 0,
             "ticks": ""
            },
            "colorscale": [
             [
              0,
              "#0d0887"
             ],
             [
              0.1111111111111111,
              "#46039f"
             ],
             [
              0.2222222222222222,
              "#7201a8"
             ],
             [
              0.3333333333333333,
              "#9c179e"
             ],
             [
              0.4444444444444444,
              "#bd3786"
             ],
             [
              0.5555555555555556,
              "#d8576b"
             ],
             [
              0.6666666666666666,
              "#ed7953"
             ],
             [
              0.7777777777777778,
              "#fb9f3a"
             ],
             [
              0.8888888888888888,
              "#fdca26"
             ],
             [
              1,
              "#f0f921"
             ]
            ],
            "type": "heatmap"
           }
          ],
          "heatmapgl": [
           {
            "colorbar": {
             "outlinewidth": 0,
             "ticks": ""
            },
            "colorscale": [
             [
              0,
              "#0d0887"
             ],
             [
              0.1111111111111111,
              "#46039f"
             ],
             [
              0.2222222222222222,
              "#7201a8"
             ],
             [
              0.3333333333333333,
              "#9c179e"
             ],
             [
              0.4444444444444444,
              "#bd3786"
             ],
             [
              0.5555555555555556,
              "#d8576b"
             ],
             [
              0.6666666666666666,
              "#ed7953"
             ],
             [
              0.7777777777777778,
              "#fb9f3a"
             ],
             [
              0.8888888888888888,
              "#fdca26"
             ],
             [
              1,
              "#f0f921"
             ]
            ],
            "type": "heatmapgl"
           }
          ],
          "histogram": [
           {
            "marker": {
             "pattern": {
              "fillmode": "overlay",
              "size": 10,
              "solidity": 0.2
             }
            },
            "type": "histogram"
           }
          ],
          "histogram2d": [
           {
            "colorbar": {
             "outlinewidth": 0,
             "ticks": ""
            },
            "colorscale": [
             [
              0,
              "#0d0887"
             ],
             [
              0.1111111111111111,
              "#46039f"
             ],
             [
              0.2222222222222222,
              "#7201a8"
             ],
             [
              0.3333333333333333,
              "#9c179e"
             ],
             [
              0.4444444444444444,
              "#bd3786"
             ],
             [
              0.5555555555555556,
              "#d8576b"
             ],
             [
              0.6666666666666666,
              "#ed7953"
             ],
             [
              0.7777777777777778,
              "#fb9f3a"
             ],
             [
              0.8888888888888888,
              "#fdca26"
             ],
             [
              1,
              "#f0f921"
             ]
            ],
            "type": "histogram2d"
           }
          ],
          "histogram2dcontour": [
           {
            "colorbar": {
             "outlinewidth": 0,
             "ticks": ""
            },
            "colorscale": [
             [
              0,
              "#0d0887"
             ],
             [
              0.1111111111111111,
              "#46039f"
             ],
             [
              0.2222222222222222,
              "#7201a8"
             ],
             [
              0.3333333333333333,
              "#9c179e"
             ],
             [
              0.4444444444444444,
              "#bd3786"
             ],
             [
              0.5555555555555556,
              "#d8576b"
             ],
             [
              0.6666666666666666,
              "#ed7953"
             ],
             [
              0.7777777777777778,
              "#fb9f3a"
             ],
             [
              0.8888888888888888,
              "#fdca26"
             ],
             [
              1,
              "#f0f921"
             ]
            ],
            "type": "histogram2dcontour"
           }
          ],
          "mesh3d": [
           {
            "colorbar": {
             "outlinewidth": 0,
             "ticks": ""
            },
            "type": "mesh3d"
           }
          ],
          "parcoords": [
           {
            "line": {
             "colorbar": {
              "outlinewidth": 0,
              "ticks": ""
             }
            },
            "type": "parcoords"
           }
          ],
          "pie": [
           {
            "automargin": true,
            "type": "pie"
           }
          ],
          "scatter": [
           {
            "fillpattern": {
             "fillmode": "overlay",
             "size": 10,
             "solidity": 0.2
            },
            "type": "scatter"
           }
          ],
          "scatter3d": [
           {
            "line": {
             "colorbar": {
              "outlinewidth": 0,
              "ticks": ""
             }
            },
            "marker": {
             "colorbar": {
              "outlinewidth": 0,
              "ticks": ""
             }
            },
            "type": "scatter3d"
           }
          ],
          "scattercarpet": [
           {
            "marker": {
             "colorbar": {
              "outlinewidth": 0,
              "ticks": ""
             }
            },
            "type": "scattercarpet"
           }
          ],
          "scattergeo": [
           {
            "marker": {
             "colorbar": {
              "outlinewidth": 0,
              "ticks": ""
             }
            },
            "type": "scattergeo"
           }
          ],
          "scattergl": [
           {
            "marker": {
             "colorbar": {
              "outlinewidth": 0,
              "ticks": ""
             }
            },
            "type": "scattergl"
           }
          ],
          "scattermapbox": [
           {
            "marker": {
             "colorbar": {
              "outlinewidth": 0,
              "ticks": ""
             }
            },
            "type": "scattermapbox"
           }
          ],
          "scatterpolar": [
           {
            "marker": {
             "colorbar": {
              "outlinewidth": 0,
              "ticks": ""
             }
            },
            "type": "scatterpolar"
           }
          ],
          "scatterpolargl": [
           {
            "marker": {
             "colorbar": {
              "outlinewidth": 0,
              "ticks": ""
             }
            },
            "type": "scatterpolargl"
           }
          ],
          "scatterternary": [
           {
            "marker": {
             "colorbar": {
              "outlinewidth": 0,
              "ticks": ""
             }
            },
            "type": "scatterternary"
           }
          ],
          "surface": [
           {
            "colorbar": {
             "outlinewidth": 0,
             "ticks": ""
            },
            "colorscale": [
             [
              0,
              "#0d0887"
             ],
             [
              0.1111111111111111,
              "#46039f"
             ],
             [
              0.2222222222222222,
              "#7201a8"
             ],
             [
              0.3333333333333333,
              "#9c179e"
             ],
             [
              0.4444444444444444,
              "#bd3786"
             ],
             [
              0.5555555555555556,
              "#d8576b"
             ],
             [
              0.6666666666666666,
              "#ed7953"
             ],
             [
              0.7777777777777778,
              "#fb9f3a"
             ],
             [
              0.8888888888888888,
              "#fdca26"
             ],
             [
              1,
              "#f0f921"
             ]
            ],
            "type": "surface"
           }
          ],
          "table": [
           {
            "cells": {
             "fill": {
              "color": "#EBF0F8"
             },
             "line": {
              "color": "white"
             }
            },
            "header": {
             "fill": {
              "color": "#C8D4E3"
             },
             "line": {
              "color": "white"
             }
            },
            "type": "table"
           }
          ]
         },
         "layout": {
          "annotationdefaults": {
           "arrowcolor": "#2a3f5f",
           "arrowhead": 0,
           "arrowwidth": 1
          },
          "autotypenumbers": "strict",
          "coloraxis": {
           "colorbar": {
            "outlinewidth": 0,
            "ticks": ""
           }
          },
          "colorscale": {
           "diverging": [
            [
             0,
             "#8e0152"
            ],
            [
             0.1,
             "#c51b7d"
            ],
            [
             0.2,
             "#de77ae"
            ],
            [
             0.3,
             "#f1b6da"
            ],
            [
             0.4,
             "#fde0ef"
            ],
            [
             0.5,
             "#f7f7f7"
            ],
            [
             0.6,
             "#e6f5d0"
            ],
            [
             0.7,
             "#b8e186"
            ],
            [
             0.8,
             "#7fbc41"
            ],
            [
             0.9,
             "#4d9221"
            ],
            [
             1,
             "#276419"
            ]
           ],
           "sequential": [
            [
             0,
             "#0d0887"
            ],
            [
             0.1111111111111111,
             "#46039f"
            ],
            [
             0.2222222222222222,
             "#7201a8"
            ],
            [
             0.3333333333333333,
             "#9c179e"
            ],
            [
             0.4444444444444444,
             "#bd3786"
            ],
            [
             0.5555555555555556,
             "#d8576b"
            ],
            [
             0.6666666666666666,
             "#ed7953"
            ],
            [
             0.7777777777777778,
             "#fb9f3a"
            ],
            [
             0.8888888888888888,
             "#fdca26"
            ],
            [
             1,
             "#f0f921"
            ]
           ],
           "sequentialminus": [
            [
             0,
             "#0d0887"
            ],
            [
             0.1111111111111111,
             "#46039f"
            ],
            [
             0.2222222222222222,
             "#7201a8"
            ],
            [
             0.3333333333333333,
             "#9c179e"
            ],
            [
             0.4444444444444444,
             "#bd3786"
            ],
            [
             0.5555555555555556,
             "#d8576b"
            ],
            [
             0.6666666666666666,
             "#ed7953"
            ],
            [
             0.7777777777777778,
             "#fb9f3a"
            ],
            [
             0.8888888888888888,
             "#fdca26"
            ],
            [
             1,
             "#f0f921"
            ]
           ]
          },
          "colorway": [
           "#636efa",
           "#EF553B",
           "#00cc96",
           "#ab63fa",
           "#FFA15A",
           "#19d3f3",
           "#FF6692",
           "#B6E880",
           "#FF97FF",
           "#FECB52"
          ],
          "font": {
           "color": "#2a3f5f"
          },
          "geo": {
           "bgcolor": "white",
           "lakecolor": "white",
           "landcolor": "#E5ECF6",
           "showlakes": true,
           "showland": true,
           "subunitcolor": "white"
          },
          "hoverlabel": {
           "align": "left"
          },
          "hovermode": "closest",
          "mapbox": {
           "style": "light"
          },
          "paper_bgcolor": "white",
          "plot_bgcolor": "#E5ECF6",
          "polar": {
           "angularaxis": {
            "gridcolor": "white",
            "linecolor": "white",
            "ticks": ""
           },
           "bgcolor": "#E5ECF6",
           "radialaxis": {
            "gridcolor": "white",
            "linecolor": "white",
            "ticks": ""
           }
          },
          "scene": {
           "xaxis": {
            "backgroundcolor": "#E5ECF6",
            "gridcolor": "white",
            "gridwidth": 2,
            "linecolor": "white",
            "showbackground": true,
            "ticks": "",
            "zerolinecolor": "white"
           },
           "yaxis": {
            "backgroundcolor": "#E5ECF6",
            "gridcolor": "white",
            "gridwidth": 2,
            "linecolor": "white",
            "showbackground": true,
            "ticks": "",
            "zerolinecolor": "white"
           },
           "zaxis": {
            "backgroundcolor": "#E5ECF6",
            "gridcolor": "white",
            "gridwidth": 2,
            "linecolor": "white",
            "showbackground": true,
            "ticks": "",
            "zerolinecolor": "white"
           }
          },
          "shapedefaults": {
           "line": {
            "color": "#2a3f5f"
           }
          },
          "ternary": {
           "aaxis": {
            "gridcolor": "white",
            "linecolor": "white",
            "ticks": ""
           },
           "baxis": {
            "gridcolor": "white",
            "linecolor": "white",
            "ticks": ""
           },
           "bgcolor": "#E5ECF6",
           "caxis": {
            "gridcolor": "white",
            "linecolor": "white",
            "ticks": ""
           }
          },
          "title": {
           "x": 0.05
          },
          "xaxis": {
           "automargin": true,
           "gridcolor": "white",
           "linecolor": "white",
           "ticks": "",
           "title": {
            "standoff": 15
           },
           "zerolinecolor": "white",
           "zerolinewidth": 2
          },
          "yaxis": {
           "automargin": true,
           "gridcolor": "white",
           "linecolor": "white",
           "ticks": "",
           "title": {
            "standoff": 15
           },
           "zerolinecolor": "white",
           "zerolinewidth": 2
          }
         }
        },
        "title": {
         "text": "Ocupación de camas por adultos en UCI en 2020"
        }
       }
      }
     },
     "metadata": {},
     "output_type": "display_data"
    }
   ],
   "source": [
    "num_states03 = 15\n",
    "colors03 = ['rgb(179,179,179)']*num_states03\n",
    "colors03[:5] = ['rgb(228,26,28)']*5\n",
    "fig03 = go.Figure()\n",
    "trace03 = go.Bar(x = table03.head(num_states03)['Estado'], \n",
    "                y = table03.head(num_states03)['Ocupación de camas por adultos en UCI'],\n",
    "                marker_color = colors03, text=table03.head(num_states03)['Ocupación de camas por adultos en UCI'])\n",
    "fig03.add_trace(trace03)\n",
    "fig03.update_layout(title='Ocupación de camas por adultos en UCI en 2020')\n",
    "fig03.update_traces(texttemplate='%{text:.3s}', textposition='auto')\n"
   ]
  },
  {
   "cell_type": "markdown",
   "metadata": {},
   "source": [
    "**4 - ¿Qué cantidad de camas se utilizaron, por Estado, para pacientes pediátricos con COVID durante el 2020?**<br>\n",
    "all_pediatric_inpatient_bed_occupied"
   ]
  },
  {
   "cell_type": "code",
   "execution_count": 19,
   "metadata": {},
   "outputs": [
    {
     "data": {
      "application/vnd.plotly.v1+json": {
       "config": {
        "plotlyServerURL": "https://plot.ly"
       },
       "data": [
        {
         "colorbar": {
          "title": {
           "text": "Camas para pacientes pediátricos"
          }
         },
         "colorscale": [
          [
           0,
           "#fcffa4"
          ],
          [
           0.1111111111111111,
           "#f7d13d"
          ],
          [
           0.2222222222222222,
           "#fb9b06"
          ],
          [
           0.3333333333333333,
           "#ed6925"
          ],
          [
           0.4444444444444444,
           "#cf4446"
          ],
          [
           0.5555555555555556,
           "#a52c60"
          ],
          [
           0.6666666666666666,
           "#781c6d"
          ],
          [
           0.7777777777777778,
           "#4a0c6b"
          ],
          [
           0.8888888888888888,
           "#1b0c41"
          ],
          [
           1,
           "#000004"
          ]
         ],
         "locationmode": "USA-states",
         "locations": [
          "CA",
          "NY",
          "PA",
          "IL",
          "MI",
          "OH",
          "FL",
          "MO",
          "IN",
          "MN",
          "VA",
          "WA",
          "AZ",
          "WI",
          "AR",
          "CO",
          "NJ",
          "GA",
          "OK",
          "MD",
          "TX",
          "DC",
          "UT",
          "SC",
          "CT",
          "WV",
          "OR",
          "NM",
          "KS",
          "ID",
          "DE",
          "MS",
          "SD",
          "ND",
          "MT",
          "NC",
          "NH",
          "KY",
          "ME",
          "RI",
          "WY",
          "HI",
          "AK",
          "TN",
          "PR",
          "NE",
          "MA",
          "VT",
          "NV",
          "LA",
          "AL",
          "IA"
         ],
         "marker": {
          "line": {
           "color": "rgba(0,0,0,0)"
          }
         },
         "type": "choropleth",
         "z": [
          483142,
          440365,
          280480,
          274280,
          233298,
          212064,
          199158,
          198208,
          159654,
          138385,
          135729,
          132040,
          122549,
          110736,
          109695,
          106278,
          97239,
          90146,
          89390,
          85704,
          85631,
          70438,
          65723,
          63189,
          61821,
          51817,
          47884,
          46551,
          40889,
          37963,
          35866,
          35320,
          34283,
          30503,
          28904,
          25616,
          24271,
          22853,
          22652,
          21499,
          19385,
          19241,
          14955,
          11831,
          6076,
          5963,
          3889,
          3839,
          3426,
          2599,
          1557,
          70
         ]
        }
       ],
       "layout": {
        "autosize": false,
        "geo": {
         "bgcolor": "rgba(0,0,0,0)",
         "scope": "usa"
        },
        "margin": {
         "autoexpand": true,
         "b": 0,
         "l": 0,
         "pad": 4,
         "r": 0,
         "t": 25
        },
        "paper_bgcolor": "rgba(0,0,0,0)",
        "template": {
         "data": {
          "bar": [
           {
            "error_x": {
             "color": "#2a3f5f"
            },
            "error_y": {
             "color": "#2a3f5f"
            },
            "marker": {
             "line": {
              "color": "#E5ECF6",
              "width": 0.5
             },
             "pattern": {
              "fillmode": "overlay",
              "size": 10,
              "solidity": 0.2
             }
            },
            "type": "bar"
           }
          ],
          "barpolar": [
           {
            "marker": {
             "line": {
              "color": "#E5ECF6",
              "width": 0.5
             },
             "pattern": {
              "fillmode": "overlay",
              "size": 10,
              "solidity": 0.2
             }
            },
            "type": "barpolar"
           }
          ],
          "carpet": [
           {
            "aaxis": {
             "endlinecolor": "#2a3f5f",
             "gridcolor": "white",
             "linecolor": "white",
             "minorgridcolor": "white",
             "startlinecolor": "#2a3f5f"
            },
            "baxis": {
             "endlinecolor": "#2a3f5f",
             "gridcolor": "white",
             "linecolor": "white",
             "minorgridcolor": "white",
             "startlinecolor": "#2a3f5f"
            },
            "type": "carpet"
           }
          ],
          "choropleth": [
           {
            "colorbar": {
             "outlinewidth": 0,
             "ticks": ""
            },
            "type": "choropleth"
           }
          ],
          "contour": [
           {
            "colorbar": {
             "outlinewidth": 0,
             "ticks": ""
            },
            "colorscale": [
             [
              0,
              "#0d0887"
             ],
             [
              0.1111111111111111,
              "#46039f"
             ],
             [
              0.2222222222222222,
              "#7201a8"
             ],
             [
              0.3333333333333333,
              "#9c179e"
             ],
             [
              0.4444444444444444,
              "#bd3786"
             ],
             [
              0.5555555555555556,
              "#d8576b"
             ],
             [
              0.6666666666666666,
              "#ed7953"
             ],
             [
              0.7777777777777778,
              "#fb9f3a"
             ],
             [
              0.8888888888888888,
              "#fdca26"
             ],
             [
              1,
              "#f0f921"
             ]
            ],
            "type": "contour"
           }
          ],
          "contourcarpet": [
           {
            "colorbar": {
             "outlinewidth": 0,
             "ticks": ""
            },
            "type": "contourcarpet"
           }
          ],
          "heatmap": [
           {
            "colorbar": {
             "outlinewidth": 0,
             "ticks": ""
            },
            "colorscale": [
             [
              0,
              "#0d0887"
             ],
             [
              0.1111111111111111,
              "#46039f"
             ],
             [
              0.2222222222222222,
              "#7201a8"
             ],
             [
              0.3333333333333333,
              "#9c179e"
             ],
             [
              0.4444444444444444,
              "#bd3786"
             ],
             [
              0.5555555555555556,
              "#d8576b"
             ],
             [
              0.6666666666666666,
              "#ed7953"
             ],
             [
              0.7777777777777778,
              "#fb9f3a"
             ],
             [
              0.8888888888888888,
              "#fdca26"
             ],
             [
              1,
              "#f0f921"
             ]
            ],
            "type": "heatmap"
           }
          ],
          "heatmapgl": [
           {
            "colorbar": {
             "outlinewidth": 0,
             "ticks": ""
            },
            "colorscale": [
             [
              0,
              "#0d0887"
             ],
             [
              0.1111111111111111,
              "#46039f"
             ],
             [
              0.2222222222222222,
              "#7201a8"
             ],
             [
              0.3333333333333333,
              "#9c179e"
             ],
             [
              0.4444444444444444,
              "#bd3786"
             ],
             [
              0.5555555555555556,
              "#d8576b"
             ],
             [
              0.6666666666666666,
              "#ed7953"
             ],
             [
              0.7777777777777778,
              "#fb9f3a"
             ],
             [
              0.8888888888888888,
              "#fdca26"
             ],
             [
              1,
              "#f0f921"
             ]
            ],
            "type": "heatmapgl"
           }
          ],
          "histogram": [
           {
            "marker": {
             "pattern": {
              "fillmode": "overlay",
              "size": 10,
              "solidity": 0.2
             }
            },
            "type": "histogram"
           }
          ],
          "histogram2d": [
           {
            "colorbar": {
             "outlinewidth": 0,
             "ticks": ""
            },
            "colorscale": [
             [
              0,
              "#0d0887"
             ],
             [
              0.1111111111111111,
              "#46039f"
             ],
             [
              0.2222222222222222,
              "#7201a8"
             ],
             [
              0.3333333333333333,
              "#9c179e"
             ],
             [
              0.4444444444444444,
              "#bd3786"
             ],
             [
              0.5555555555555556,
              "#d8576b"
             ],
             [
              0.6666666666666666,
              "#ed7953"
             ],
             [
              0.7777777777777778,
              "#fb9f3a"
             ],
             [
              0.8888888888888888,
              "#fdca26"
             ],
             [
              1,
              "#f0f921"
             ]
            ],
            "type": "histogram2d"
           }
          ],
          "histogram2dcontour": [
           {
            "colorbar": {
             "outlinewidth": 0,
             "ticks": ""
            },
            "colorscale": [
             [
              0,
              "#0d0887"
             ],
             [
              0.1111111111111111,
              "#46039f"
             ],
             [
              0.2222222222222222,
              "#7201a8"
             ],
             [
              0.3333333333333333,
              "#9c179e"
             ],
             [
              0.4444444444444444,
              "#bd3786"
             ],
             [
              0.5555555555555556,
              "#d8576b"
             ],
             [
              0.6666666666666666,
              "#ed7953"
             ],
             [
              0.7777777777777778,
              "#fb9f3a"
             ],
             [
              0.8888888888888888,
              "#fdca26"
             ],
             [
              1,
              "#f0f921"
             ]
            ],
            "type": "histogram2dcontour"
           }
          ],
          "mesh3d": [
           {
            "colorbar": {
             "outlinewidth": 0,
             "ticks": ""
            },
            "type": "mesh3d"
           }
          ],
          "parcoords": [
           {
            "line": {
             "colorbar": {
              "outlinewidth": 0,
              "ticks": ""
             }
            },
            "type": "parcoords"
           }
          ],
          "pie": [
           {
            "automargin": true,
            "type": "pie"
           }
          ],
          "scatter": [
           {
            "fillpattern": {
             "fillmode": "overlay",
             "size": 10,
             "solidity": 0.2
            },
            "type": "scatter"
           }
          ],
          "scatter3d": [
           {
            "line": {
             "colorbar": {
              "outlinewidth": 0,
              "ticks": ""
             }
            },
            "marker": {
             "colorbar": {
              "outlinewidth": 0,
              "ticks": ""
             }
            },
            "type": "scatter3d"
           }
          ],
          "scattercarpet": [
           {
            "marker": {
             "colorbar": {
              "outlinewidth": 0,
              "ticks": ""
             }
            },
            "type": "scattercarpet"
           }
          ],
          "scattergeo": [
           {
            "marker": {
             "colorbar": {
              "outlinewidth": 0,
              "ticks": ""
             }
            },
            "type": "scattergeo"
           }
          ],
          "scattergl": [
           {
            "marker": {
             "colorbar": {
              "outlinewidth": 0,
              "ticks": ""
             }
            },
            "type": "scattergl"
           }
          ],
          "scattermapbox": [
           {
            "marker": {
             "colorbar": {
              "outlinewidth": 0,
              "ticks": ""
             }
            },
            "type": "scattermapbox"
           }
          ],
          "scatterpolar": [
           {
            "marker": {
             "colorbar": {
              "outlinewidth": 0,
              "ticks": ""
             }
            },
            "type": "scatterpolar"
           }
          ],
          "scatterpolargl": [
           {
            "marker": {
             "colorbar": {
              "outlinewidth": 0,
              "ticks": ""
             }
            },
            "type": "scatterpolargl"
           }
          ],
          "scatterternary": [
           {
            "marker": {
             "colorbar": {
              "outlinewidth": 0,
              "ticks": ""
             }
            },
            "type": "scatterternary"
           }
          ],
          "surface": [
           {
            "colorbar": {
             "outlinewidth": 0,
             "ticks": ""
            },
            "colorscale": [
             [
              0,
              "#0d0887"
             ],
             [
              0.1111111111111111,
              "#46039f"
             ],
             [
              0.2222222222222222,
              "#7201a8"
             ],
             [
              0.3333333333333333,
              "#9c179e"
             ],
             [
              0.4444444444444444,
              "#bd3786"
             ],
             [
              0.5555555555555556,
              "#d8576b"
             ],
             [
              0.6666666666666666,
              "#ed7953"
             ],
             [
              0.7777777777777778,
              "#fb9f3a"
             ],
             [
              0.8888888888888888,
              "#fdca26"
             ],
             [
              1,
              "#f0f921"
             ]
            ],
            "type": "surface"
           }
          ],
          "table": [
           {
            "cells": {
             "fill": {
              "color": "#EBF0F8"
             },
             "line": {
              "color": "white"
             }
            },
            "header": {
             "fill": {
              "color": "#C8D4E3"
             },
             "line": {
              "color": "white"
             }
            },
            "type": "table"
           }
          ]
         },
         "layout": {
          "annotationdefaults": {
           "arrowcolor": "#2a3f5f",
           "arrowhead": 0,
           "arrowwidth": 1
          },
          "autotypenumbers": "strict",
          "coloraxis": {
           "colorbar": {
            "outlinewidth": 0,
            "ticks": ""
           }
          },
          "colorscale": {
           "diverging": [
            [
             0,
             "#8e0152"
            ],
            [
             0.1,
             "#c51b7d"
            ],
            [
             0.2,
             "#de77ae"
            ],
            [
             0.3,
             "#f1b6da"
            ],
            [
             0.4,
             "#fde0ef"
            ],
            [
             0.5,
             "#f7f7f7"
            ],
            [
             0.6,
             "#e6f5d0"
            ],
            [
             0.7,
             "#b8e186"
            ],
            [
             0.8,
             "#7fbc41"
            ],
            [
             0.9,
             "#4d9221"
            ],
            [
             1,
             "#276419"
            ]
           ],
           "sequential": [
            [
             0,
             "#0d0887"
            ],
            [
             0.1111111111111111,
             "#46039f"
            ],
            [
             0.2222222222222222,
             "#7201a8"
            ],
            [
             0.3333333333333333,
             "#9c179e"
            ],
            [
             0.4444444444444444,
             "#bd3786"
            ],
            [
             0.5555555555555556,
             "#d8576b"
            ],
            [
             0.6666666666666666,
             "#ed7953"
            ],
            [
             0.7777777777777778,
             "#fb9f3a"
            ],
            [
             0.8888888888888888,
             "#fdca26"
            ],
            [
             1,
             "#f0f921"
            ]
           ],
           "sequentialminus": [
            [
             0,
             "#0d0887"
            ],
            [
             0.1111111111111111,
             "#46039f"
            ],
            [
             0.2222222222222222,
             "#7201a8"
            ],
            [
             0.3333333333333333,
             "#9c179e"
            ],
            [
             0.4444444444444444,
             "#bd3786"
            ],
            [
             0.5555555555555556,
             "#d8576b"
            ],
            [
             0.6666666666666666,
             "#ed7953"
            ],
            [
             0.7777777777777778,
             "#fb9f3a"
            ],
            [
             0.8888888888888888,
             "#fdca26"
            ],
            [
             1,
             "#f0f921"
            ]
           ]
          },
          "colorway": [
           "#636efa",
           "#EF553B",
           "#00cc96",
           "#ab63fa",
           "#FFA15A",
           "#19d3f3",
           "#FF6692",
           "#B6E880",
           "#FF97FF",
           "#FECB52"
          ],
          "font": {
           "color": "#2a3f5f"
          },
          "geo": {
           "bgcolor": "white",
           "lakecolor": "white",
           "landcolor": "#E5ECF6",
           "showlakes": true,
           "showland": true,
           "subunitcolor": "white"
          },
          "hoverlabel": {
           "align": "left"
          },
          "hovermode": "closest",
          "mapbox": {
           "style": "light"
          },
          "paper_bgcolor": "white",
          "plot_bgcolor": "#E5ECF6",
          "polar": {
           "angularaxis": {
            "gridcolor": "white",
            "linecolor": "white",
            "ticks": ""
           },
           "bgcolor": "#E5ECF6",
           "radialaxis": {
            "gridcolor": "white",
            "linecolor": "white",
            "ticks": ""
           }
          },
          "scene": {
           "xaxis": {
            "backgroundcolor": "#E5ECF6",
            "gridcolor": "white",
            "gridwidth": 2,
            "linecolor": "white",
            "showbackground": true,
            "ticks": "",
            "zerolinecolor": "white"
           },
           "yaxis": {
            "backgroundcolor": "#E5ECF6",
            "gridcolor": "white",
            "gridwidth": 2,
            "linecolor": "white",
            "showbackground": true,
            "ticks": "",
            "zerolinecolor": "white"
           },
           "zaxis": {
            "backgroundcolor": "#E5ECF6",
            "gridcolor": "white",
            "gridwidth": 2,
            "linecolor": "white",
            "showbackground": true,
            "ticks": "",
            "zerolinecolor": "white"
           }
          },
          "shapedefaults": {
           "line": {
            "color": "#2a3f5f"
           }
          },
          "ternary": {
           "aaxis": {
            "gridcolor": "white",
            "linecolor": "white",
            "ticks": ""
           },
           "baxis": {
            "gridcolor": "white",
            "linecolor": "white",
            "ticks": ""
           },
           "bgcolor": "#E5ECF6",
           "caxis": {
            "gridcolor": "white",
            "linecolor": "white",
            "ticks": ""
           }
          },
          "title": {
           "x": 0.05
          },
          "xaxis": {
           "automargin": true,
           "gridcolor": "white",
           "linecolor": "white",
           "ticks": "",
           "title": {
            "standoff": 15
           },
           "zerolinecolor": "white",
           "zerolinewidth": 2
          },
          "yaxis": {
           "automargin": true,
           "gridcolor": "white",
           "linecolor": "white",
           "ticks": "",
           "title": {
            "standoff": 15
           },
           "zerolinecolor": "white",
           "zerolinewidth": 2
          }
         }
        },
        "title": {
         "text": "Ocupación de camas para pacientes pediátricos"
        }
       }
      }
     },
     "metadata": {},
     "output_type": "display_data"
    }
   ],
   "source": [
    "fecha_inicio_04 = dt.datetime(2020,1,1) # 1ro de enero del 2020\n",
    "fecha_final_04 = dt.datetime(2020,12,31) # 31 de diciembre del 2020\n",
    "table04 = table[(table['date'] >= fecha_inicio_04) & (table['date'] <= fecha_final_04)].copy()\n",
    "table04 = table04[['state', 'all_pediatric_inpatient_bed_occupied']]\n",
    "table04.dropna(inplace=True)\n",
    "table04.reset_index(drop=True, inplace=True)\n",
    "table04.rename(columns={'state':'Estado', 'all_pediatric_inpatient_bed_occupied':'Camas ocupadas para pacientes pediátricos con COVID-19'}, inplace = True)\n",
    "table04 = table04[['Estado', 'Camas ocupadas para pacientes pediátricos con COVID-19']].groupby('Estado').sum().sort_values('Camas ocupadas para pacientes pediátricos con COVID-19', ascending=False).reset_index()\n",
    "fig = go.Figure()\n",
    "fig.add_trace(go.Choropleth(locations=table04['Estado'],\n",
    "                            locationmode='USA-states',\n",
    "                            z = table04['Camas ocupadas para pacientes pediátricos con COVID-19'],\n",
    "                            colorscale = 'Inferno_r',\n",
    "                            colorbar_title = 'Camas para pacientes pediátricos',\n",
    "                            marker_line_color='rgba(0,0,0,0)'))\n",
    "fig.update_layout(title='Ocupación de camas para pacientes pediátricos',\n",
    "                    geo_scope='usa', paper_bgcolor='rgba(0,0,0,0)', geo_bgcolor = 'rgba(0,0,0,0)',\n",
    "                    autosize=False, margin = dict(l=0, r=0, b=0, t=25, pad=4, autoexpand=True))       "
   ]
  },
  {
   "cell_type": "markdown",
   "metadata": {},
   "source": [
    "**5 - ¿Qué porcentaje de camas UCI corresponden a casos confirmados de COVID-19? Agrupe por Estado.**<br>\n",
    "adult_icu_bed_covid_utilization"
   ]
  },
  {
   "cell_type": "code",
   "execution_count": 21,
   "metadata": {},
   "outputs": [
    {
     "data": {
      "application/vnd.plotly.v1+json": {
       "config": {
        "plotlyServerURL": "https://plot.ly"
       },
       "data": [
        {
         "colorbar": {
          "title": {
           "text": "Camas para pacientes pedriáticos"
          }
         },
         "colorscale": [
          [
           0,
           "#fcffa4"
          ],
          [
           0.1111111111111111,
           "#f7d13d"
          ],
          [
           0.2222222222222222,
           "#fb9b06"
          ],
          [
           0.3333333333333333,
           "#ed6925"
          ],
          [
           0.4444444444444444,
           "#cf4446"
          ],
          [
           0.5555555555555556,
           "#a52c60"
          ],
          [
           0.6666666666666666,
           "#781c6d"
          ],
          [
           0.7777777777777778,
           "#4a0c6b"
          ],
          [
           0.8888888888888888,
           "#1b0c41"
          ],
          [
           1,
           "#000004"
          ]
         ],
         "locationmode": "USA-states",
         "locations": [
          "TX",
          "MS",
          "GA",
          "ID",
          "NM",
          "AR",
          "OK",
          "NV",
          "AL",
          "MO",
          "UT",
          "KY",
          "AZ",
          "NC",
          "CA",
          "WV",
          "MT",
          "SC",
          "MN",
          "MD",
          "CO",
          "SD",
          "TN",
          "NE",
          "FL",
          "ND",
          "IN",
          "MI",
          "IL",
          "WY",
          "KS",
          "WA",
          "IA",
          "VA",
          "ME",
          "WI",
          "OH",
          "PA",
          "DE",
          "LA",
          "RI",
          "AK",
          "OR",
          "NH",
          "NY",
          "MA",
          "HI",
          "DC",
          "VI",
          "NJ",
          "CT",
          "VT",
          "PR",
          "AS"
         ],
         "marker": {
          "line": {
           "color": "rgba(0,0,0,0)"
          }
         },
         "type": "choropleth",
         "z": [
          0.22920351810852516,
          0.2206813002918012,
          0.21598759155528452,
          0.21370374100827483,
          0.21054202557513998,
          0.19934648851531195,
          0.1992637897699218,
          0.19889683541852587,
          0.1967361162962661,
          0.19388863826160344,
          0.17954814910589906,
          0.1750661314960973,
          0.17473635513945726,
          0.17017790687882758,
          0.16843118433633658,
          0.1667038150508281,
          0.16589327569865558,
          0.16015884231375535,
          0.15796058850184455,
          0.15786857222753103,
          0.15603861747822623,
          0.1544360021185538,
          0.15371188109771525,
          0.15363967290400957,
          0.15290121374317273,
          0.15106891630939343,
          0.15046053076431068,
          0.14908193972965283,
          0.14901382102090951,
          0.14431940558149317,
          0.14298641732099912,
          0.13942563144166215,
          0.13884158704151953,
          0.1342577095130096,
          0.13372875660176797,
          0.13181659716750913,
          0.13117526919375727,
          0.1303176214364299,
          0.12969249274946293,
          0.12802045876355383,
          0.12749509933652625,
          0.12011207158977875,
          0.12008039936634092,
          0.11476484603738066,
          0.11459761530888324,
          0.109485023590521,
          0.10738073978458657,
          0.09881351859792116,
          0.08981257313481016,
          0.08747117333179555,
          0.08440342722644037,
          0.07999207879233135,
          0.07748328696414716,
          0.0008163265306122448
         ]
        }
       ],
       "layout": {
        "autosize": false,
        "geo": {
         "bgcolor": "rgba(0,0,0,0)",
         "scope": "usa"
        },
        "margin": {
         "autoexpand": true,
         "b": 0,
         "l": 0,
         "pad": 4,
         "r": 0,
         "t": 25
        },
        "paper_bgcolor": "rgba(0,0,0,0)",
        "template": {
         "data": {
          "bar": [
           {
            "error_x": {
             "color": "#2a3f5f"
            },
            "error_y": {
             "color": "#2a3f5f"
            },
            "marker": {
             "line": {
              "color": "#E5ECF6",
              "width": 0.5
             },
             "pattern": {
              "fillmode": "overlay",
              "size": 10,
              "solidity": 0.2
             }
            },
            "type": "bar"
           }
          ],
          "barpolar": [
           {
            "marker": {
             "line": {
              "color": "#E5ECF6",
              "width": 0.5
             },
             "pattern": {
              "fillmode": "overlay",
              "size": 10,
              "solidity": 0.2
             }
            },
            "type": "barpolar"
           }
          ],
          "carpet": [
           {
            "aaxis": {
             "endlinecolor": "#2a3f5f",
             "gridcolor": "white",
             "linecolor": "white",
             "minorgridcolor": "white",
             "startlinecolor": "#2a3f5f"
            },
            "baxis": {
             "endlinecolor": "#2a3f5f",
             "gridcolor": "white",
             "linecolor": "white",
             "minorgridcolor": "white",
             "startlinecolor": "#2a3f5f"
            },
            "type": "carpet"
           }
          ],
          "choropleth": [
           {
            "colorbar": {
             "outlinewidth": 0,
             "ticks": ""
            },
            "type": "choropleth"
           }
          ],
          "contour": [
           {
            "colorbar": {
             "outlinewidth": 0,
             "ticks": ""
            },
            "colorscale": [
             [
              0,
              "#0d0887"
             ],
             [
              0.1111111111111111,
              "#46039f"
             ],
             [
              0.2222222222222222,
              "#7201a8"
             ],
             [
              0.3333333333333333,
              "#9c179e"
             ],
             [
              0.4444444444444444,
              "#bd3786"
             ],
             [
              0.5555555555555556,
              "#d8576b"
             ],
             [
              0.6666666666666666,
              "#ed7953"
             ],
             [
              0.7777777777777778,
              "#fb9f3a"
             ],
             [
              0.8888888888888888,
              "#fdca26"
             ],
             [
              1,
              "#f0f921"
             ]
            ],
            "type": "contour"
           }
          ],
          "contourcarpet": [
           {
            "colorbar": {
             "outlinewidth": 0,
             "ticks": ""
            },
            "type": "contourcarpet"
           }
          ],
          "heatmap": [
           {
            "colorbar": {
             "outlinewidth": 0,
             "ticks": ""
            },
            "colorscale": [
             [
              0,
              "#0d0887"
             ],
             [
              0.1111111111111111,
              "#46039f"
             ],
             [
              0.2222222222222222,
              "#7201a8"
             ],
             [
              0.3333333333333333,
              "#9c179e"
             ],
             [
              0.4444444444444444,
              "#bd3786"
             ],
             [
              0.5555555555555556,
              "#d8576b"
             ],
             [
              0.6666666666666666,
              "#ed7953"
             ],
             [
              0.7777777777777778,
              "#fb9f3a"
             ],
             [
              0.8888888888888888,
              "#fdca26"
             ],
             [
              1,
              "#f0f921"
             ]
            ],
            "type": "heatmap"
           }
          ],
          "heatmapgl": [
           {
            "colorbar": {
             "outlinewidth": 0,
             "ticks": ""
            },
            "colorscale": [
             [
              0,
              "#0d0887"
             ],
             [
              0.1111111111111111,
              "#46039f"
             ],
             [
              0.2222222222222222,
              "#7201a8"
             ],
             [
              0.3333333333333333,
              "#9c179e"
             ],
             [
              0.4444444444444444,
              "#bd3786"
             ],
             [
              0.5555555555555556,
              "#d8576b"
             ],
             [
              0.6666666666666666,
              "#ed7953"
             ],
             [
              0.7777777777777778,
              "#fb9f3a"
             ],
             [
              0.8888888888888888,
              "#fdca26"
             ],
             [
              1,
              "#f0f921"
             ]
            ],
            "type": "heatmapgl"
           }
          ],
          "histogram": [
           {
            "marker": {
             "pattern": {
              "fillmode": "overlay",
              "size": 10,
              "solidity": 0.2
             }
            },
            "type": "histogram"
           }
          ],
          "histogram2d": [
           {
            "colorbar": {
             "outlinewidth": 0,
             "ticks": ""
            },
            "colorscale": [
             [
              0,
              "#0d0887"
             ],
             [
              0.1111111111111111,
              "#46039f"
             ],
             [
              0.2222222222222222,
              "#7201a8"
             ],
             [
              0.3333333333333333,
              "#9c179e"
             ],
             [
              0.4444444444444444,
              "#bd3786"
             ],
             [
              0.5555555555555556,
              "#d8576b"
             ],
             [
              0.6666666666666666,
              "#ed7953"
             ],
             [
              0.7777777777777778,
              "#fb9f3a"
             ],
             [
              0.8888888888888888,
              "#fdca26"
             ],
             [
              1,
              "#f0f921"
             ]
            ],
            "type": "histogram2d"
           }
          ],
          "histogram2dcontour": [
           {
            "colorbar": {
             "outlinewidth": 0,
             "ticks": ""
            },
            "colorscale": [
             [
              0,
              "#0d0887"
             ],
             [
              0.1111111111111111,
              "#46039f"
             ],
             [
              0.2222222222222222,
              "#7201a8"
             ],
             [
              0.3333333333333333,
              "#9c179e"
             ],
             [
              0.4444444444444444,
              "#bd3786"
             ],
             [
              0.5555555555555556,
              "#d8576b"
             ],
             [
              0.6666666666666666,
              "#ed7953"
             ],
             [
              0.7777777777777778,
              "#fb9f3a"
             ],
             [
              0.8888888888888888,
              "#fdca26"
             ],
             [
              1,
              "#f0f921"
             ]
            ],
            "type": "histogram2dcontour"
           }
          ],
          "mesh3d": [
           {
            "colorbar": {
             "outlinewidth": 0,
             "ticks": ""
            },
            "type": "mesh3d"
           }
          ],
          "parcoords": [
           {
            "line": {
             "colorbar": {
              "outlinewidth": 0,
              "ticks": ""
             }
            },
            "type": "parcoords"
           }
          ],
          "pie": [
           {
            "automargin": true,
            "type": "pie"
           }
          ],
          "scatter": [
           {
            "fillpattern": {
             "fillmode": "overlay",
             "size": 10,
             "solidity": 0.2
            },
            "type": "scatter"
           }
          ],
          "scatter3d": [
           {
            "line": {
             "colorbar": {
              "outlinewidth": 0,
              "ticks": ""
             }
            },
            "marker": {
             "colorbar": {
              "outlinewidth": 0,
              "ticks": ""
             }
            },
            "type": "scatter3d"
           }
          ],
          "scattercarpet": [
           {
            "marker": {
             "colorbar": {
              "outlinewidth": 0,
              "ticks": ""
             }
            },
            "type": "scattercarpet"
           }
          ],
          "scattergeo": [
           {
            "marker": {
             "colorbar": {
              "outlinewidth": 0,
              "ticks": ""
             }
            },
            "type": "scattergeo"
           }
          ],
          "scattergl": [
           {
            "marker": {
             "colorbar": {
              "outlinewidth": 0,
              "ticks": ""
             }
            },
            "type": "scattergl"
           }
          ],
          "scattermapbox": [
           {
            "marker": {
             "colorbar": {
              "outlinewidth": 0,
              "ticks": ""
             }
            },
            "type": "scattermapbox"
           }
          ],
          "scatterpolar": [
           {
            "marker": {
             "colorbar": {
              "outlinewidth": 0,
              "ticks": ""
             }
            },
            "type": "scatterpolar"
           }
          ],
          "scatterpolargl": [
           {
            "marker": {
             "colorbar": {
              "outlinewidth": 0,
              "ticks": ""
             }
            },
            "type": "scatterpolargl"
           }
          ],
          "scatterternary": [
           {
            "marker": {
             "colorbar": {
              "outlinewidth": 0,
              "ticks": ""
             }
            },
            "type": "scatterternary"
           }
          ],
          "surface": [
           {
            "colorbar": {
             "outlinewidth": 0,
             "ticks": ""
            },
            "colorscale": [
             [
              0,
              "#0d0887"
             ],
             [
              0.1111111111111111,
              "#46039f"
             ],
             [
              0.2222222222222222,
              "#7201a8"
             ],
             [
              0.3333333333333333,
              "#9c179e"
             ],
             [
              0.4444444444444444,
              "#bd3786"
             ],
             [
              0.5555555555555556,
              "#d8576b"
             ],
             [
              0.6666666666666666,
              "#ed7953"
             ],
             [
              0.7777777777777778,
              "#fb9f3a"
             ],
             [
              0.8888888888888888,
              "#fdca26"
             ],
             [
              1,
              "#f0f921"
             ]
            ],
            "type": "surface"
           }
          ],
          "table": [
           {
            "cells": {
             "fill": {
              "color": "#EBF0F8"
             },
             "line": {
              "color": "white"
             }
            },
            "header": {
             "fill": {
              "color": "#C8D4E3"
             },
             "line": {
              "color": "white"
             }
            },
            "type": "table"
           }
          ]
         },
         "layout": {
          "annotationdefaults": {
           "arrowcolor": "#2a3f5f",
           "arrowhead": 0,
           "arrowwidth": 1
          },
          "autotypenumbers": "strict",
          "coloraxis": {
           "colorbar": {
            "outlinewidth": 0,
            "ticks": ""
           }
          },
          "colorscale": {
           "diverging": [
            [
             0,
             "#8e0152"
            ],
            [
             0.1,
             "#c51b7d"
            ],
            [
             0.2,
             "#de77ae"
            ],
            [
             0.3,
             "#f1b6da"
            ],
            [
             0.4,
             "#fde0ef"
            ],
            [
             0.5,
             "#f7f7f7"
            ],
            [
             0.6,
             "#e6f5d0"
            ],
            [
             0.7,
             "#b8e186"
            ],
            [
             0.8,
             "#7fbc41"
            ],
            [
             0.9,
             "#4d9221"
            ],
            [
             1,
             "#276419"
            ]
           ],
           "sequential": [
            [
             0,
             "#0d0887"
            ],
            [
             0.1111111111111111,
             "#46039f"
            ],
            [
             0.2222222222222222,
             "#7201a8"
            ],
            [
             0.3333333333333333,
             "#9c179e"
            ],
            [
             0.4444444444444444,
             "#bd3786"
            ],
            [
             0.5555555555555556,
             "#d8576b"
            ],
            [
             0.6666666666666666,
             "#ed7953"
            ],
            [
             0.7777777777777778,
             "#fb9f3a"
            ],
            [
             0.8888888888888888,
             "#fdca26"
            ],
            [
             1,
             "#f0f921"
            ]
           ],
           "sequentialminus": [
            [
             0,
             "#0d0887"
            ],
            [
             0.1111111111111111,
             "#46039f"
            ],
            [
             0.2222222222222222,
             "#7201a8"
            ],
            [
             0.3333333333333333,
             "#9c179e"
            ],
            [
             0.4444444444444444,
             "#bd3786"
            ],
            [
             0.5555555555555556,
             "#d8576b"
            ],
            [
             0.6666666666666666,
             "#ed7953"
            ],
            [
             0.7777777777777778,
             "#fb9f3a"
            ],
            [
             0.8888888888888888,
             "#fdca26"
            ],
            [
             1,
             "#f0f921"
            ]
           ]
          },
          "colorway": [
           "#636efa",
           "#EF553B",
           "#00cc96",
           "#ab63fa",
           "#FFA15A",
           "#19d3f3",
           "#FF6692",
           "#B6E880",
           "#FF97FF",
           "#FECB52"
          ],
          "font": {
           "color": "#2a3f5f"
          },
          "geo": {
           "bgcolor": "white",
           "lakecolor": "white",
           "landcolor": "#E5ECF6",
           "showlakes": true,
           "showland": true,
           "subunitcolor": "white"
          },
          "hoverlabel": {
           "align": "left"
          },
          "hovermode": "closest",
          "mapbox": {
           "style": "light"
          },
          "paper_bgcolor": "white",
          "plot_bgcolor": "#E5ECF6",
          "polar": {
           "angularaxis": {
            "gridcolor": "white",
            "linecolor": "white",
            "ticks": ""
           },
           "bgcolor": "#E5ECF6",
           "radialaxis": {
            "gridcolor": "white",
            "linecolor": "white",
            "ticks": ""
           }
          },
          "scene": {
           "xaxis": {
            "backgroundcolor": "#E5ECF6",
            "gridcolor": "white",
            "gridwidth": 2,
            "linecolor": "white",
            "showbackground": true,
            "ticks": "",
            "zerolinecolor": "white"
           },
           "yaxis": {
            "backgroundcolor": "#E5ECF6",
            "gridcolor": "white",
            "gridwidth": 2,
            "linecolor": "white",
            "showbackground": true,
            "ticks": "",
            "zerolinecolor": "white"
           },
           "zaxis": {
            "backgroundcolor": "#E5ECF6",
            "gridcolor": "white",
            "gridwidth": 2,
            "linecolor": "white",
            "showbackground": true,
            "ticks": "",
            "zerolinecolor": "white"
           }
          },
          "shapedefaults": {
           "line": {
            "color": "#2a3f5f"
           }
          },
          "ternary": {
           "aaxis": {
            "gridcolor": "white",
            "linecolor": "white",
            "ticks": ""
           },
           "baxis": {
            "gridcolor": "white",
            "linecolor": "white",
            "ticks": ""
           },
           "bgcolor": "#E5ECF6",
           "caxis": {
            "gridcolor": "white",
            "linecolor": "white",
            "ticks": ""
           }
          },
          "title": {
           "x": 0.05
          },
          "xaxis": {
           "automargin": true,
           "gridcolor": "white",
           "linecolor": "white",
           "ticks": "",
           "title": {
            "standoff": 15
           },
           "zerolinecolor": "white",
           "zerolinewidth": 2
          },
          "yaxis": {
           "automargin": true,
           "gridcolor": "white",
           "linecolor": "white",
           "ticks": "",
           "title": {
            "standoff": 15
           },
           "zerolinecolor": "white",
           "zerolinewidth": 2
          }
         }
        },
        "title": {
         "text": "Porcentaje de camas UCI para covid por estado"
        }
       }
      }
     },
     "metadata": {},
     "output_type": "display_data"
    }
   ],
   "source": [
    "table05 = table.copy()\n",
    "table05 = table05[['state', 'adult_icu_bed_covid_utilization']]\n",
    "table05.dropna(inplace=True)\n",
    "table05.reset_index(drop=True, inplace=True)\n",
    "table05.rename(columns={'state':'Estado', 'adult_icu_bed_covid_utilization':'Porcentaje de camas UCI para covid'}, inplace = True)\n",
    "table05 = table05[['Estado', 'Porcentaje de camas UCI para covid']].groupby('Estado').mean().sort_values('Porcentaje de camas UCI para covid', ascending=False).reset_index()\n",
    "fig = go.Figure()\n",
    "fig.add_trace(go.Choropleth(locations=table05['Estado'],\n",
    "                            locationmode='USA-states',\n",
    "                            z = table05['Porcentaje de camas UCI para covid'],\n",
    "                            colorscale = 'Inferno_r',\n",
    "                            colorbar_title = 'Camas para pacientes pedriáticos',\n",
    "                            marker_line_color='rgba(0,0,0,0)'))\n",
    "fig.update_layout(title='Porcentaje de camas UCI para covid por estado',\n",
    "                    geo_scope='usa', paper_bgcolor='rgba(0,0,0,0)', geo_bgcolor = 'rgba(0,0,0,0)',\n",
    "                    autosize=False, margin = dict(l=0, r=0, b=0, t=25, pad=4, autoexpand=True))       "
   ]
  },
  {
   "cell_type": "markdown",
   "metadata": {},
   "source": [
    "**6 - ¿Cuántas muertes por covid hubo, por Estado, durante el año 2021?**<br>\n",
    "deaths_covid"
   ]
  },
  {
   "cell_type": "code",
   "execution_count": 23,
   "metadata": {},
   "outputs": [
    {
     "data": {
      "application/vnd.plotly.v1+json": {
       "config": {
        "plotlyServerURL": "https://plot.ly"
       },
       "data": [
        {
         "colorbar": {
          "title": {
           "text": "Cantidad"
          }
         },
         "colorscale": [
          [
           0,
           "#fcffa4"
          ],
          [
           0.1111111111111111,
           "#f7d13d"
          ],
          [
           0.2222222222222222,
           "#fb9b06"
          ],
          [
           0.3333333333333333,
           "#ed6925"
          ],
          [
           0.4444444444444444,
           "#cf4446"
          ],
          [
           0.5555555555555556,
           "#a52c60"
          ],
          [
           0.6666666666666666,
           "#781c6d"
          ],
          [
           0.7777777777777778,
           "#4a0c6b"
          ],
          [
           0.8888888888888888,
           "#1b0c41"
          ],
          [
           1,
           "#000004"
          ]
         ],
         "locationmode": "USA-states",
         "locations": [
          "CA",
          "TX",
          "FL",
          "NY",
          "AZ",
          "PA",
          "GA",
          "OH",
          "NC",
          "TN",
          "MI",
          "IL",
          "KY",
          "NJ",
          "VA",
          "SC",
          "AL",
          "MO",
          "IN",
          "PR",
          "NV",
          "OK",
          "MD",
          "WA",
          "WI",
          "MS",
          "MA",
          "LA",
          "AR",
          "CO",
          "CT",
          "WV",
          "KS",
          "OR",
          "MN",
          "NM",
          "IA",
          "ID",
          "NE",
          "MT",
          "RI",
          "ME",
          "UT",
          "AK",
          "SD",
          "DE",
          "DC",
          "NH",
          "WY",
          "HI",
          "ND",
          "VT",
          "VI",
          "AS"
         ],
         "marker": {
          "line": {
           "color": "rgba(0,0,0,0)"
          }
         },
         "type": "choropleth",
         "z": [
          35108,
          32889,
          26004,
          17620,
          16250,
          13363,
          12338,
          12023,
          10922,
          9439,
          9332,
          7500,
          7252,
          6889,
          6479,
          6434,
          6390,
          6285,
          5846,
          4516,
          4412,
          4180,
          4025,
          3847,
          3665,
          3664,
          3631,
          3624,
          3582,
          2835,
          2725,
          2507,
          2469,
          2412,
          2377,
          1898,
          1876,
          1529,
          1220,
          1172,
          914,
          704,
          618,
          614,
          572,
          562,
          532,
          520,
          496,
          445,
          334,
          131,
          44,
          0
         ]
        }
       ],
       "layout": {
        "autosize": false,
        "geo": {
         "bgcolor": "rgba(0,0,0,0)",
         "scope": "usa"
        },
        "margin": {
         "autoexpand": true,
         "b": 0,
         "l": 0,
         "pad": 4,
         "r": 0,
         "t": 25
        },
        "paper_bgcolor": "rgba(0,0,0,0)",
        "template": {
         "data": {
          "bar": [
           {
            "error_x": {
             "color": "#2a3f5f"
            },
            "error_y": {
             "color": "#2a3f5f"
            },
            "marker": {
             "line": {
              "color": "#E5ECF6",
              "width": 0.5
             },
             "pattern": {
              "fillmode": "overlay",
              "size": 10,
              "solidity": 0.2
             }
            },
            "type": "bar"
           }
          ],
          "barpolar": [
           {
            "marker": {
             "line": {
              "color": "#E5ECF6",
              "width": 0.5
             },
             "pattern": {
              "fillmode": "overlay",
              "size": 10,
              "solidity": 0.2
             }
            },
            "type": "barpolar"
           }
          ],
          "carpet": [
           {
            "aaxis": {
             "endlinecolor": "#2a3f5f",
             "gridcolor": "white",
             "linecolor": "white",
             "minorgridcolor": "white",
             "startlinecolor": "#2a3f5f"
            },
            "baxis": {
             "endlinecolor": "#2a3f5f",
             "gridcolor": "white",
             "linecolor": "white",
             "minorgridcolor": "white",
             "startlinecolor": "#2a3f5f"
            },
            "type": "carpet"
           }
          ],
          "choropleth": [
           {
            "colorbar": {
             "outlinewidth": 0,
             "ticks": ""
            },
            "type": "choropleth"
           }
          ],
          "contour": [
           {
            "colorbar": {
             "outlinewidth": 0,
             "ticks": ""
            },
            "colorscale": [
             [
              0,
              "#0d0887"
             ],
             [
              0.1111111111111111,
              "#46039f"
             ],
             [
              0.2222222222222222,
              "#7201a8"
             ],
             [
              0.3333333333333333,
              "#9c179e"
             ],
             [
              0.4444444444444444,
              "#bd3786"
             ],
             [
              0.5555555555555556,
              "#d8576b"
             ],
             [
              0.6666666666666666,
              "#ed7953"
             ],
             [
              0.7777777777777778,
              "#fb9f3a"
             ],
             [
              0.8888888888888888,
              "#fdca26"
             ],
             [
              1,
              "#f0f921"
             ]
            ],
            "type": "contour"
           }
          ],
          "contourcarpet": [
           {
            "colorbar": {
             "outlinewidth": 0,
             "ticks": ""
            },
            "type": "contourcarpet"
           }
          ],
          "heatmap": [
           {
            "colorbar": {
             "outlinewidth": 0,
             "ticks": ""
            },
            "colorscale": [
             [
              0,
              "#0d0887"
             ],
             [
              0.1111111111111111,
              "#46039f"
             ],
             [
              0.2222222222222222,
              "#7201a8"
             ],
             [
              0.3333333333333333,
              "#9c179e"
             ],
             [
              0.4444444444444444,
              "#bd3786"
             ],
             [
              0.5555555555555556,
              "#d8576b"
             ],
             [
              0.6666666666666666,
              "#ed7953"
             ],
             [
              0.7777777777777778,
              "#fb9f3a"
             ],
             [
              0.8888888888888888,
              "#fdca26"
             ],
             [
              1,
              "#f0f921"
             ]
            ],
            "type": "heatmap"
           }
          ],
          "heatmapgl": [
           {
            "colorbar": {
             "outlinewidth": 0,
             "ticks": ""
            },
            "colorscale": [
             [
              0,
              "#0d0887"
             ],
             [
              0.1111111111111111,
              "#46039f"
             ],
             [
              0.2222222222222222,
              "#7201a8"
             ],
             [
              0.3333333333333333,
              "#9c179e"
             ],
             [
              0.4444444444444444,
              "#bd3786"
             ],
             [
              0.5555555555555556,
              "#d8576b"
             ],
             [
              0.6666666666666666,
              "#ed7953"
             ],
             [
              0.7777777777777778,
              "#fb9f3a"
             ],
             [
              0.8888888888888888,
              "#fdca26"
             ],
             [
              1,
              "#f0f921"
             ]
            ],
            "type": "heatmapgl"
           }
          ],
          "histogram": [
           {
            "marker": {
             "pattern": {
              "fillmode": "overlay",
              "size": 10,
              "solidity": 0.2
             }
            },
            "type": "histogram"
           }
          ],
          "histogram2d": [
           {
            "colorbar": {
             "outlinewidth": 0,
             "ticks": ""
            },
            "colorscale": [
             [
              0,
              "#0d0887"
             ],
             [
              0.1111111111111111,
              "#46039f"
             ],
             [
              0.2222222222222222,
              "#7201a8"
             ],
             [
              0.3333333333333333,
              "#9c179e"
             ],
             [
              0.4444444444444444,
              "#bd3786"
             ],
             [
              0.5555555555555556,
              "#d8576b"
             ],
             [
              0.6666666666666666,
              "#ed7953"
             ],
             [
              0.7777777777777778,
              "#fb9f3a"
             ],
             [
              0.8888888888888888,
              "#fdca26"
             ],
             [
              1,
              "#f0f921"
             ]
            ],
            "type": "histogram2d"
           }
          ],
          "histogram2dcontour": [
           {
            "colorbar": {
             "outlinewidth": 0,
             "ticks": ""
            },
            "colorscale": [
             [
              0,
              "#0d0887"
             ],
             [
              0.1111111111111111,
              "#46039f"
             ],
             [
              0.2222222222222222,
              "#7201a8"
             ],
             [
              0.3333333333333333,
              "#9c179e"
             ],
             [
              0.4444444444444444,
              "#bd3786"
             ],
             [
              0.5555555555555556,
              "#d8576b"
             ],
             [
              0.6666666666666666,
              "#ed7953"
             ],
             [
              0.7777777777777778,
              "#fb9f3a"
             ],
             [
              0.8888888888888888,
              "#fdca26"
             ],
             [
              1,
              "#f0f921"
             ]
            ],
            "type": "histogram2dcontour"
           }
          ],
          "mesh3d": [
           {
            "colorbar": {
             "outlinewidth": 0,
             "ticks": ""
            },
            "type": "mesh3d"
           }
          ],
          "parcoords": [
           {
            "line": {
             "colorbar": {
              "outlinewidth": 0,
              "ticks": ""
             }
            },
            "type": "parcoords"
           }
          ],
          "pie": [
           {
            "automargin": true,
            "type": "pie"
           }
          ],
          "scatter": [
           {
            "fillpattern": {
             "fillmode": "overlay",
             "size": 10,
             "solidity": 0.2
            },
            "type": "scatter"
           }
          ],
          "scatter3d": [
           {
            "line": {
             "colorbar": {
              "outlinewidth": 0,
              "ticks": ""
             }
            },
            "marker": {
             "colorbar": {
              "outlinewidth": 0,
              "ticks": ""
             }
            },
            "type": "scatter3d"
           }
          ],
          "scattercarpet": [
           {
            "marker": {
             "colorbar": {
              "outlinewidth": 0,
              "ticks": ""
             }
            },
            "type": "scattercarpet"
           }
          ],
          "scattergeo": [
           {
            "marker": {
             "colorbar": {
              "outlinewidth": 0,
              "ticks": ""
             }
            },
            "type": "scattergeo"
           }
          ],
          "scattergl": [
           {
            "marker": {
             "colorbar": {
              "outlinewidth": 0,
              "ticks": ""
             }
            },
            "type": "scattergl"
           }
          ],
          "scattermapbox": [
           {
            "marker": {
             "colorbar": {
              "outlinewidth": 0,
              "ticks": ""
             }
            },
            "type": "scattermapbox"
           }
          ],
          "scatterpolar": [
           {
            "marker": {
             "colorbar": {
              "outlinewidth": 0,
              "ticks": ""
             }
            },
            "type": "scatterpolar"
           }
          ],
          "scatterpolargl": [
           {
            "marker": {
             "colorbar": {
              "outlinewidth": 0,
              "ticks": ""
             }
            },
            "type": "scatterpolargl"
           }
          ],
          "scatterternary": [
           {
            "marker": {
             "colorbar": {
              "outlinewidth": 0,
              "ticks": ""
             }
            },
            "type": "scatterternary"
           }
          ],
          "surface": [
           {
            "colorbar": {
             "outlinewidth": 0,
             "ticks": ""
            },
            "colorscale": [
             [
              0,
              "#0d0887"
             ],
             [
              0.1111111111111111,
              "#46039f"
             ],
             [
              0.2222222222222222,
              "#7201a8"
             ],
             [
              0.3333333333333333,
              "#9c179e"
             ],
             [
              0.4444444444444444,
              "#bd3786"
             ],
             [
              0.5555555555555556,
              "#d8576b"
             ],
             [
              0.6666666666666666,
              "#ed7953"
             ],
             [
              0.7777777777777778,
              "#fb9f3a"
             ],
             [
              0.8888888888888888,
              "#fdca26"
             ],
             [
              1,
              "#f0f921"
             ]
            ],
            "type": "surface"
           }
          ],
          "table": [
           {
            "cells": {
             "fill": {
              "color": "#EBF0F8"
             },
             "line": {
              "color": "white"
             }
            },
            "header": {
             "fill": {
              "color": "#C8D4E3"
             },
             "line": {
              "color": "white"
             }
            },
            "type": "table"
           }
          ]
         },
         "layout": {
          "annotationdefaults": {
           "arrowcolor": "#2a3f5f",
           "arrowhead": 0,
           "arrowwidth": 1
          },
          "autotypenumbers": "strict",
          "coloraxis": {
           "colorbar": {
            "outlinewidth": 0,
            "ticks": ""
           }
          },
          "colorscale": {
           "diverging": [
            [
             0,
             "#8e0152"
            ],
            [
             0.1,
             "#c51b7d"
            ],
            [
             0.2,
             "#de77ae"
            ],
            [
             0.3,
             "#f1b6da"
            ],
            [
             0.4,
             "#fde0ef"
            ],
            [
             0.5,
             "#f7f7f7"
            ],
            [
             0.6,
             "#e6f5d0"
            ],
            [
             0.7,
             "#b8e186"
            ],
            [
             0.8,
             "#7fbc41"
            ],
            [
             0.9,
             "#4d9221"
            ],
            [
             1,
             "#276419"
            ]
           ],
           "sequential": [
            [
             0,
             "#0d0887"
            ],
            [
             0.1111111111111111,
             "#46039f"
            ],
            [
             0.2222222222222222,
             "#7201a8"
            ],
            [
             0.3333333333333333,
             "#9c179e"
            ],
            [
             0.4444444444444444,
             "#bd3786"
            ],
            [
             0.5555555555555556,
             "#d8576b"
            ],
            [
             0.6666666666666666,
             "#ed7953"
            ],
            [
             0.7777777777777778,
             "#fb9f3a"
            ],
            [
             0.8888888888888888,
             "#fdca26"
            ],
            [
             1,
             "#f0f921"
            ]
           ],
           "sequentialminus": [
            [
             0,
             "#0d0887"
            ],
            [
             0.1111111111111111,
             "#46039f"
            ],
            [
             0.2222222222222222,
             "#7201a8"
            ],
            [
             0.3333333333333333,
             "#9c179e"
            ],
            [
             0.4444444444444444,
             "#bd3786"
            ],
            [
             0.5555555555555556,
             "#d8576b"
            ],
            [
             0.6666666666666666,
             "#ed7953"
            ],
            [
             0.7777777777777778,
             "#fb9f3a"
            ],
            [
             0.8888888888888888,
             "#fdca26"
            ],
            [
             1,
             "#f0f921"
            ]
           ]
          },
          "colorway": [
           "#636efa",
           "#EF553B",
           "#00cc96",
           "#ab63fa",
           "#FFA15A",
           "#19d3f3",
           "#FF6692",
           "#B6E880",
           "#FF97FF",
           "#FECB52"
          ],
          "font": {
           "color": "#2a3f5f"
          },
          "geo": {
           "bgcolor": "white",
           "lakecolor": "white",
           "landcolor": "#E5ECF6",
           "showlakes": true,
           "showland": true,
           "subunitcolor": "white"
          },
          "hoverlabel": {
           "align": "left"
          },
          "hovermode": "closest",
          "mapbox": {
           "style": "light"
          },
          "paper_bgcolor": "white",
          "plot_bgcolor": "#E5ECF6",
          "polar": {
           "angularaxis": {
            "gridcolor": "white",
            "linecolor": "white",
            "ticks": ""
           },
           "bgcolor": "#E5ECF6",
           "radialaxis": {
            "gridcolor": "white",
            "linecolor": "white",
            "ticks": ""
           }
          },
          "scene": {
           "xaxis": {
            "backgroundcolor": "#E5ECF6",
            "gridcolor": "white",
            "gridwidth": 2,
            "linecolor": "white",
            "showbackground": true,
            "ticks": "",
            "zerolinecolor": "white"
           },
           "yaxis": {
            "backgroundcolor": "#E5ECF6",
            "gridcolor": "white",
            "gridwidth": 2,
            "linecolor": "white",
            "showbackground": true,
            "ticks": "",
            "zerolinecolor": "white"
           },
           "zaxis": {
            "backgroundcolor": "#E5ECF6",
            "gridcolor": "white",
            "gridwidth": 2,
            "linecolor": "white",
            "showbackground": true,
            "ticks": "",
            "zerolinecolor": "white"
           }
          },
          "shapedefaults": {
           "line": {
            "color": "#2a3f5f"
           }
          },
          "ternary": {
           "aaxis": {
            "gridcolor": "white",
            "linecolor": "white",
            "ticks": ""
           },
           "baxis": {
            "gridcolor": "white",
            "linecolor": "white",
            "ticks": ""
           },
           "bgcolor": "#E5ECF6",
           "caxis": {
            "gridcolor": "white",
            "linecolor": "white",
            "ticks": ""
           }
          },
          "title": {
           "x": 0.05
          },
          "xaxis": {
           "automargin": true,
           "gridcolor": "white",
           "linecolor": "white",
           "ticks": "",
           "title": {
            "standoff": 15
           },
           "zerolinecolor": "white",
           "zerolinewidth": 2
          },
          "yaxis": {
           "automargin": true,
           "gridcolor": "white",
           "linecolor": "white",
           "ticks": "",
           "title": {
            "standoff": 15
           },
           "zerolinecolor": "white",
           "zerolinewidth": 2
          }
         }
        },
        "title": {
         "text": "Muertes causadas por COVID-19"
        }
       }
      }
     },
     "metadata": {},
     "output_type": "display_data"
    }
   ],
   "source": [
    "fecha_inicio_06 = dt.datetime(2021,1,1) # 1ro de enero del 2021\n",
    "fecha_final_06 = dt.datetime(2021,12,31) # 31 de diciembre del 2021\n",
    "table06 = table[(table['date'] >= fecha_inicio_06) & (table['date'] <= fecha_final_06)].copy()\n",
    "table06 = table06[['state', 'deaths_covid']]\n",
    "table06.dropna(inplace=True)\n",
    "table06.rename(columns={'state':'Estado', 'deaths_covid':'Muertes por covid'}, inplace = True)\n",
    "table06 = table06[['Estado', 'Muertes por covid']].groupby('Estado').sum().sort_values('Muertes por covid', ascending=False).reset_index()\n",
    "fig = go.Figure()\n",
    "fig.add_trace(go.Choropleth(locations=table06['Estado'],\n",
    "                            locationmode='USA-states',\n",
    "                            z = table06['Muertes por covid'],\n",
    "                            colorscale = 'Inferno_r',\n",
    "                            colorbar_title = 'Cantidad',\n",
    "                            marker_line_color='rgba(0,0,0,0)'))\n",
    "fig.update_layout(title='Muertes causadas por COVID-19',\n",
    "                geo_scope='usa', paper_bgcolor='rgba(0,0,0,0)', geo_bgcolor = 'rgba(0,0,0,0)',\n",
    "                autosize=False, margin = dict(l=0, r=0, b=0, t=25, pad=4, autoexpand=True))       "
   ]
  },
  {
   "cell_type": "markdown",
   "metadata": {},
   "source": [
    "**7 - ¿Qué relación presenta la falta de personal médico, con la cantidad de muertes por covid durante el año 2021?**"
   ]
  },
  {
   "cell_type": "code",
   "execution_count": 28,
   "metadata": {},
   "outputs": [
    {
     "data": {
      "application/vnd.plotly.v1+json": {
       "config": {
        "plotlyServerURL": "https://plot.ly"
       },
       "data": [
        {
         "mode": "markers",
         "type": "scatter",
         "x": [
          0,
          16,
          16,
          16,
          16,
          16,
          0,
          0,
          0,
          0,
          0,
          0,
          0,
          0,
          0,
          0,
          0,
          0,
          0,
          0,
          0,
          0,
          0,
          0,
          0,
          0,
          0,
          0,
          0,
          0,
          0,
          0,
          0,
          0,
          0,
          0,
          0,
          0,
          0,
          0,
          0,
          0,
          0,
          0,
          0,
          0,
          0,
          0,
          0,
          0,
          0,
          0,
          0,
          0,
          0,
          0,
          0,
          0,
          0,
          0,
          0,
          0,
          0,
          0,
          0,
          0,
          0,
          0,
          0,
          0,
          0,
          0,
          0,
          0,
          0,
          0,
          0,
          0,
          0,
          0,
          0,
          0,
          0,
          0,
          0,
          0,
          0,
          0,
          0,
          0,
          0,
          0,
          0,
          0,
          0,
          0,
          0,
          0,
          0,
          0,
          6,
          6,
          6,
          6,
          6,
          0,
          0,
          0,
          0,
          0,
          0,
          0,
          0,
          0,
          0,
          0,
          0,
          0,
          0,
          0,
          0,
          0,
          0,
          0,
          0,
          0,
          0,
          0,
          0,
          0,
          0,
          0,
          0,
          0,
          0,
          0,
          0,
          0,
          0,
          0,
          0,
          0,
          0,
          0,
          0,
          0,
          1,
          1,
          1,
          1,
          1,
          1,
          1,
          1,
          1,
          1,
          1,
          1,
          1,
          1,
          1,
          1,
          1,
          2,
          2,
          2,
          1,
          2,
          2,
          2,
          2,
          2,
          2,
          2,
          2,
          2,
          2,
          2,
          2,
          2,
          2,
          2,
          2,
          2,
          2,
          2,
          2,
          2,
          2,
          2,
          2,
          9,
          4,
          4,
          4,
          5,
          242,
          334,
          417,
          418,
          418,
          440,
          476,
          628,
          675,
          707,
          709,
          688,
          749,
          753,
          761,
          781,
          788,
          765,
          742,
          779,
          777,
          801,
          775,
          788,
          773,
          746,
          791,
          794,
          771,
          780,
          798,
          779,
          766,
          781,
          774,
          771,
          792,
          800,
          769,
          763,
          781,
          760,
          790,
          785,
          815,
          810,
          780,
          814,
          807,
          826,
          831,
          841,
          812,
          904,
          876,
          898,
          910,
          908,
          931,
          887,
          884,
          910,
          918,
          902,
          914,
          856,
          828,
          808,
          843,
          850,
          853,
          835,
          859,
          829,
          837,
          874,
          852,
          867,
          861,
          892,
          858,
          849,
          899,
          893,
          905,
          920,
          933,
          921,
          913,
          923,
          933,
          950,
          964,
          979,
          949,
          955,
          954,
          940,
          957,
          975,
          976,
          946,
          932,
          952,
          938,
          967,
          975,
          993,
          1015,
          979,
          981,
          987,
          999,
          1010,
          1025,
          992,
          992,
          1000,
          1047,
          1086,
          1117,
          1114,
          1092,
          1087,
          1083,
          1094,
          1136,
          1131,
          1146,
          1133,
          1120,
          1125,
          1122,
          1174,
          1135,
          1148,
          1158,
          1154,
          1132,
          1110,
          1179,
          1181,
          1183,
          1175,
          1180,
          1167,
          1180,
          1264,
          1228,
          1248,
          1233,
          1231,
          1241,
          1220,
          1265,
          1241,
          1250,
          1239,
          1236,
          1215,
          1211,
          1266,
          1269,
          1246,
          1261,
          1268,
          1210,
          1078,
          1062,
          1088,
          1023,
          1055,
          1076,
          1076,
          1082,
          1113,
          1105,
          1083,
          1090,
          1094,
          1074,
          1064,
          1097,
          1088,
          1071,
          1045,
          1062,
          1016,
          995,
          1030,
          1004,
          1011,
          972,
          978,
          957,
          941,
          959,
          940,
          926,
          908,
          899,
          887,
          861,
          888,
          875,
          881,
          861,
          860,
          843,
          821,
          853,
          849,
          848,
          824,
          814,
          836,
          823,
          837,
          821,
          817,
          777,
          768,
          757,
          759,
          779,
          754,
          755,
          734,
          733,
          709,
          695,
          710,
          726,
          726,
          702,
          716,
          709,
          700,
          733,
          699,
          696,
          691,
          690,
          684,
          683,
          709,
          702,
          707,
          682,
          688,
          669,
          644,
          670,
          655,
          651,
          647,
          647,
          639,
          638,
          677,
          651,
          671,
          655,
          662,
          644,
          638,
          677,
          657,
          682,
          668,
          662,
          656,
          657,
          685,
          672,
          671,
          651,
          646,
          645,
          647,
          687,
          660,
          670,
          654,
          641,
          656,
          640,
          664,
          659,
          656,
          654,
          643,
          643,
          650,
          677,
          667,
          651,
          646,
          659,
          628,
          608,
          678,
          660,
          656,
          660,
          652,
          643,
          645,
          671,
          646,
          651,
          642,
          634,
          615,
          616,
          635,
          642,
          647,
          628,
          634,
          598,
          602,
          651,
          621,
          614,
          607,
          608,
          594,
          606,
          626,
          612,
          599,
          598,
          602,
          589,
          591,
          614,
          606,
          622,
          601,
          609,
          598,
          590,
          635,
          622,
          637,
          607,
          600,
          580,
          581,
          626,
          615,
          617,
          609,
          591,
          567,
          568,
          622,
          614,
          627,
          615,
          606,
          591,
          606,
          628,
          626,
          639,
          613,
          604,
          616,
          614,
          659,
          652,
          661,
          640,
          664,
          675,
          570,
          620,
          625,
          642,
          609,
          606,
          612,
          633,
          670,
          656,
          678,
          655,
          686,
          693,
          713,
          764,
          734,
          742,
          707,
          718,
          740,
          747,
          815,
          807,
          827,
          781,
          793,
          835,
          843,
          897,
          905,
          916,
          902,
          904,
          915,
          903,
          948,
          943,
          956,
          927,
          905,
          886,
          933,
          1008,
          981,
          1013,
          964,
          957,
          966,
          963,
          1023,
          1010,
          993,
          960,
          940,
          969,
          970,
          1026,
          971,
          985,
          957,
          957,
          978,
          959,
          1005,
          982,
          997,
          947,
          944,
          968,
          944,
          989,
          967,
          973,
          956,
          948,
          967,
          962,
          1001,
          1018,
          976,
          957,
          949,
          934,
          952,
          1015,
          983,
          1014,
          977,
          979,
          973,
          961,
          992,
          981,
          997,
          985,
          978,
          946,
          947,
          971,
          951,
          966,
          924,
          910,
          916,
          930,
          970,
          937,
          957,
          933,
          902,
          918,
          952,
          982,
          980,
          987,
          941,
          932,
          957,
          958,
          998,
          951,
          960,
          944,
          956,
          968,
          963,
          1013,
          1002,
          981,
          954,
          966,
          964,
          980,
          1011,
          1010,
          1012,
          981,
          976,
          977,
          987,
          1058,
          1040,
          1045,
          1030,
          1015,
          1016,
          1006,
          1050,
          1048,
          1016,
          986,
          998,
          1023,
          1042,
          1085,
          1089,
          1063,
          1056,
          1069,
          1093,
          1103,
          1178,
          1162,
          1181,
          1099,
          1091,
          991,
          986,
          1012,
          1015,
          1003,
          953,
          957,
          972,
          956,
          784,
          790,
          808,
          756,
          757,
          761,
          765,
          721,
          711,
          681,
          644,
          635,
          630,
          525,
          459,
          462,
          464,
          448,
          443,
          431,
          415,
          437,
          429,
          432,
          407,
          411,
          390,
          403,
          407,
          404,
          409,
          370,
          363,
          361,
          361,
          361,
          380,
          374,
          357,
          354,
          340,
          338,
          351,
          345,
          343,
          314,
          325,
          318,
          321,
          325,
          315,
          317,
          309,
          304,
          289,
          291,
          307,
          312,
          306,
          298,
          301,
          281,
          285,
          292,
          301,
          294,
          281,
          286,
          275,
          281,
          299,
          305,
          313,
          298,
          293,
          279,
          285,
          295,
          300,
          303,
          279,
          286,
          282,
          280,
          299,
          302,
          292,
          280,
          282,
          290,
          286,
          303,
          303,
          285,
          284,
          283,
          282,
          280,
          292,
          283,
          289,
          298,
          286,
          275,
          278,
          292,
          300,
          297,
          275,
          271,
          284,
          270,
          290,
          297,
          285,
          276,
          279,
          278,
          272,
          285,
          295,
          297,
          270,
          267,
          263,
          278,
          275,
          282,
          287,
          274,
          262,
          244,
          258,
          263,
          283,
          277,
          272,
          275,
          266,
          266,
          276,
          275,
          277,
          277,
          268,
          268,
          256,
          277,
          281,
          289,
          281,
          278,
          274,
          259,
          274,
          284,
          279,
          270,
          270,
          252,
          254,
          291,
          306,
          307,
          283,
          282,
          268,
          271,
          287,
          301,
          310,
          304,
          299,
          297,
          301,
          310,
          316,
          307,
          299,
          294,
          292,
          285,
          309,
          308,
          308,
          298,
          297,
          282,
          295,
          292,
          308,
          310,
          291,
          300,
          297,
          301,
          311,
          310,
          314,
          313,
          315,
          301
         ],
         "y": [
          0,
          29,
          29,
          29,
          29,
          29,
          0,
          0,
          0,
          0,
          0,
          0,
          0,
          0,
          0,
          0,
          0,
          0,
          0,
          0,
          0,
          0,
          0,
          0,
          0,
          0,
          0,
          0,
          0,
          0,
          0,
          0,
          0,
          0,
          0,
          0,
          0,
          0,
          0,
          0,
          0,
          0,
          0,
          0,
          0,
          0,
          0,
          0,
          0,
          0,
          0,
          0,
          0,
          0,
          0,
          0,
          0,
          0,
          0,
          0,
          0,
          1,
          6,
          0,
          0,
          0,
          0,
          1,
          1,
          1,
          0,
          2,
          1,
          3,
          2,
          4,
          4,
          8,
          12,
          8,
          10,
          17,
          21,
          18,
          34,
          97,
          52,
          64,
          80,
          258,
          413,
          640,
          826,
          960,
          1095,
          1017,
          1077,
          1098,
          1169,
          1264,
          1216,
          1225,
          1238,
          1378,
          1550,
          1182,
          1106,
          1145,
          1363,
          796,
          1020,
          963,
          1037,
          1077,
          1200,
          1131,
          1032,
          1081,
          1203,
          1289,
          1194,
          1302,
          1229,
          1067,
          1149,
          1118,
          1061,
          1114,
          1170,
          915,
          879,
          983,
          963,
          1036,
          1042,
          632,
          606,
          585,
          2729,
          2727,
          2767,
          2758,
          2782,
          2795,
          2734,
          2786,
          2738,
          2784,
          2743,
          2616,
          2543,
          2531,
          2578,
          2567,
          2697,
          371,
          431,
          376,
          343,
          397,
          379,
          385,
          407,
          331,
          284,
          299,
          351,
          338,
          294,
          303,
          259,
          256,
          264,
          371,
          319,
          359,
          406,
          404,
          410,
          443,
          485,
          434,
          437,
          362,
          437,
          434,
          466,
          512,
          552,
          471,
          429,
          413,
          471,
          449,
          424,
          332,
          648,
          526,
          532,
          440,
          394,
          497,
          570,
          739,
          1079,
          838,
          804,
          874,
          727,
          767,
          901,
          1305,
          1348,
          1314,
          1329,
          1288,
          1230,
          1329,
          1249,
          1275,
          1270,
          1216,
          1246,
          1241,
          1274,
          1220,
          1254,
          1223,
          1143,
          1177,
          1137,
          1189,
          1232,
          664,
          606,
          530,
          554,
          648,
          635,
          610,
          568,
          518,
          551,
          539,
          605,
          602,
          545,
          521,
          540,
          487,
          452,
          544,
          887,
          541,
          491,
          479,
          500,
          461,
          510,
          557,
          498,
          464,
          465,
          466,
          468,
          486,
          453,
          475,
          457,
          444,
          440,
          424,
          551,
          432,
          462,
          509,
          500,
          418,
          559,
          485,
          477,
          506,
          495,
          520,
          473,
          498,
          501,
          488,
          496,
          584,
          518,
          539,
          556,
          564,
          557,
          554,
          531,
          505,
          507,
          532,
          526,
          785,
          769,
          1246,
          1303,
          1204,
          1276,
          845,
          858,
          934,
          987,
          936,
          935,
          998,
          1016,
          1070,
          928,
          1246,
          913,
          918,
          1024,
          1096,
          1151,
          1109,
          1212,
          1123,
          1062,
          1272,
          1338,
          1413,
          1307,
          1207,
          1354,
          1368,
          1335,
          1447,
          1573,
          1618,
          1615,
          1550,
          1555,
          1646,
          1657,
          1758,
          1831,
          1671,
          1628,
          1555,
          1730,
          1832,
          1844,
          1854,
          1963,
          1997,
          1790,
          2043,
          2094,
          2139,
          1914,
          1930,
          1731,
          1922,
          2168,
          2181,
          2171,
          2267,
          2143,
          2047,
          2119,
          2183,
          2369,
          2372,
          2361,
          2340,
          2183,
          2163,
          2206,
          2308,
          2380,
          2363,
          2337,
          2240,
          2156,
          2177,
          2309,
          2190,
          2261,
          2109,
          2063,
          1845,
          1899,
          1961,
          1970,
          1824,
          1817,
          1651,
          1674,
          1696,
          1720,
          1646,
          1742,
          1615,
          1500,
          1347,
          1466,
          1374,
          1377,
          1363,
          1283,
          1172,
          1123,
          1113,
          1051,
          1134,
          1074,
          1078,
          936,
          895,
          955,
          907,
          918,
          898,
          826,
          752,
          772,
          735,
          671,
          704,
          682,
          673,
          564,
          570,
          624,
          635,
          607,
          567,
          567,
          495,
          475,
          461,
          505,
          486,
          541,
          560,
          487,
          482,
          528,
          455,
          473,
          502,
          555,
          430,
          387,
          447,
          435,
          397,
          495,
          476,
          403,
          404,
          375,
          480,
          448,
          595,
          420,
          474,
          442,
          486,
          498,
          534,
          509,
          517,
          390,
          458,
          499,
          537,
          527,
          508,
          571,
          459,
          420,
          521,
          449,
          460,
          461,
          437,
          384,
          407,
          407,
          426,
          388,
          392,
          400,
          429,
          392,
          379,
          408,
          362,
          399,
          346,
          382,
          339,
          341,
          386,
          361,
          346,
          353,
          308,
          305,
          278,
          290,
          310,
          325,
          274,
          263,
          288,
          259,
          256,
          345,
          251,
          230,
          235,
          211,
          212,
          225,
          226,
          250,
          237,
          187,
          236,
          183,
          180,
          196,
          188,
          194,
          181,
          156,
          183,
          205,
          180,
          176,
          197,
          189,
          160,
          440,
          162,
          174,
          186,
          201,
          184,
          187,
          188,
          187,
          183,
          188,
          178,
          201,
          173,
          211,
          220,
          224,
          220,
          225,
          246,
          256,
          236,
          230,
          272,
          287,
          279,
          350,
          329,
          330,
          384,
          406,
          382,
          439,
          447,
          482,
          522,
          553,
          579,
          614,
          641,
          747,
          707,
          795,
          835,
          890,
          945,
          939,
          1035,
          997,
          1027,
          1130,
          1179,
          1228,
          1250,
          1240,
          1274,
          1279,
          1346,
          1415,
          1367,
          1423,
          1436,
          1369,
          1431,
          1496,
          1547,
          1581,
          1494,
          1491,
          1533,
          1491,
          1549,
          1514,
          1508,
          1689,
          1701,
          1559,
          1579,
          1634,
          1585,
          1602,
          1493,
          1505,
          1393,
          1545,
          1503,
          1487,
          1456,
          1388,
          1406,
          1239,
          1411,
          1333,
          1341,
          1346,
          1186,
          1175,
          1164,
          1250,
          1095,
          1101,
          1215,
          1169,
          1065,
          947,
          969,
          971,
          954,
          914,
          983,
          1100,
          952,
          850,
          918,
          935,
          899,
          824,
          850,
          743,
          805,
          753,
          816,
          760,
          795,
          743,
          730,
          646,
          730,
          683,
          677,
          648,
          631,
          679,
          742,
          672,
          705,
          705,
          759,
          635,
          628,
          600,
          687,
          818,
          759,
          750,
          686,
          683,
          733,
          827,
          809,
          717,
          690,
          780,
          902,
          820,
          861,
          1004,
          901,
          911,
          770,
          864,
          894,
          917,
          949,
          1000,
          1048,
          942,
          879,
          1080,
          1016,
          1076,
          1097,
          1163,
          1068,
          1008,
          1026,
          1120,
          1297,
          1227,
          1071,
          1109,
          943,
          1146,
          1191,
          1306,
          1236,
          1282,
          1196,
          1123,
          1326,
          1324,
          1475,
          1505,
          1539,
          1473,
          1487,
          1392,
          1453,
          1623,
          1533,
          1558,
          1492,
          1526,
          1617,
          1476,
          1324,
          1313,
          1320,
          1282,
          1247,
          1311,
          1313,
          1238,
          1301,
          1200,
          1137,
          1057,
          1085,
          1051,
          1021,
          1047,
          926,
          901,
          863,
          836,
          796,
          809,
          725,
          813,
          736,
          703,
          667,
          648,
          585,
          842,
          537,
          496,
          488,
          458,
          458,
          474,
          414,
          383,
          355,
          322,
          318,
          343,
          324,
          316,
          250,
          280,
          249,
          241,
          230,
          234,
          227,
          180,
          200,
          151,
          155,
          192,
          160,
          173,
          180,
          159,
          144,
          140,
          166,
          142,
          180,
          158,
          122,
          96,
          107,
          92,
          103,
          110,
          114,
          97,
          84,
          83,
          84,
          79,
          107,
          88,
          75,
          161,
          96,
          143,
          75,
          81,
          79,
          79,
          150,
          91,
          84,
          92,
          80,
          80,
          70,
          72,
          75,
          125,
          103,
          108,
          106,
          91,
          81,
          125,
          103,
          82,
          87,
          91,
          84,
          84,
          89,
          137,
          74,
          107,
          88,
          90,
          82,
          103,
          95,
          98,
          95,
          98,
          102,
          103,
          92,
          116,
          121,
          102,
          108,
          132,
          163,
          229,
          116,
          104,
          124,
          135,
          222,
          109,
          342,
          159,
          151,
          118,
          125,
          125,
          112,
          115,
          120,
          146,
          122,
          115,
          140,
          123,
          120,
          139,
          124,
          124,
          143,
          133,
          111,
          141,
          136,
          139,
          139,
          150,
          127,
          155,
          127,
          166,
          146,
          140,
          137,
          148,
          156,
          147,
          160,
          210,
          157,
          167,
          163,
          176,
          176,
          170,
          211,
          200,
          125,
          171,
          175,
          176,
          171,
          186,
          192,
          181,
          235,
          175,
          200,
          161,
          174,
          178,
          183,
          175,
          169,
          166
         ]
        }
       ],
       "layout": {
        "template": {
         "data": {
          "bar": [
           {
            "error_x": {
             "color": "#2a3f5f"
            },
            "error_y": {
             "color": "#2a3f5f"
            },
            "marker": {
             "line": {
              "color": "#E5ECF6",
              "width": 0.5
             },
             "pattern": {
              "fillmode": "overlay",
              "size": 10,
              "solidity": 0.2
             }
            },
            "type": "bar"
           }
          ],
          "barpolar": [
           {
            "marker": {
             "line": {
              "color": "#E5ECF6",
              "width": 0.5
             },
             "pattern": {
              "fillmode": "overlay",
              "size": 10,
              "solidity": 0.2
             }
            },
            "type": "barpolar"
           }
          ],
          "carpet": [
           {
            "aaxis": {
             "endlinecolor": "#2a3f5f",
             "gridcolor": "white",
             "linecolor": "white",
             "minorgridcolor": "white",
             "startlinecolor": "#2a3f5f"
            },
            "baxis": {
             "endlinecolor": "#2a3f5f",
             "gridcolor": "white",
             "linecolor": "white",
             "minorgridcolor": "white",
             "startlinecolor": "#2a3f5f"
            },
            "type": "carpet"
           }
          ],
          "choropleth": [
           {
            "colorbar": {
             "outlinewidth": 0,
             "ticks": ""
            },
            "type": "choropleth"
           }
          ],
          "contour": [
           {
            "colorbar": {
             "outlinewidth": 0,
             "ticks": ""
            },
            "colorscale": [
             [
              0,
              "#0d0887"
             ],
             [
              0.1111111111111111,
              "#46039f"
             ],
             [
              0.2222222222222222,
              "#7201a8"
             ],
             [
              0.3333333333333333,
              "#9c179e"
             ],
             [
              0.4444444444444444,
              "#bd3786"
             ],
             [
              0.5555555555555556,
              "#d8576b"
             ],
             [
              0.6666666666666666,
              "#ed7953"
             ],
             [
              0.7777777777777778,
              "#fb9f3a"
             ],
             [
              0.8888888888888888,
              "#fdca26"
             ],
             [
              1,
              "#f0f921"
             ]
            ],
            "type": "contour"
           }
          ],
          "contourcarpet": [
           {
            "colorbar": {
             "outlinewidth": 0,
             "ticks": ""
            },
            "type": "contourcarpet"
           }
          ],
          "heatmap": [
           {
            "colorbar": {
             "outlinewidth": 0,
             "ticks": ""
            },
            "colorscale": [
             [
              0,
              "#0d0887"
             ],
             [
              0.1111111111111111,
              "#46039f"
             ],
             [
              0.2222222222222222,
              "#7201a8"
             ],
             [
              0.3333333333333333,
              "#9c179e"
             ],
             [
              0.4444444444444444,
              "#bd3786"
             ],
             [
              0.5555555555555556,
              "#d8576b"
             ],
             [
              0.6666666666666666,
              "#ed7953"
             ],
             [
              0.7777777777777778,
              "#fb9f3a"
             ],
             [
              0.8888888888888888,
              "#fdca26"
             ],
             [
              1,
              "#f0f921"
             ]
            ],
            "type": "heatmap"
           }
          ],
          "heatmapgl": [
           {
            "colorbar": {
             "outlinewidth": 0,
             "ticks": ""
            },
            "colorscale": [
             [
              0,
              "#0d0887"
             ],
             [
              0.1111111111111111,
              "#46039f"
             ],
             [
              0.2222222222222222,
              "#7201a8"
             ],
             [
              0.3333333333333333,
              "#9c179e"
             ],
             [
              0.4444444444444444,
              "#bd3786"
             ],
             [
              0.5555555555555556,
              "#d8576b"
             ],
             [
              0.6666666666666666,
              "#ed7953"
             ],
             [
              0.7777777777777778,
              "#fb9f3a"
             ],
             [
              0.8888888888888888,
              "#fdca26"
             ],
             [
              1,
              "#f0f921"
             ]
            ],
            "type": "heatmapgl"
           }
          ],
          "histogram": [
           {
            "marker": {
             "pattern": {
              "fillmode": "overlay",
              "size": 10,
              "solidity": 0.2
             }
            },
            "type": "histogram"
           }
          ],
          "histogram2d": [
           {
            "colorbar": {
             "outlinewidth": 0,
             "ticks": ""
            },
            "colorscale": [
             [
              0,
              "#0d0887"
             ],
             [
              0.1111111111111111,
              "#46039f"
             ],
             [
              0.2222222222222222,
              "#7201a8"
             ],
             [
              0.3333333333333333,
              "#9c179e"
             ],
             [
              0.4444444444444444,
              "#bd3786"
             ],
             [
              0.5555555555555556,
              "#d8576b"
             ],
             [
              0.6666666666666666,
              "#ed7953"
             ],
             [
              0.7777777777777778,
              "#fb9f3a"
             ],
             [
              0.8888888888888888,
              "#fdca26"
             ],
             [
              1,
              "#f0f921"
             ]
            ],
            "type": "histogram2d"
           }
          ],
          "histogram2dcontour": [
           {
            "colorbar": {
             "outlinewidth": 0,
             "ticks": ""
            },
            "colorscale": [
             [
              0,
              "#0d0887"
             ],
             [
              0.1111111111111111,
              "#46039f"
             ],
             [
              0.2222222222222222,
              "#7201a8"
             ],
             [
              0.3333333333333333,
              "#9c179e"
             ],
             [
              0.4444444444444444,
              "#bd3786"
             ],
             [
              0.5555555555555556,
              "#d8576b"
             ],
             [
              0.6666666666666666,
              "#ed7953"
             ],
             [
              0.7777777777777778,
              "#fb9f3a"
             ],
             [
              0.8888888888888888,
              "#fdca26"
             ],
             [
              1,
              "#f0f921"
             ]
            ],
            "type": "histogram2dcontour"
           }
          ],
          "mesh3d": [
           {
            "colorbar": {
             "outlinewidth": 0,
             "ticks": ""
            },
            "type": "mesh3d"
           }
          ],
          "parcoords": [
           {
            "line": {
             "colorbar": {
              "outlinewidth": 0,
              "ticks": ""
             }
            },
            "type": "parcoords"
           }
          ],
          "pie": [
           {
            "automargin": true,
            "type": "pie"
           }
          ],
          "scatter": [
           {
            "fillpattern": {
             "fillmode": "overlay",
             "size": 10,
             "solidity": 0.2
            },
            "type": "scatter"
           }
          ],
          "scatter3d": [
           {
            "line": {
             "colorbar": {
              "outlinewidth": 0,
              "ticks": ""
             }
            },
            "marker": {
             "colorbar": {
              "outlinewidth": 0,
              "ticks": ""
             }
            },
            "type": "scatter3d"
           }
          ],
          "scattercarpet": [
           {
            "marker": {
             "colorbar": {
              "outlinewidth": 0,
              "ticks": ""
             }
            },
            "type": "scattercarpet"
           }
          ],
          "scattergeo": [
           {
            "marker": {
             "colorbar": {
              "outlinewidth": 0,
              "ticks": ""
             }
            },
            "type": "scattergeo"
           }
          ],
          "scattergl": [
           {
            "marker": {
             "colorbar": {
              "outlinewidth": 0,
              "ticks": ""
             }
            },
            "type": "scattergl"
           }
          ],
          "scattermapbox": [
           {
            "marker": {
             "colorbar": {
              "outlinewidth": 0,
              "ticks": ""
             }
            },
            "type": "scattermapbox"
           }
          ],
          "scatterpolar": [
           {
            "marker": {
             "colorbar": {
              "outlinewidth": 0,
              "ticks": ""
             }
            },
            "type": "scatterpolar"
           }
          ],
          "scatterpolargl": [
           {
            "marker": {
             "colorbar": {
              "outlinewidth": 0,
              "ticks": ""
             }
            },
            "type": "scatterpolargl"
           }
          ],
          "scatterternary": [
           {
            "marker": {
             "colorbar": {
              "outlinewidth": 0,
              "ticks": ""
             }
            },
            "type": "scatterternary"
           }
          ],
          "surface": [
           {
            "colorbar": {
             "outlinewidth": 0,
             "ticks": ""
            },
            "colorscale": [
             [
              0,
              "#0d0887"
             ],
             [
              0.1111111111111111,
              "#46039f"
             ],
             [
              0.2222222222222222,
              "#7201a8"
             ],
             [
              0.3333333333333333,
              "#9c179e"
             ],
             [
              0.4444444444444444,
              "#bd3786"
             ],
             [
              0.5555555555555556,
              "#d8576b"
             ],
             [
              0.6666666666666666,
              "#ed7953"
             ],
             [
              0.7777777777777778,
              "#fb9f3a"
             ],
             [
              0.8888888888888888,
              "#fdca26"
             ],
             [
              1,
              "#f0f921"
             ]
            ],
            "type": "surface"
           }
          ],
          "table": [
           {
            "cells": {
             "fill": {
              "color": "#EBF0F8"
             },
             "line": {
              "color": "white"
             }
            },
            "header": {
             "fill": {
              "color": "#C8D4E3"
             },
             "line": {
              "color": "white"
             }
            },
            "type": "table"
           }
          ]
         },
         "layout": {
          "annotationdefaults": {
           "arrowcolor": "#2a3f5f",
           "arrowhead": 0,
           "arrowwidth": 1
          },
          "autotypenumbers": "strict",
          "coloraxis": {
           "colorbar": {
            "outlinewidth": 0,
            "ticks": ""
           }
          },
          "colorscale": {
           "diverging": [
            [
             0,
             "#8e0152"
            ],
            [
             0.1,
             "#c51b7d"
            ],
            [
             0.2,
             "#de77ae"
            ],
            [
             0.3,
             "#f1b6da"
            ],
            [
             0.4,
             "#fde0ef"
            ],
            [
             0.5,
             "#f7f7f7"
            ],
            [
             0.6,
             "#e6f5d0"
            ],
            [
             0.7,
             "#b8e186"
            ],
            [
             0.8,
             "#7fbc41"
            ],
            [
             0.9,
             "#4d9221"
            ],
            [
             1,
             "#276419"
            ]
           ],
           "sequential": [
            [
             0,
             "#0d0887"
            ],
            [
             0.1111111111111111,
             "#46039f"
            ],
            [
             0.2222222222222222,
             "#7201a8"
            ],
            [
             0.3333333333333333,
             "#9c179e"
            ],
            [
             0.4444444444444444,
             "#bd3786"
            ],
            [
             0.5555555555555556,
             "#d8576b"
            ],
            [
             0.6666666666666666,
             "#ed7953"
            ],
            [
             0.7777777777777778,
             "#fb9f3a"
            ],
            [
             0.8888888888888888,
             "#fdca26"
            ],
            [
             1,
             "#f0f921"
            ]
           ],
           "sequentialminus": [
            [
             0,
             "#0d0887"
            ],
            [
             0.1111111111111111,
             "#46039f"
            ],
            [
             0.2222222222222222,
             "#7201a8"
            ],
            [
             0.3333333333333333,
             "#9c179e"
            ],
            [
             0.4444444444444444,
             "#bd3786"
            ],
            [
             0.5555555555555556,
             "#d8576b"
            ],
            [
             0.6666666666666666,
             "#ed7953"
            ],
            [
             0.7777777777777778,
             "#fb9f3a"
            ],
            [
             0.8888888888888888,
             "#fdca26"
            ],
            [
             1,
             "#f0f921"
            ]
           ]
          },
          "colorway": [
           "#636efa",
           "#EF553B",
           "#00cc96",
           "#ab63fa",
           "#FFA15A",
           "#19d3f3",
           "#FF6692",
           "#B6E880",
           "#FF97FF",
           "#FECB52"
          ],
          "font": {
           "color": "#2a3f5f"
          },
          "geo": {
           "bgcolor": "white",
           "lakecolor": "white",
           "landcolor": "#E5ECF6",
           "showlakes": true,
           "showland": true,
           "subunitcolor": "white"
          },
          "hoverlabel": {
           "align": "left"
          },
          "hovermode": "closest",
          "mapbox": {
           "style": "light"
          },
          "paper_bgcolor": "white",
          "plot_bgcolor": "#E5ECF6",
          "polar": {
           "angularaxis": {
            "gridcolor": "white",
            "linecolor": "white",
            "ticks": ""
           },
           "bgcolor": "#E5ECF6",
           "radialaxis": {
            "gridcolor": "white",
            "linecolor": "white",
            "ticks": ""
           }
          },
          "scene": {
           "xaxis": {
            "backgroundcolor": "#E5ECF6",
            "gridcolor": "white",
            "gridwidth": 2,
            "linecolor": "white",
            "showbackground": true,
            "ticks": "",
            "zerolinecolor": "white"
           },
           "yaxis": {
            "backgroundcolor": "#E5ECF6",
            "gridcolor": "white",
            "gridwidth": 2,
            "linecolor": "white",
            "showbackground": true,
            "ticks": "",
            "zerolinecolor": "white"
           },
           "zaxis": {
            "backgroundcolor": "#E5ECF6",
            "gridcolor": "white",
            "gridwidth": 2,
            "linecolor": "white",
            "showbackground": true,
            "ticks": "",
            "zerolinecolor": "white"
           }
          },
          "shapedefaults": {
           "line": {
            "color": "#2a3f5f"
           }
          },
          "ternary": {
           "aaxis": {
            "gridcolor": "white",
            "linecolor": "white",
            "ticks": ""
           },
           "baxis": {
            "gridcolor": "white",
            "linecolor": "white",
            "ticks": ""
           },
           "bgcolor": "#E5ECF6",
           "caxis": {
            "gridcolor": "white",
            "linecolor": "white",
            "ticks": ""
           }
          },
          "title": {
           "x": 0.05
          },
          "xaxis": {
           "automargin": true,
           "gridcolor": "white",
           "linecolor": "white",
           "ticks": "",
           "title": {
            "standoff": 15
           },
           "zerolinecolor": "white",
           "zerolinewidth": 2
          },
          "yaxis": {
           "automargin": true,
           "gridcolor": "white",
           "linecolor": "white",
           "ticks": "",
           "title": {
            "standoff": 15
           },
           "zerolinecolor": "white",
           "zerolinewidth": 2
          }
         }
        },
        "title": {
         "text": "Relación muertes por covid con falta de personal"
        },
        "xaxis": {
         "title": {
          "text": "Número de hospitales con falta de personal"
         }
        },
        "yaxis": {
         "title": {
          "text": "Muertes por Covid"
         }
        }
       }
      }
     },
     "metadata": {},
     "output_type": "display_data"
    }
   ],
   "source": [
    "table07 = table[['date', 'deaths_covid', 'critical_staffing_shortage_today_yes']].copy()\n",
    "table07.dropna(inplace=True)\n",
    "table07 = table07.groupby('date').sum().reset_index(drop = True)\n",
    "min = 100\n",
    "table_r = table07[table07['critical_staffing_shortage_today_yes'] >= min].copy()\n",
    "fig = go.Figure()\n",
    "trace07 = go.Scatter(y = table07['deaths_covid'],\n",
    "                    x = table07['critical_staffing_shortage_today_yes'], mode = 'markers')\n",
    "fig.add_trace(trace07)\n",
    "fig.update_layout(\n",
    "    title='Relación muertes por covid con falta de personal',\n",
    "    yaxis_title = 'Muertes por Covid',\n",
    "    xaxis_title = 'Número de hospitales con falta de personal')"
   ]
  },
  {
   "cell_type": "code",
   "execution_count": 31,
   "metadata": {},
   "outputs": [
    {
     "name": "stdout",
     "output_type": "stream",
     "text": [
      "**Error en predicciones (MSE):** 123259.50762957764\n"
     ]
    },
    {
     "data": {
      "application/vnd.plotly.v1+json": {
       "config": {
        "plotlyServerURL": "https://plot.ly"
       },
       "data": [
        {
         "mode": "markers",
         "name": "Datos",
         "type": "scatter",
         "x": [
          242,
          334,
          417,
          418,
          418,
          440,
          476,
          628,
          675,
          707,
          709,
          688,
          749,
          753,
          761,
          781,
          788,
          765,
          742,
          779,
          777,
          801,
          775,
          788,
          773,
          746,
          791,
          794,
          771,
          780,
          798,
          779,
          766,
          781,
          774,
          771,
          792,
          800,
          769,
          763,
          781,
          760,
          790,
          785,
          815,
          810,
          780,
          814,
          807,
          826,
          831,
          841,
          812,
          904,
          876,
          898,
          910,
          908,
          931,
          887,
          884,
          910,
          918,
          902,
          914,
          856,
          828,
          808,
          843,
          850,
          853,
          835,
          859,
          829,
          837,
          874,
          852,
          867,
          861,
          892,
          858,
          849,
          899,
          893,
          905,
          920,
          933,
          921,
          913,
          923,
          933,
          950,
          964,
          979,
          949,
          955,
          954,
          940,
          957,
          975,
          976,
          946,
          932,
          952,
          938,
          967,
          975,
          993,
          1015,
          979,
          981,
          987,
          999,
          1010,
          1025,
          992,
          992,
          1000,
          1047,
          1086,
          1117,
          1114,
          1092,
          1087,
          1083,
          1094,
          1136,
          1131,
          1146,
          1133,
          1120,
          1125,
          1122,
          1174,
          1135,
          1148,
          1158,
          1154,
          1132,
          1110,
          1179,
          1181,
          1183,
          1175,
          1180,
          1167,
          1180,
          1264,
          1228,
          1248,
          1233,
          1231,
          1241,
          1220,
          1265,
          1241,
          1250,
          1239,
          1236,
          1215,
          1211,
          1266,
          1269,
          1246,
          1261,
          1268,
          1210,
          1078,
          1062,
          1088,
          1023,
          1055,
          1076,
          1076,
          1082,
          1113,
          1105,
          1083,
          1090,
          1094,
          1074,
          1064,
          1097,
          1088,
          1071,
          1045,
          1062,
          1016,
          995,
          1030,
          1004,
          1011,
          972,
          978,
          957,
          941,
          959,
          940,
          926,
          908,
          899,
          887,
          861,
          888,
          875,
          881,
          861,
          860,
          843,
          821,
          853,
          849,
          848,
          824,
          814,
          836,
          823,
          837,
          821,
          817,
          777,
          768,
          757,
          759,
          779,
          754,
          755,
          734,
          733,
          709,
          695,
          710,
          726,
          726,
          702,
          716,
          709,
          700,
          733,
          699,
          696,
          691,
          690,
          684,
          683,
          709,
          702,
          707,
          682,
          688,
          669,
          644,
          670,
          655,
          651,
          647,
          647,
          639,
          638,
          677,
          651,
          671,
          655,
          662,
          644,
          638,
          677,
          657,
          682,
          668,
          662,
          656,
          657,
          685,
          672,
          671,
          651,
          646,
          645,
          647,
          687,
          660,
          670,
          654,
          641,
          656,
          640,
          664,
          659,
          656,
          654,
          643,
          643,
          650,
          677,
          667,
          651,
          646,
          659,
          628,
          608,
          678,
          660,
          656,
          660,
          652,
          643,
          645,
          671,
          646,
          651,
          642,
          634,
          615,
          616,
          635,
          642,
          647,
          628,
          634,
          598,
          602,
          651,
          621,
          614,
          607,
          608,
          594,
          606,
          626,
          612,
          599,
          598,
          602,
          589,
          591,
          614,
          606,
          622,
          601,
          609,
          598,
          590,
          635,
          622,
          637,
          607,
          600,
          580,
          581,
          626,
          615,
          617,
          609,
          591,
          567,
          568,
          622,
          614,
          627,
          615,
          606,
          591,
          606,
          628,
          626,
          639,
          613,
          604,
          616,
          614,
          659,
          652,
          661,
          640,
          664,
          675,
          570,
          620,
          625,
          642,
          609,
          606,
          612,
          633,
          670,
          656,
          678,
          655,
          686,
          693,
          713,
          764,
          734,
          742,
          707,
          718,
          740,
          747,
          815,
          807,
          827,
          781,
          793,
          835,
          843,
          897,
          905,
          916,
          902,
          904,
          915,
          903,
          948,
          943,
          956,
          927,
          905,
          886,
          933,
          1008,
          981,
          1013,
          964,
          957,
          966,
          963,
          1023,
          1010,
          993,
          960,
          940,
          969,
          970,
          1026,
          971,
          985,
          957,
          957,
          978,
          959,
          1005,
          982,
          997,
          947,
          944,
          968,
          944,
          989,
          967,
          973,
          956,
          948,
          967,
          962,
          1001,
          1018,
          976,
          957,
          949,
          934,
          952,
          1015,
          983,
          1014,
          977,
          979,
          973,
          961,
          992,
          981,
          997,
          985,
          978,
          946,
          947,
          971,
          951,
          966,
          924,
          910,
          916,
          930,
          970,
          937,
          957,
          933,
          902,
          918,
          952,
          982,
          980,
          987,
          941,
          932,
          957,
          958,
          998,
          951,
          960,
          944,
          956,
          968,
          963,
          1013,
          1002,
          981,
          954,
          966,
          964,
          980,
          1011,
          1010,
          1012,
          981,
          976,
          977,
          987,
          1058,
          1040,
          1045,
          1030,
          1015,
          1016,
          1006,
          1050,
          1048,
          1016,
          986,
          998,
          1023,
          1042,
          1085,
          1089,
          1063,
          1056,
          1069,
          1093,
          1103,
          1178,
          1162,
          1181,
          1099,
          1091,
          991,
          986,
          1012,
          1015,
          1003,
          953,
          957,
          972,
          956,
          784,
          790,
          808,
          756,
          757,
          761,
          765,
          721,
          711,
          681,
          644,
          635,
          630,
          525,
          459,
          462,
          464,
          448,
          443,
          431,
          415,
          437,
          429,
          432,
          407,
          411,
          390,
          403,
          407,
          404,
          409,
          370,
          363,
          361,
          361,
          361,
          380,
          374,
          357,
          354,
          340,
          338,
          351,
          345,
          343,
          314,
          325,
          318,
          321,
          325,
          315,
          317,
          309,
          304,
          289,
          291,
          307,
          312,
          306,
          298,
          301,
          281,
          285,
          292,
          301,
          294,
          281,
          286,
          275,
          281,
          299,
          305,
          313,
          298,
          293,
          279,
          285,
          295,
          300,
          303,
          279,
          286,
          282,
          280,
          299,
          302,
          292,
          280,
          282,
          290,
          286,
          303,
          303,
          285,
          284,
          283,
          282,
          280,
          292,
          283,
          289,
          298,
          286,
          275,
          278,
          292,
          300,
          297,
          275,
          271,
          284,
          270,
          290,
          297,
          285,
          276,
          279,
          278,
          272,
          285,
          295,
          297,
          270,
          267,
          263,
          278,
          275,
          282,
          287,
          274,
          262,
          244,
          258,
          263,
          283,
          277,
          272,
          275,
          266,
          266,
          276,
          275,
          277,
          277,
          268,
          268,
          256,
          277,
          281,
          289,
          281,
          278,
          274,
          259,
          274,
          284,
          279,
          270,
          270,
          252,
          254,
          291,
          306,
          307,
          283,
          282,
          268,
          271,
          287,
          301,
          310,
          304,
          299,
          297,
          301,
          310,
          316,
          307,
          299,
          294,
          292,
          285,
          309,
          308,
          308,
          298,
          297,
          282,
          295,
          292,
          308,
          310,
          291,
          300,
          297,
          301,
          311,
          310,
          314,
          313,
          315,
          301
         ],
         "y": [
          648,
          526,
          532,
          440,
          394,
          497,
          570,
          739,
          1079,
          838,
          804,
          874,
          727,
          767,
          901,
          1305,
          1348,
          1314,
          1329,
          1288,
          1230,
          1329,
          1249,
          1275,
          1270,
          1216,
          1246,
          1241,
          1274,
          1220,
          1254,
          1223,
          1143,
          1177,
          1137,
          1189,
          1232,
          664,
          606,
          530,
          554,
          648,
          635,
          610,
          568,
          518,
          551,
          539,
          605,
          602,
          545,
          521,
          540,
          487,
          452,
          544,
          887,
          541,
          491,
          479,
          500,
          461,
          510,
          557,
          498,
          464,
          465,
          466,
          468,
          486,
          453,
          475,
          457,
          444,
          440,
          424,
          551,
          432,
          462,
          509,
          500,
          418,
          559,
          485,
          477,
          506,
          495,
          520,
          473,
          498,
          501,
          488,
          496,
          584,
          518,
          539,
          556,
          564,
          557,
          554,
          531,
          505,
          507,
          532,
          526,
          785,
          769,
          1246,
          1303,
          1204,
          1276,
          845,
          858,
          934,
          987,
          936,
          935,
          998,
          1016,
          1070,
          928,
          1246,
          913,
          918,
          1024,
          1096,
          1151,
          1109,
          1212,
          1123,
          1062,
          1272,
          1338,
          1413,
          1307,
          1207,
          1354,
          1368,
          1335,
          1447,
          1573,
          1618,
          1615,
          1550,
          1555,
          1646,
          1657,
          1758,
          1831,
          1671,
          1628,
          1555,
          1730,
          1832,
          1844,
          1854,
          1963,
          1997,
          1790,
          2043,
          2094,
          2139,
          1914,
          1930,
          1731,
          1922,
          2168,
          2181,
          2171,
          2267,
          2143,
          2047,
          2119,
          2183,
          2369,
          2372,
          2361,
          2340,
          2183,
          2163,
          2206,
          2308,
          2380,
          2363,
          2337,
          2240,
          2156,
          2177,
          2309,
          2190,
          2261,
          2109,
          2063,
          1845,
          1899,
          1961,
          1970,
          1824,
          1817,
          1651,
          1674,
          1696,
          1720,
          1646,
          1742,
          1615,
          1500,
          1347,
          1466,
          1374,
          1377,
          1363,
          1283,
          1172,
          1123,
          1113,
          1051,
          1134,
          1074,
          1078,
          936,
          895,
          955,
          907,
          918,
          898,
          826,
          752,
          772,
          735,
          671,
          704,
          682,
          673,
          564,
          570,
          624,
          635,
          607,
          567,
          567,
          495,
          475,
          461,
          505,
          486,
          541,
          560,
          487,
          482,
          528,
          455,
          473,
          502,
          555,
          430,
          387,
          447,
          435,
          397,
          495,
          476,
          403,
          404,
          375,
          480,
          448,
          595,
          420,
          474,
          442,
          486,
          498,
          534,
          509,
          517,
          390,
          458,
          499,
          537,
          527,
          508,
          571,
          459,
          420,
          521,
          449,
          460,
          461,
          437,
          384,
          407,
          407,
          426,
          388,
          392,
          400,
          429,
          392,
          379,
          408,
          362,
          399,
          346,
          382,
          339,
          341,
          386,
          361,
          346,
          353,
          308,
          305,
          278,
          290,
          310,
          325,
          274,
          263,
          288,
          259,
          256,
          345,
          251,
          230,
          235,
          211,
          212,
          225,
          226,
          250,
          237,
          187,
          236,
          183,
          180,
          196,
          188,
          194,
          181,
          156,
          183,
          205,
          180,
          176,
          197,
          189,
          160,
          440,
          162,
          174,
          186,
          201,
          184,
          187,
          188,
          187,
          183,
          188,
          178,
          201,
          173,
          211,
          220,
          224,
          220,
          225,
          246,
          256,
          236,
          230,
          272,
          287,
          279,
          350,
          329,
          330,
          384,
          406,
          382,
          439,
          447,
          482,
          522,
          553,
          579,
          614,
          641,
          747,
          707,
          795,
          835,
          890,
          945,
          939,
          1035,
          997,
          1027,
          1130,
          1179,
          1228,
          1250,
          1240,
          1274,
          1279,
          1346,
          1415,
          1367,
          1423,
          1436,
          1369,
          1431,
          1496,
          1547,
          1581,
          1494,
          1491,
          1533,
          1491,
          1549,
          1514,
          1508,
          1689,
          1701,
          1559,
          1579,
          1634,
          1585,
          1602,
          1493,
          1505,
          1393,
          1545,
          1503,
          1487,
          1456,
          1388,
          1406,
          1239,
          1411,
          1333,
          1341,
          1346,
          1186,
          1175,
          1164,
          1250,
          1095,
          1101,
          1215,
          1169,
          1065,
          947,
          969,
          971,
          954,
          914,
          983,
          1100,
          952,
          850,
          918,
          935,
          899,
          824,
          850,
          743,
          805,
          753,
          816,
          760,
          795,
          743,
          730,
          646,
          730,
          683,
          677,
          648,
          631,
          679,
          742,
          672,
          705,
          705,
          759,
          635,
          628,
          600,
          687,
          818,
          759,
          750,
          686,
          683,
          733,
          827,
          809,
          717,
          690,
          780,
          902,
          820,
          861,
          1004,
          901,
          911,
          770,
          864,
          894,
          917,
          949,
          1000,
          1048,
          942,
          879,
          1080,
          1016,
          1076,
          1097,
          1163,
          1068,
          1008,
          1026,
          1120,
          1297,
          1227,
          1071,
          1109,
          943,
          1146,
          1191,
          1306,
          1236,
          1282,
          1196,
          1123,
          1326,
          1324,
          1475,
          1505,
          1539,
          1473,
          1487,
          1392,
          1453,
          1623,
          1533,
          1558,
          1492,
          1526,
          1617,
          1476,
          1324,
          1313,
          1320,
          1282,
          1247,
          1311,
          1313,
          1238,
          1301,
          1200,
          1137,
          1057,
          1085,
          1051,
          1021,
          1047,
          926,
          901,
          863,
          836,
          796,
          809,
          725,
          813,
          736,
          703,
          667,
          648,
          585,
          842,
          537,
          496,
          488,
          458,
          458,
          474,
          414,
          383,
          355,
          322,
          318,
          343,
          324,
          316,
          250,
          280,
          249,
          241,
          230,
          234,
          227,
          180,
          200,
          151,
          155,
          192,
          160,
          173,
          180,
          159,
          144,
          140,
          166,
          142,
          180,
          158,
          122,
          96,
          107,
          92,
          103,
          110,
          114,
          97,
          84,
          83,
          84,
          79,
          107,
          88,
          75,
          161,
          96,
          143,
          75,
          81,
          79,
          79,
          150,
          91,
          84,
          92,
          80,
          80,
          70,
          72,
          75,
          125,
          103,
          108,
          106,
          91,
          81,
          125,
          103,
          82,
          87,
          91,
          84,
          84,
          89,
          137,
          74,
          107,
          88,
          90,
          82,
          103,
          95,
          98,
          95,
          98,
          102,
          103,
          92,
          116,
          121,
          102,
          108,
          132,
          163,
          229,
          116,
          104,
          124,
          135,
          222,
          109,
          342,
          159,
          151,
          118,
          125,
          125,
          112,
          115,
          120,
          146,
          122,
          115,
          140,
          123,
          120,
          139,
          124,
          124,
          143,
          133,
          111,
          141,
          136,
          139,
          139,
          150,
          127,
          155,
          127,
          166,
          146,
          140,
          137,
          148,
          156,
          147,
          160,
          210,
          157,
          167,
          163,
          176,
          176,
          170,
          211,
          200,
          125,
          171,
          175,
          176,
          171,
          186,
          192,
          181,
          235,
          175,
          200,
          161,
          174,
          178,
          183,
          175,
          169,
          166
         ]
        },
        {
         "mode": "markers",
         "name": "Train Data",
         "type": "scatter",
         "x": [
          279,
          771,
          957,
          691,
          807,
          867,
          615,
          690,
          1045,
          979,
          644,
          1042,
          946,
          957,
          634,
          710,
          677,
          281,
          258,
          740,
          616,
          310,
          684,
          849,
          784,
          1268,
          995,
          594,
          815,
          774,
          1012,
          647,
          314,
          669,
          976,
          298,
          1241,
          657,
          390,
          370,
          635,
          899,
          634,
          1103,
          962,
          749,
          1266,
          707,
          263,
          957,
          656,
          1040,
          1215,
          283,
          966,
          709,
          861,
          964,
          1006,
          828,
          277,
          606,
          948,
          956,
          272,
          628,
          290,
          278,
          279,
          781,
          709,
          1012,
          476,
          602,
          1058,
          938,
          409,
          764,
          886,
          933,
          951,
          693,
          275,
          821,
          756,
          285,
          881,
          1005,
          1004,
          924,
          1085,
          957,
          374,
          1122,
          726,
          1076,
          1090,
          307,
          448,
          861,
          1010,
          954,
          284,
          626,
          1023,
          923,
          295,
          1094,
          242,
          780,
          1055,
          321,
          606,
          993,
          1174,
          971,
          759,
          997,
          932,
          1015,
          824,
          946,
          642,
          702,
          983,
          902,
          1094,
          1015,
          1162,
          827,
          275,
          779,
          791,
          294,
          315,
          606,
          418,
          1135,
          607,
          615,
          1062,
          951,
          667,
          300,
          927,
          285,
          278,
          754,
          294,
          612,
          981,
          598,
          311,
          403,
          275,
          271,
          930,
          944,
          432,
          459,
          999,
          313,
          284,
          777,
          856,
          659,
          1136,
          677,
          285,
          670,
          601,
          303,
          1154,
          298,
          628,
          590,
          266,
          646,
          1016,
          1045,
          977,
          609,
          345,
          1220,
          876,
          798,
          948,
          272,
          976,
          310,
          275,
          254,
          700,
          286,
          910,
          884,
          902,
          655,
          275,
          644,
          281,
          997,
          843,
          713,
          934,
          1026,
          1078,
          769,
          903,
          280,
          256,
          608,
          941,
          980,
          280,
          1246,
          1083,
          1265,
          614,
          887,
          966,
          660,
          297,
          357,
          635,
          525,
          642,
          361,
          1236,
          841,
          315,
          295,
          968,
          606,
          957,
          978,
          817,
          671,
          837,
          670,
          956,
          270,
          418,
          290,
          404,
          308,
          270,
          440,
          1181,
          953,
          1148,
          960,
          620,
          297,
          775,
          287,
          651,
          641,
          662,
          963,
          287,
          660,
          1008,
          777,
          274,
          598,
          978,
          652,
          1117,
          849,
          282,
          753,
          979,
          963,
          299,
          297,
          1211,
          308,
          733,
          625,
          958,
          998,
          959,
          1069,
          286,
          941,
          1011,
          992,
          429,
          281,
          1261,
          975,
          788,
          902,
          981,
          633,
          268,
          967,
          1089,
          284,
          626,
          947,
          910,
          637,
          292,
          843,
          711,
          979,
          443,
          970,
          893,
          299,
          580,
          363,
          1001,
          926,
          1167,
          943,
          1233,
          1099,
          763,
          278,
          1003,
          277,
          651,
          622,
          850,
          981,
          964,
          609,
          768,
          289,
          1180,
          656,
          780,
          1025,
          966,
          291,
          1105,
          1062,
          600,
          675,
          431,
          304,
          303,
          411,
          1030,
          1158,
          968,
          286,
          651,
          297,
          654,
          270,
          275,
          726,
          781,
          913,
          815,
          598,
          910,
          301,
          908,
          993,
          635,
          742,
          646,
          829,
          734,
          1015,
          1181,
          303,
          313,
          282,
          837,
          1178,
          305,
          981,
          1132,
          848,
          280,
          301,
          298,
          266,
          702,
          808,
          773,
          609,
          823,
          1133,
          581,
          987,
          1210,
          860,
          957,
          956,
          672,
          282,
          325,
          1050,
          664,
          992,
          608,
          1114,
          954,
          733,
          351,
          944,
          1000,
          1014,
          746,
          981,
          1248,
          1241,
          986,
          952,
          314,
          1110,
          651,
          621,
          292,
          682,
          973,
          904,
          289,
          779,
          606,
          651,
          668,
          755,
          949,
          976,
          687,
          640,
          380,
          281,
          947,
          1071,
          659,
          252,
          309,
          671,
          259,
          1097,
          766,
          858,
          645,
          688,
          785,
          933,
          792,
          931,
          760,
          915,
          681,
          821,
          1228,
          338,
          1087,
          437,
          957,
          570,
          1120,
          788,
          278,
          808,
          614,
          1010,
          612,
          887,
          604,
          790,
          312,
          678,
          643,
          647,
          304,
          940,
          955,
          301,
          1088,
          407,
          652,
          721,
          661,
          734,
          297,
          1175,
          1074,
          1125,
          282,
          814,
          614,
          888,
          905,
          279,
          630,
          306,
          747,
          950,
          899,
          960,
          1086,
          643,
          908,
          602,
          639,
          307,
          982,
          790,
          301,
          655,
          591,
          685,
          918,
          957,
          904,
          310,
          1146,
          771,
          1088,
          949,
          980,
          270,
          1231,
          683,
          291,
          1091,
          991,
          292,
          268,
          638,
          659,
          964,
          1264,
          300,
          1083,
          975,
          989,
          940,
          279,
          992,
          859,
          1093,
          263,
          292,
          1082,
          921,
          972,
          933,
          274,
          616,
          718,
          318,
          985,
          853,
          325,
          646,
          310,
          707,
          627,
          274,
          972,
          285,
          765,
          244
         ],
         "y": [
          63.99743828685297,
          843.1876498966288,
          1137.7595591637391,
          716.4900545129254,
          900.2015678192955,
          995.224764357073,
          596.1273388984073,
          714.9063345706292,
          1277.126914085813,
          1172.6013978942578,
          642.0552172249998,
          1272.3757542589242,
          1120.33863979848,
          1137.7595591637391,
          626.2180178020368,
          746.5807334165551,
          694.3179753207775,
          67.16487817144554,
          30.739319498630778,
          794.0923316854438,
          597.7110588407036,
          113.092756498038,
          705.4040149168515,
          966.7178053957397,
          863.7760091464808,
          1630.2964612178862,
          1197.9409169709984,
          562.8692201101851,
          912.8713273576658,
          847.9388097235177,
          1224.8641559900357,
          646.8063770518887,
          119.42763626722319,
          681.648215782407,
          1167.850238067369,
          94.08811719048248,
          1587.5360227758865,
          662.6435764748516,
          239.79035188174146,
          208.11595303581555,
          627.8017377443331,
          1045.9038025105542,
          626.2180178020368,
          1368.982670738998,
          1145.678158875221,
          808.3458111661106,
          1627.1290213332936,
          741.8295735896662,
          38.657919210112254,
          1137.7595591637391,
          661.0598565325553,
          1269.2083143743316,
          1546.3593042761827,
          70.3323180560381,
          1152.0130386444062,
          744.9970134742588,
          985.7224447032953,
          1148.8455987598136,
          1215.3618363362575,
          933.4596866075177,
          60.829998402260344,
          581.8738594177406,
          1123.5060796830726,
          1136.1758392214429,
          52.91139869077887,
          616.7156981482591,
          81.41835765211215,
          62.41371834455663,
          63.99743828685297,
          859.0248493195919,
          744.9970134742588,
          1224.8641559900357,
          375.99026691922256,
          575.5389796485555,
          1297.7152733356647,
          1107.6688802601097,
          269.88103078537097,
          832.1016103005549,
          1025.3154432607025,
          1099.7502805486283,
          1128.2572395099614,
          719.657494397518,
          57.662558517667776,
          922.3736470114435,
          819.4318507621846,
          73.49975794063067,
          1017.3968435492212,
          1213.7781163939612,
          1212.194396451665,
          1085.4968010679618,
          1340.4757117776649,
          1137.7595591637391,
          214.4508328050007,
          1399.0733496426278,
          771.9202524932958,
          1326.2222322969983,
          1348.3943114891463,
          108.34159667114915,
          331.6461085349264,
          985.7224447032953,
          1221.6967161054426,
          1133.0083993368503,
          71.91603799833439,
          613.5482582636665,
          1242.2850753552948,
          1083.9130811256655,
          89.33695736359363,
          1354.7291912583314,
          5.39980042189012,
          857.4411293772956,
          1292.9641135087759,
          130.51367586329724,
          581.8738594177406,
          1194.7734770864058,
          1481.426786642035,
          1159.9316383558876,
          824.1830105890734,
          1201.108356855591,
          1098.166560606332,
          1229.6153158169245,
          927.1248068383323,
          1120.33863979848,
          638.8877773404072,
          733.9109738781848,
          1178.936277663443,
          1050.654962337443,
          1354.7291912583314,
          1229.6153158169245,
          1462.4221473344792,
          931.8759666652212,
          57.662558517667776,
          855.8574094349993,
          874.8620487425547,
          87.75323742129734,
          121.01135620951948,
          581.8738594177406,
          284.13451026603764,
          1419.6617088924795,
          583.4575793600369,
          596.1273388984073,
          1304.0501531048499,
          1128.2572395099614,
          678.4807758978144,
          97.2555570750751,
          1090.2479608948506,
          73.49975794063067,
          62.41371834455663,
          816.264410877592,
          87.75323742129734,
          591.3761790715184,
          1175.7688377788504,
          569.2040998793703,
          114.67647644033428,
          260.37871113159326,
          57.662558517667776,
          51.32767874848258,
          1094.9991207217395,
          1117.1711999138874,
          306.3065894581857,
          349.0670279001856,
          1204.2757967401835,
          117.84391632492691,
          71.91603799833439,
          852.6899695504068,
          977.8038449918139,
          665.8110163594441,
          1421.2454288347758,
          694.3179753207775,
          73.49975794063067,
          683.2319357247035,
          573.9552597062592,
          102.00671690196396,
          1449.752387796109,
          94.08811719048248,
          616.7156981482591,
          556.534340341,
          43.40907903700116,
          645.2226571095923,
          1231.1990357592208,
          1277.126914085813,
          1169.4339580096653,
          586.6250192446295,
          168.52295447840822,
          1554.277903987664,
          1009.4782438377396,
          885.9480883386287,
          1123.5060796830726,
          52.91139869077887,
          1167.850238067369,
          113.092756498038,
          57.662558517667776,
          24.40443972944564,
          730.7435339935922,
          75.08347788292701,
          1063.3247218758138,
          1022.1480033761101,
          1050.654962337443,
          659.476136590259,
          57.662558517667776,
          642.0552172249998,
          67.16487817144554,
          1201.108356855591,
          957.215485741962,
          751.3318932434439,
          1101.3340004909246,
          1247.0362351821836,
          1329.3896721815909,
          840.0202100120363,
          1052.2386822797394,
          65.58115822914925,
          27.57187961403821,
          585.0412993023332,
          1112.4200400869986,
          1174.1851178365541,
          65.58115822914925,
          1595.454622487368,
          1337.3082718930723,
          1625.5453013909973,
          594.543618956111,
          1026.8991632029988,
          1152.0130386444062,
          667.3947363017404,
          92.5043972481862,
          187.52759378596375,
          627.8017377443331,
          453.59254409174093,
          638.8877773404072,
          193.86247355514888,
          1579.617423064405,
          954.0480458573694,
          121.01135620951948,
          89.33695736359363,
          1155.1804785289987,
          581.8738594177406,
          1137.7595591637391,
          1171.0176779519616,
          916.0387672422584,
          684.8156556669998,
          947.7131660881843,
          683.2319357247035,
          1136.1758392214429,
          49.7439588061863,
          284.13451026603764,
          81.41835765211215,
          261.96243107388955,
          109.92531661344543,
          49.7439588061863,
          318.9763489965561,
          1492.512826238109,
          1131.424679394554,
          1440.2500681423312,
          1142.5107189906284,
          604.0459386098887,
          92.5043972481862,
          849.5225296658142,
          76.6671978252233,
          653.1412568210739,
          637.3040573981109,
          670.562176186333,
          1147.2618788175173,
          76.6671978252233,
          667.3947363017404,
          1218.52927622085,
          852.6899695504068,
          56.07883857537149,
          569.2040998793703,
          1171.0176779519616,
          654.7249767633701,
          1391.1547499311464,
          966.7178053957397,
          68.74859811374182,
          814.6806909352957,
          1172.6013978942578,
          1147.2618788175173,
          95.67183713277882,
          92.5043972481862,
          1540.0244245069975,
          109.92531661344543,
          783.0062920893698,
          611.9645383213702,
          1139.3432791060354,
          1202.6920767978872,
          1140.9269990483322,
          1315.1361927009243,
          75.08347788292701,
          1112.4200400869986,
          1223.2804360477394,
          1193.1897571441095,
          301.5554296312969,
          67.16487817144554,
          1619.2104216218122,
          1166.2665181250727,
          870.1108889156659,
          1050.654962337443,
          1175.7688377788504,
          624.6342978597405,
          46.57651892159373,
          1153.5967585867024,
          1346.81059154685,
          71.91603799833439,
          613.5482582636665,
          1121.9223597407763,
          1063.3247218758138,
          630.9691776289258,
          84.58579753670472,
          957.215485741962,
          748.1644533588513,
          1172.6013978942578,
          323.72750882344496,
          1158.3479184135913,
          1036.4014828567765,
          95.67183713277882,
          540.697140918037,
          197.02991343974156,
          1207.443236624776,
          1088.6642409525543,
          1470.3407470459606,
          1115.5874799715912,
          1574.8662632375163,
          1362.6477909698128,
          830.5178903582586,
          62.41371834455663,
          1210.6106765093687,
          60.829998402260344,
          653.1412568210739,
          607.2133784944813,
          968.301525338036,
          1175.7688377788504,
          1148.8455987598136,
          586.6250192446295,
          838.43649006974,
          79.83463770981587,
          1490.9291062958127,
          661.0598565325553,
          857.4411293772956,
          1245.4525152398874,
          1152.0130386444062,
          83.00207759440843,
          1372.1501106235905,
          1304.0501531048499,
          572.3715397639629,
          691.1505354361849,
          304.72286951588944,
          103.59043684426024,
          102.00671690196396,
          273.04847066996354,
          1253.3711149513688,
          1456.087267565294,
          1155.1804785289987,
          75.08347788292701,
          653.1412568210739,
          92.5043972481862,
          657.8924166479627,
          49.7439588061863,
          57.662558517667776,
          771.9202524932958,
          859.0248493195919,
          1068.0758817027026,
          912.8713273576658,
          569.2040998793703,
          1063.3247218758138,
          98.83927701737139,
          1060.1572819912212,
          1194.7734770864058,
          627.8017377443331,
          797.2597715700364,
          645.2226571095923,
          935.043406549814,
          784.5900120316661,
          1229.6153158169245,
          1492.512826238109,
          102.00671690196396,
          117.84391632492691,
          68.74859811374182,
          947.7131660881843,
          1487.7616664112202,
          105.17415678655652,
          1175.7688377788504,
          1414.9105490655907,
          965.1340854534434,
          65.58115822914925,
          98.83927701737139,
          94.08811719048248,
          43.40907903700116,
          733.9109738781848,
          901.7852877615918,
          846.3550897812214,
          586.6250192446295,
          925.5410868960361,
          1416.494269007887,
          542.2808608603333,
          1185.2711574326281,
          1538.4407045647013,
          984.138724760999,
          1137.7595591637391,
          1136.1758392214429,
          686.399375609296,
          68.74859811374182,
          136.84855563248243,
          1285.0455137972945,
          673.7296160709255,
          1193.1897571441095,
          585.0412993023332,
          1386.403590104257,
          1133.0083993368503,
          783.0062920893698,
          178.02527413218604,
          1117.1711999138874,
          1205.8595166824798,
          1228.0315958746282,
          803.5946513392215,
          1175.7688377788504,
          1598.6220623719605,
          1587.5360227758865,
          1183.6874374903318,
          1129.8409594522577,
          119.42763626722319,
          1380.068710335072,
          653.1412568210739,
          605.629658552185,
          84.58579753670472,
          702.2365750322589,
          1163.0990782404801,
          1053.8224022220356,
          79.83463770981587,
          855.8574094349993,
          581.8738594177406,
          653.1412568210739,
          680.0644958401107,
          817.8481308198883,
          1125.0897996253689,
          1167.850238067369,
          710.1551747437403,
          635.7203374558146,
          223.9531524587785,
          67.16487817144554,
          1121.9223597407763,
          1318.3036325855169,
          665.8110163594441,
          21.236999844853017,
          111.50903655574172,
          684.8156556669998,
          32.32303944092706,
          1359.4803510852203,
          835.2690501851474,
          980.9712848764065,
          643.638937167296,
          711.7388946860366,
          865.359729088777,
          1099.7502805486283,
          876.445768684851,
          1096.5828406640358,
          825.7667305313697,
          1071.2433215872952,
          700.6528550899626,
          922.3736470114435,
          1566.9476635260348,
          157.43691488233424,
          1343.6431516622574,
          314.22518916966715,
          1137.7595591637391,
          524.859941495074,
          1395.9059097580352,
          870.1108889156659,
          62.41371834455663,
          901.7852877615918,
          594.543618956111,
          1221.6967161054426,
          591.3761790715184,
          1026.8991632029988,
          578.706419533148,
          873.2783288002585,
          116.26019638263062,
          695.9016952630737,
          640.4714972827035,
          646.8063770518887,
          103.59043684426024,
          1110.8363201447023,
          1134.5921192791466,
          98.83927701737139,
          1345.2268716045537,
          266.7135909007784,
          654.7249767633701,
          764.0016527818142,
          668.9784562440367,
          784.5900120316661,
          92.5043972481862,
          1483.0105065843313,
          1323.0547924124057,
          1403.8245094695167,
          68.74859811374182,
          911.2876074153695,
          594.543618956111,
          1028.482883145295,
          1055.406122164332,
          63.99743828685297,
          619.8831380328517,
          106.75787672885286,
          805.1783712815178,
          1126.6735195676652,
          1045.9038025105542,
          1142.5107189906284,
          1342.0594317199611,
          640.4714972827035,
          1060.1572819912212,
          575.5389796485555,
          634.1366175135183,
          108.34159667114915,
          1177.3525577211467,
          873.2783288002585,
          98.83927701737139,
          659.476136590259,
          558.1180602832962,
          706.9877348591477,
          1075.994481414184,
          1137.7595591637391,
          1053.8224022220356,
          113.092756498038,
          1437.0826282577386,
          843.1876498966288,
          1345.2268716045537,
          1125.0897996253689,
          1174.1851178365541,
          49.7439588061863,
          1571.6988233529237,
          703.8202949745552,
          83.00207759440843,
          1349.9780314314426,
          1191.6060372018133,
          84.58579753670472,
          46.57651892159373,
          632.552897571222,
          665.8110163594441,
          1148.8455987598136,
          1623.961581448701,
          97.2555570750751,
          1337.3082718930723,
          1166.2665181250727,
          1188.4385973172207,
          1110.8363201447023,
          63.99743828685297,
          1193.1897571441095,
          982.5550048187027,
          1353.1454713160351,
          38.657919210112254,
          84.58579753670472,
          1335.724551950776,
          1080.745641241073,
          1161.5153582981839,
          1099.7502805486283,
          56.07883857537149,
          597.7110588407036,
          759.2504929549253,
          125.76251603640833,
          1182.1037175480355,
          973.0526851649248,
          136.84855563248243,
          645.2226571095923,
          113.092756498038,
          741.8295735896662,
          615.1319782059628,
          56.07883857537149,
          1161.5153582981839,
          73.49975794063067,
          833.6853302428511,
          8.567240306482688
         ]
        },
        {
         "mode": "markers",
         "name": "Test Data",
         "type": "scatter",
         "x": [
          282,
          267,
          835,
          892,
          1013,
          781,
          944,
          794,
          277,
          1023,
          622,
          861,
          276,
          761,
          1269,
          853,
          779,
          300,
          937,
          916,
          639,
          916,
          987,
          716,
          640,
          757,
          591,
          961,
          1113,
          1239,
          967,
          647,
          957,
          973,
          952,
          628,
          675,
          628,
          642,
          1092,
          897,
          1016,
          464,
          874,
          654,
          309,
          905,
          1023,
          334,
          599,
          985,
          898,
          283,
          289,
          638,
          285,
          664,
          959,
          361,
          709,
          277,
          1010,
          295,
          607,
          302,
          462,
          647,
          281,
          1048,
          671,
          307,
          933,
          998,
          956,
          1076,
          761,
          283,
          643,
          340,
          920,
          970,
          622,
          836,
          742,
          952,
          699,
          343,
          695,
          831,
          297,
          271,
          986,
          1002,
          987,
          662,
          978,
          709,
          843,
          316,
          707,
          417,
          301,
          875,
          651,
          969,
          1183,
          656,
          644,
          268,
          283,
          617,
          757,
          781,
          262,
          1016,
          407,
          613,
          688,
          354,
          299,
          835,
          826,
          657,
          645,
          567,
          292,
          1013,
          971,
          800,
          1056,
          807,
          696,
          678,
          293,
          308,
          905,
          852,
          914,
          285,
          812,
          660,
          932,
          317,
          967,
          1011,
          299,
          614,
          1250,
          1047,
          415,
          982,
          1064,
          591,
          670,
          940,
          1030,
          977,
          793,
          286,
          298,
          361,
          656,
          765,
          1015,
          655,
          306,
          686,
          677,
          276,
          589,
          282,
          292,
          810,
          615,
          918,
          568,
          650,
          682,
          1179,
          656,
          1063,
          1131,
          814,
          626,
          1018,
          1180,
          301,
          801,
          291
         ],
         "y": [
          68.74859811374182,
          44.99279897929745,
          944.5457262035917,
          1034.8177629144802,
          1226.447875932332,
          859.0248493195919,
          1117.1711999138874,
          879.6132085694436,
          60.829998402260344,
          1242.2850753552948,
          607.2133784944813,
          985.7224447032953,
          59.24627845996406,
          827.350450473666,
          1631.8801811601825,
          973.0526851649248,
          855.8574094349993,
          97.2555570750751,
          1106.0851603178135,
          1072.8270415295915,
          634.1366175135183,
          1072.8270415295915,
          1185.2711574326281,
          756.0830530703328,
          635.7203374558146,
          821.0155707044809,
          558.1180602832962,
          1144.0944389329247,
          1384.8198701619608,
          1584.368582891294,
          1153.5967585867024,
          646.8063770518887,
          1137.7595591637391,
          1163.0990782404801,
          1129.8409594522577,
          616.7156981482591,
          691.1505354361849,
          616.7156981482591,
          638.8877773404072,
          1351.5617513737388,
          1042.7363626259616,
          1231.1990357592208,
          356.98562761166704,
          1006.310803953147,
          657.8924166479627,
          111.50903655574172,
          1055.406122164332,
          1242.2850753552948,
          151.102035113149,
          570.7878198216666,
          1182.1037175480355,
          1044.320082568258,
          70.3323180560381,
          79.83463770981587,
          632.552897571222,
          73.49975794063067,
          673.7296160709255,
          1140.9269990483322,
          193.86247355514888,
          744.9970134742588,
          60.829998402260344,
          1221.6967161054426,
          89.33695736359363,
          583.4575793600369,
          100.42299695966767,
          353.8181877270745,
          646.8063770518887,
          67.16487817144554,
          1281.878073912702,
          684.8156556669998,
          108.34159667114915,
          1099.7502805486283,
          1202.6920767978872,
          1136.1758392214429,
          1326.2222322969983,
          827.350450473666,
          70.3323180560381,
          640.4714972827035,
          160.6043547669268,
          1079.1619212987766,
          1158.3479184135913,
          607.2133784944813,
          946.129446145888,
          797.2597715700364,
          1129.8409594522577,
          729.1598140512959,
          165.35551459381566,
          722.8249342821106,
          938.2108464344066,
          92.5043972481862,
          51.32767874848258,
          1183.6874374903318,
          1209.0269565670724,
          1185.2711574326281,
          670.562176186333,
          1171.0176779519616,
          744.9970134742588,
          957.215485741962,
          122.59507615181576,
          741.8295735896662,
          282.55079032374135,
          98.83927701737139,
          1007.8945238954433,
          653.1412568210739,
          1156.764198471295,
          1495.6802661227016,
          661.0598565325553,
          642.0552172249998,
          46.57651892159373,
          70.3323180560381,
          599.2947787829999,
          821.0155707044809,
          859.0248493195919,
          37.07419926781597,
          1231.1990357592208,
          266.7135909007784,
          592.9598990138147,
          711.7388946860366,
          182.7764339590749,
          95.67183713277882,
          944.5457262035917,
          930.2922467229249,
          662.6435764748516,
          643.638937167296,
          520.1087816681852,
          84.58579753670472,
          1226.447875932332,
          1159.9316383558876,
          889.1155282232213,
          1294.5478334510722,
          900.2015678192955,
          724.4086542244071,
          695.9016952630737,
          86.16951747900106,
          109.92531661344543,
          1055.406122164332,
          971.4689652226285,
          1069.659601644999,
          73.49975794063067,
          908.1201675307769,
          667.3947363017404,
          1098.166560606332,
          124.17879609411204,
          1153.5967585867024,
          1223.2804360477394,
          95.67183713277882,
          594.543618956111,
          1601.789502256553,
          1280.2943539704056,
          279.3833504391488,
          1177.3525577211467,
          1307.217592989443,
          558.1180602832962,
          683.2319357247035,
          1110.8363201447023,
          1253.3711149513688,
          1169.4339580096653,
          878.0294886271473,
          75.08347788292701,
          94.08811719048248,
          193.86247355514888,
          661.0598565325553,
          833.6853302428511,
          1229.6153158169245,
          659.476136590259,
          106.75787672885286,
          708.571454801444,
          694.3179753207775,
          59.24627845996406,
          554.9506203987037,
          68.74859811374182,
          84.58579753670472,
          904.9527276461844,
          596.1273388984073,
          1075.994481414184,
          521.6925016104815,
          651.5575368787776,
          702.2365750322589,
          1489.3453863535165,
          661.0598565325553,
          1305.6338730471462,
          1413.3268291232944,
          911.2876074153695,
          613.5482582636665,
          1234.3664756438134,
          1490.9291062958127,
          98.83927701737139,
          890.6992481655178,
          83.00207759440843
         ]
        }
       ],
       "layout": {
        "template": {
         "data": {
          "bar": [
           {
            "error_x": {
             "color": "#2a3f5f"
            },
            "error_y": {
             "color": "#2a3f5f"
            },
            "marker": {
             "line": {
              "color": "#E5ECF6",
              "width": 0.5
             },
             "pattern": {
              "fillmode": "overlay",
              "size": 10,
              "solidity": 0.2
             }
            },
            "type": "bar"
           }
          ],
          "barpolar": [
           {
            "marker": {
             "line": {
              "color": "#E5ECF6",
              "width": 0.5
             },
             "pattern": {
              "fillmode": "overlay",
              "size": 10,
              "solidity": 0.2
             }
            },
            "type": "barpolar"
           }
          ],
          "carpet": [
           {
            "aaxis": {
             "endlinecolor": "#2a3f5f",
             "gridcolor": "white",
             "linecolor": "white",
             "minorgridcolor": "white",
             "startlinecolor": "#2a3f5f"
            },
            "baxis": {
             "endlinecolor": "#2a3f5f",
             "gridcolor": "white",
             "linecolor": "white",
             "minorgridcolor": "white",
             "startlinecolor": "#2a3f5f"
            },
            "type": "carpet"
           }
          ],
          "choropleth": [
           {
            "colorbar": {
             "outlinewidth": 0,
             "ticks": ""
            },
            "type": "choropleth"
           }
          ],
          "contour": [
           {
            "colorbar": {
             "outlinewidth": 0,
             "ticks": ""
            },
            "colorscale": [
             [
              0,
              "#0d0887"
             ],
             [
              0.1111111111111111,
              "#46039f"
             ],
             [
              0.2222222222222222,
              "#7201a8"
             ],
             [
              0.3333333333333333,
              "#9c179e"
             ],
             [
              0.4444444444444444,
              "#bd3786"
             ],
             [
              0.5555555555555556,
              "#d8576b"
             ],
             [
              0.6666666666666666,
              "#ed7953"
             ],
             [
              0.7777777777777778,
              "#fb9f3a"
             ],
             [
              0.8888888888888888,
              "#fdca26"
             ],
             [
              1,
              "#f0f921"
             ]
            ],
            "type": "contour"
           }
          ],
          "contourcarpet": [
           {
            "colorbar": {
             "outlinewidth": 0,
             "ticks": ""
            },
            "type": "contourcarpet"
           }
          ],
          "heatmap": [
           {
            "colorbar": {
             "outlinewidth": 0,
             "ticks": ""
            },
            "colorscale": [
             [
              0,
              "#0d0887"
             ],
             [
              0.1111111111111111,
              "#46039f"
             ],
             [
              0.2222222222222222,
              "#7201a8"
             ],
             [
              0.3333333333333333,
              "#9c179e"
             ],
             [
              0.4444444444444444,
              "#bd3786"
             ],
             [
              0.5555555555555556,
              "#d8576b"
             ],
             [
              0.6666666666666666,
              "#ed7953"
             ],
             [
              0.7777777777777778,
              "#fb9f3a"
             ],
             [
              0.8888888888888888,
              "#fdca26"
             ],
             [
              1,
              "#f0f921"
             ]
            ],
            "type": "heatmap"
           }
          ],
          "heatmapgl": [
           {
            "colorbar": {
             "outlinewidth": 0,
             "ticks": ""
            },
            "colorscale": [
             [
              0,
              "#0d0887"
             ],
             [
              0.1111111111111111,
              "#46039f"
             ],
             [
              0.2222222222222222,
              "#7201a8"
             ],
             [
              0.3333333333333333,
              "#9c179e"
             ],
             [
              0.4444444444444444,
              "#bd3786"
             ],
             [
              0.5555555555555556,
              "#d8576b"
             ],
             [
              0.6666666666666666,
              "#ed7953"
             ],
             [
              0.7777777777777778,
              "#fb9f3a"
             ],
             [
              0.8888888888888888,
              "#fdca26"
             ],
             [
              1,
              "#f0f921"
             ]
            ],
            "type": "heatmapgl"
           }
          ],
          "histogram": [
           {
            "marker": {
             "pattern": {
              "fillmode": "overlay",
              "size": 10,
              "solidity": 0.2
             }
            },
            "type": "histogram"
           }
          ],
          "histogram2d": [
           {
            "colorbar": {
             "outlinewidth": 0,
             "ticks": ""
            },
            "colorscale": [
             [
              0,
              "#0d0887"
             ],
             [
              0.1111111111111111,
              "#46039f"
             ],
             [
              0.2222222222222222,
              "#7201a8"
             ],
             [
              0.3333333333333333,
              "#9c179e"
             ],
             [
              0.4444444444444444,
              "#bd3786"
             ],
             [
              0.5555555555555556,
              "#d8576b"
             ],
             [
              0.6666666666666666,
              "#ed7953"
             ],
             [
              0.7777777777777778,
              "#fb9f3a"
             ],
             [
              0.8888888888888888,
              "#fdca26"
             ],
             [
              1,
              "#f0f921"
             ]
            ],
            "type": "histogram2d"
           }
          ],
          "histogram2dcontour": [
           {
            "colorbar": {
             "outlinewidth": 0,
             "ticks": ""
            },
            "colorscale": [
             [
              0,
              "#0d0887"
             ],
             [
              0.1111111111111111,
              "#46039f"
             ],
             [
              0.2222222222222222,
              "#7201a8"
             ],
             [
              0.3333333333333333,
              "#9c179e"
             ],
             [
              0.4444444444444444,
              "#bd3786"
             ],
             [
              0.5555555555555556,
              "#d8576b"
             ],
             [
              0.6666666666666666,
              "#ed7953"
             ],
             [
              0.7777777777777778,
              "#fb9f3a"
             ],
             [
              0.8888888888888888,
              "#fdca26"
             ],
             [
              1,
              "#f0f921"
             ]
            ],
            "type": "histogram2dcontour"
           }
          ],
          "mesh3d": [
           {
            "colorbar": {
             "outlinewidth": 0,
             "ticks": ""
            },
            "type": "mesh3d"
           }
          ],
          "parcoords": [
           {
            "line": {
             "colorbar": {
              "outlinewidth": 0,
              "ticks": ""
             }
            },
            "type": "parcoords"
           }
          ],
          "pie": [
           {
            "automargin": true,
            "type": "pie"
           }
          ],
          "scatter": [
           {
            "fillpattern": {
             "fillmode": "overlay",
             "size": 10,
             "solidity": 0.2
            },
            "type": "scatter"
           }
          ],
          "scatter3d": [
           {
            "line": {
             "colorbar": {
              "outlinewidth": 0,
              "ticks": ""
             }
            },
            "marker": {
             "colorbar": {
              "outlinewidth": 0,
              "ticks": ""
             }
            },
            "type": "scatter3d"
           }
          ],
          "scattercarpet": [
           {
            "marker": {
             "colorbar": {
              "outlinewidth": 0,
              "ticks": ""
             }
            },
            "type": "scattercarpet"
           }
          ],
          "scattergeo": [
           {
            "marker": {
             "colorbar": {
              "outlinewidth": 0,
              "ticks": ""
             }
            },
            "type": "scattergeo"
           }
          ],
          "scattergl": [
           {
            "marker": {
             "colorbar": {
              "outlinewidth": 0,
              "ticks": ""
             }
            },
            "type": "scattergl"
           }
          ],
          "scattermapbox": [
           {
            "marker": {
             "colorbar": {
              "outlinewidth": 0,
              "ticks": ""
             }
            },
            "type": "scattermapbox"
           }
          ],
          "scatterpolar": [
           {
            "marker": {
             "colorbar": {
              "outlinewidth": 0,
              "ticks": ""
             }
            },
            "type": "scatterpolar"
           }
          ],
          "scatterpolargl": [
           {
            "marker": {
             "colorbar": {
              "outlinewidth": 0,
              "ticks": ""
             }
            },
            "type": "scatterpolargl"
           }
          ],
          "scatterternary": [
           {
            "marker": {
             "colorbar": {
              "outlinewidth": 0,
              "ticks": ""
             }
            },
            "type": "scatterternary"
           }
          ],
          "surface": [
           {
            "colorbar": {
             "outlinewidth": 0,
             "ticks": ""
            },
            "colorscale": [
             [
              0,
              "#0d0887"
             ],
             [
              0.1111111111111111,
              "#46039f"
             ],
             [
              0.2222222222222222,
              "#7201a8"
             ],
             [
              0.3333333333333333,
              "#9c179e"
             ],
             [
              0.4444444444444444,
              "#bd3786"
             ],
             [
              0.5555555555555556,
              "#d8576b"
             ],
             [
              0.6666666666666666,
              "#ed7953"
             ],
             [
              0.7777777777777778,
              "#fb9f3a"
             ],
             [
              0.8888888888888888,
              "#fdca26"
             ],
             [
              1,
              "#f0f921"
             ]
            ],
            "type": "surface"
           }
          ],
          "table": [
           {
            "cells": {
             "fill": {
              "color": "#EBF0F8"
             },
             "line": {
              "color": "white"
             }
            },
            "header": {
             "fill": {
              "color": "#C8D4E3"
             },
             "line": {
              "color": "white"
             }
            },
            "type": "table"
           }
          ]
         },
         "layout": {
          "annotationdefaults": {
           "arrowcolor": "#2a3f5f",
           "arrowhead": 0,
           "arrowwidth": 1
          },
          "autotypenumbers": "strict",
          "coloraxis": {
           "colorbar": {
            "outlinewidth": 0,
            "ticks": ""
           }
          },
          "colorscale": {
           "diverging": [
            [
             0,
             "#8e0152"
            ],
            [
             0.1,
             "#c51b7d"
            ],
            [
             0.2,
             "#de77ae"
            ],
            [
             0.3,
             "#f1b6da"
            ],
            [
             0.4,
             "#fde0ef"
            ],
            [
             0.5,
             "#f7f7f7"
            ],
            [
             0.6,
             "#e6f5d0"
            ],
            [
             0.7,
             "#b8e186"
            ],
            [
             0.8,
             "#7fbc41"
            ],
            [
             0.9,
             "#4d9221"
            ],
            [
             1,
             "#276419"
            ]
           ],
           "sequential": [
            [
             0,
             "#0d0887"
            ],
            [
             0.1111111111111111,
             "#46039f"
            ],
            [
             0.2222222222222222,
             "#7201a8"
            ],
            [
             0.3333333333333333,
             "#9c179e"
            ],
            [
             0.4444444444444444,
             "#bd3786"
            ],
            [
             0.5555555555555556,
             "#d8576b"
            ],
            [
             0.6666666666666666,
             "#ed7953"
            ],
            [
             0.7777777777777778,
             "#fb9f3a"
            ],
            [
             0.8888888888888888,
             "#fdca26"
            ],
            [
             1,
             "#f0f921"
            ]
           ],
           "sequentialminus": [
            [
             0,
             "#0d0887"
            ],
            [
             0.1111111111111111,
             "#46039f"
            ],
            [
             0.2222222222222222,
             "#7201a8"
            ],
            [
             0.3333333333333333,
             "#9c179e"
            ],
            [
             0.4444444444444444,
             "#bd3786"
            ],
            [
             0.5555555555555556,
             "#d8576b"
            ],
            [
             0.6666666666666666,
             "#ed7953"
            ],
            [
             0.7777777777777778,
             "#fb9f3a"
            ],
            [
             0.8888888888888888,
             "#fdca26"
            ],
            [
             1,
             "#f0f921"
            ]
           ]
          },
          "colorway": [
           "#636efa",
           "#EF553B",
           "#00cc96",
           "#ab63fa",
           "#FFA15A",
           "#19d3f3",
           "#FF6692",
           "#B6E880",
           "#FF97FF",
           "#FECB52"
          ],
          "font": {
           "color": "#2a3f5f"
          },
          "geo": {
           "bgcolor": "white",
           "lakecolor": "white",
           "landcolor": "#E5ECF6",
           "showlakes": true,
           "showland": true,
           "subunitcolor": "white"
          },
          "hoverlabel": {
           "align": "left"
          },
          "hovermode": "closest",
          "mapbox": {
           "style": "light"
          },
          "paper_bgcolor": "white",
          "plot_bgcolor": "#E5ECF6",
          "polar": {
           "angularaxis": {
            "gridcolor": "white",
            "linecolor": "white",
            "ticks": ""
           },
           "bgcolor": "#E5ECF6",
           "radialaxis": {
            "gridcolor": "white",
            "linecolor": "white",
            "ticks": ""
           }
          },
          "scene": {
           "xaxis": {
            "backgroundcolor": "#E5ECF6",
            "gridcolor": "white",
            "gridwidth": 2,
            "linecolor": "white",
            "showbackground": true,
            "ticks": "",
            "zerolinecolor": "white"
           },
           "yaxis": {
            "backgroundcolor": "#E5ECF6",
            "gridcolor": "white",
            "gridwidth": 2,
            "linecolor": "white",
            "showbackground": true,
            "ticks": "",
            "zerolinecolor": "white"
           },
           "zaxis": {
            "backgroundcolor": "#E5ECF6",
            "gridcolor": "white",
            "gridwidth": 2,
            "linecolor": "white",
            "showbackground": true,
            "ticks": "",
            "zerolinecolor": "white"
           }
          },
          "shapedefaults": {
           "line": {
            "color": "#2a3f5f"
           }
          },
          "ternary": {
           "aaxis": {
            "gridcolor": "white",
            "linecolor": "white",
            "ticks": ""
           },
           "baxis": {
            "gridcolor": "white",
            "linecolor": "white",
            "ticks": ""
           },
           "bgcolor": "#E5ECF6",
           "caxis": {
            "gridcolor": "white",
            "linecolor": "white",
            "ticks": ""
           }
          },
          "title": {
           "x": 0.05
          },
          "xaxis": {
           "automargin": true,
           "gridcolor": "white",
           "linecolor": "white",
           "ticks": "",
           "title": {
            "standoff": 15
           },
           "zerolinecolor": "white",
           "zerolinewidth": 2
          },
          "yaxis": {
           "automargin": true,
           "gridcolor": "white",
           "linecolor": "white",
           "ticks": "",
           "title": {
            "standoff": 15
           },
           "zerolinecolor": "white",
           "zerolinewidth": 2
          }
         }
        },
        "title": {
         "text": "Predicciones"
        },
        "xaxis": {
         "title": {
          "text": "Falta de personal médico"
         }
        },
        "yaxis": {
         "title": {
          "text": "Muertes por COVID-19"
         }
        }
       }
      }
     },
     "metadata": {},
     "output_type": "display_data"
    }
   ],
   "source": [
    "X = table_r['critical_staffing_shortage_today_yes'].values.reshape(-1,1)\n",
    "y = table_r['deaths_covid'].values\n",
    "X_tr, X_te, y_tr, y_te = train_test_split(X, y, test_size=0.25, random_state=0)\n",
    "lr = LinearRegression(fit_intercept=True)\n",
    "lr.fit(X_tr, y_tr)\n",
    "y_pr_tr = lr.predict(X_tr)\n",
    "y_pr_te = lr.predict(X_te)\n",
    "print('**Error en predicciones (MSE):** {}'.format(mean_squared_error(y_te,y_pr_te)))\n",
    "fig = go.Figure()\n",
    "fig.add_trace(go.Scatter(y = table_r['deaths_covid'], x = table_r['critical_staffing_shortage_today_yes'], mode = 'markers', name='Datos'))\n",
    "fig.add_trace(go.Scatter(x = X_tr.reshape(-1), y = y_pr_tr, mode='markers', name='Train Data'))\n",
    "fig.add_trace(go.Scatter(x = X_te.reshape(-1), y = y_pr_te, mode='markers', name='Test Data'))\n",
    "fig.update_layout(\n",
    "    title='Predicciones',\n",
    "    xaxis_title = 'Falta de personal médico',\n",
    "    yaxis_title = 'Muertes por COVID-19')"
   ]
  },
  {
   "cell_type": "code",
   "execution_count": 32,
   "metadata": {},
   "outputs": [
    {
     "name": "stdout",
     "output_type": "stream",
     "text": [
      "**Error en predicciones (MSE):** 114101.27364194232\n"
     ]
    },
    {
     "data": {
      "application/vnd.plotly.v1+json": {
       "config": {
        "plotlyServerURL": "https://plot.ly"
       },
       "data": [
        {
         "mode": "markers",
         "name": "Datos",
         "type": "scatter",
         "x": [
          242,
          334,
          417,
          418,
          418,
          440,
          476,
          628,
          675,
          707,
          709,
          688,
          749,
          753,
          761,
          781,
          788,
          765,
          742,
          779,
          777,
          801,
          775,
          788,
          773,
          746,
          791,
          794,
          771,
          780,
          798,
          779,
          766,
          781,
          774,
          771,
          792,
          800,
          769,
          763,
          781,
          760,
          790,
          785,
          815,
          810,
          780,
          814,
          807,
          826,
          831,
          841,
          812,
          904,
          876,
          898,
          910,
          908,
          931,
          887,
          884,
          910,
          918,
          902,
          914,
          856,
          828,
          808,
          843,
          850,
          853,
          835,
          859,
          829,
          837,
          874,
          852,
          867,
          861,
          892,
          858,
          849,
          899,
          893,
          905,
          920,
          933,
          921,
          913,
          923,
          933,
          950,
          964,
          979,
          949,
          955,
          954,
          940,
          957,
          975,
          976,
          946,
          932,
          952,
          938,
          967,
          975,
          993,
          1015,
          979,
          981,
          987,
          999,
          1010,
          1025,
          992,
          992,
          1000,
          1047,
          1086,
          1117,
          1114,
          1092,
          1087,
          1083,
          1094,
          1136,
          1131,
          1146,
          1133,
          1120,
          1125,
          1122,
          1174,
          1135,
          1148,
          1158,
          1154,
          1132,
          1110,
          1179,
          1181,
          1183,
          1175,
          1180,
          1167,
          1180,
          1264,
          1228,
          1248,
          1233,
          1231,
          1241,
          1220,
          1265,
          1241,
          1250,
          1239,
          1236,
          1215,
          1211,
          1266,
          1269,
          1246,
          1261,
          1268,
          1210,
          1078,
          1062,
          1088,
          1023,
          1055,
          1076,
          1076,
          1082,
          1113,
          1105,
          1083,
          1090,
          1094,
          1074,
          1064,
          1097,
          1088,
          1071,
          1045,
          1062,
          1016,
          995,
          1030,
          1004,
          1011,
          972,
          978,
          957,
          941,
          959,
          940,
          926,
          908,
          899,
          887,
          861,
          888,
          875,
          881,
          861,
          860,
          843,
          821,
          853,
          849,
          848,
          824,
          814,
          836,
          823,
          837,
          821,
          817,
          777,
          768,
          757,
          759,
          779,
          754,
          755,
          734,
          733,
          709,
          695,
          710,
          726,
          726,
          702,
          716,
          709,
          700,
          733,
          699,
          696,
          691,
          690,
          684,
          683,
          709,
          702,
          707,
          682,
          688,
          669,
          644,
          670,
          655,
          651,
          647,
          647,
          639,
          638,
          677,
          651,
          671,
          655,
          662,
          644,
          638,
          677,
          657,
          682,
          668,
          662,
          656,
          657,
          685,
          672,
          671,
          651,
          646,
          645,
          647,
          687,
          660,
          670,
          654,
          641,
          656,
          640,
          664,
          659,
          656,
          654,
          643,
          643,
          650,
          677,
          667,
          651,
          646,
          659,
          628,
          608,
          678,
          660,
          656,
          660,
          652,
          643,
          645,
          671,
          646,
          651,
          642,
          634,
          615,
          616,
          635,
          642,
          647,
          628,
          634,
          598,
          602,
          651,
          621,
          614,
          607,
          608,
          594,
          606,
          626,
          612,
          599,
          598,
          602,
          589,
          591,
          614,
          606,
          622,
          601,
          609,
          598,
          590,
          635,
          622,
          637,
          607,
          600,
          580,
          581,
          626,
          615,
          617,
          609,
          591,
          567,
          568,
          622,
          614,
          627,
          615,
          606,
          591,
          606,
          628,
          626,
          639,
          613,
          604,
          616,
          614,
          659,
          652,
          661,
          640,
          664,
          675,
          570,
          620,
          625,
          642,
          609,
          606,
          612,
          633,
          670,
          656,
          678,
          655,
          686,
          693,
          713,
          764,
          734,
          742,
          707,
          718,
          740,
          747,
          815,
          807,
          827,
          781,
          793,
          835,
          843,
          897,
          905,
          916,
          902,
          904,
          915,
          903,
          948,
          943,
          956,
          927,
          905,
          886,
          933,
          1008,
          981,
          1013,
          964,
          957,
          966,
          963,
          1023,
          1010,
          993,
          960,
          940,
          969,
          970,
          1026,
          971,
          985,
          957,
          957,
          978,
          959,
          1005,
          982,
          997,
          947,
          944,
          968,
          944,
          989,
          967,
          973,
          956,
          948,
          967,
          962,
          1001,
          1018,
          976,
          957,
          949,
          934,
          952,
          1015,
          983,
          1014,
          977,
          979,
          973,
          961,
          992,
          981,
          997,
          985,
          978,
          946,
          947,
          971,
          951,
          966,
          924,
          910,
          916,
          930,
          970,
          937,
          957,
          933,
          902,
          918,
          952,
          982,
          980,
          987,
          941,
          932,
          957,
          958,
          998,
          951,
          960,
          944,
          956,
          968,
          963,
          1013,
          1002,
          981,
          954,
          966,
          964,
          980,
          1011,
          1010,
          1012,
          981,
          976,
          977,
          987,
          1058,
          1040,
          1045,
          1030,
          1015,
          1016,
          1006,
          1050,
          1048,
          1016,
          986,
          998,
          1023,
          1042,
          1085,
          1089,
          1063,
          1056,
          1069,
          1093,
          1103,
          1178,
          1162,
          1181,
          1099,
          1091,
          991,
          986,
          1012,
          1015,
          1003,
          953,
          957,
          972,
          956,
          784,
          790,
          808,
          756,
          757,
          761,
          765,
          721,
          711,
          681,
          644,
          635,
          630,
          525,
          459,
          462,
          464,
          448,
          443,
          431,
          415,
          437,
          429,
          432,
          407,
          411,
          390,
          403,
          407,
          404,
          409,
          370,
          363,
          361,
          361,
          361,
          380,
          374,
          357,
          354,
          340,
          338,
          351,
          345,
          343,
          314,
          325,
          318,
          321,
          325,
          315,
          317,
          309,
          304,
          289,
          291,
          307,
          312,
          306,
          298,
          301,
          281,
          285,
          292,
          301,
          294,
          281,
          286,
          275,
          281,
          299,
          305,
          313,
          298,
          293,
          279,
          285,
          295,
          300,
          303,
          279,
          286,
          282,
          280,
          299,
          302,
          292,
          280,
          282,
          290,
          286,
          303,
          303,
          285,
          284,
          283,
          282,
          280,
          292,
          283,
          289,
          298,
          286,
          275,
          278,
          292,
          300,
          297,
          275,
          271,
          284,
          270,
          290,
          297,
          285,
          276,
          279,
          278,
          272,
          285,
          295,
          297,
          270,
          267,
          263,
          278,
          275,
          282,
          287,
          274,
          262,
          244,
          258,
          263,
          283,
          277,
          272,
          275,
          266,
          266,
          276,
          275,
          277,
          277,
          268,
          268,
          256,
          277,
          281,
          289,
          281,
          278,
          274,
          259,
          274,
          284,
          279,
          270,
          270,
          252,
          254,
          291,
          306,
          307,
          283,
          282,
          268,
          271,
          287,
          301,
          310,
          304,
          299,
          297,
          301,
          310,
          316,
          307,
          299,
          294,
          292,
          285,
          309,
          308,
          308,
          298,
          297,
          282,
          295,
          292,
          308,
          310,
          291,
          300,
          297,
          301,
          311,
          310,
          314,
          313,
          315,
          301
         ],
         "y": [
          648,
          526,
          532,
          440,
          394,
          497,
          570,
          739,
          1079,
          838,
          804,
          874,
          727,
          767,
          901,
          1305,
          1348,
          1314,
          1329,
          1288,
          1230,
          1329,
          1249,
          1275,
          1270,
          1216,
          1246,
          1241,
          1274,
          1220,
          1254,
          1223,
          1143,
          1177,
          1137,
          1189,
          1232,
          664,
          606,
          530,
          554,
          648,
          635,
          610,
          568,
          518,
          551,
          539,
          605,
          602,
          545,
          521,
          540,
          487,
          452,
          544,
          887,
          541,
          491,
          479,
          500,
          461,
          510,
          557,
          498,
          464,
          465,
          466,
          468,
          486,
          453,
          475,
          457,
          444,
          440,
          424,
          551,
          432,
          462,
          509,
          500,
          418,
          559,
          485,
          477,
          506,
          495,
          520,
          473,
          498,
          501,
          488,
          496,
          584,
          518,
          539,
          556,
          564,
          557,
          554,
          531,
          505,
          507,
          532,
          526,
          785,
          769,
          1246,
          1303,
          1204,
          1276,
          845,
          858,
          934,
          987,
          936,
          935,
          998,
          1016,
          1070,
          928,
          1246,
          913,
          918,
          1024,
          1096,
          1151,
          1109,
          1212,
          1123,
          1062,
          1272,
          1338,
          1413,
          1307,
          1207,
          1354,
          1368,
          1335,
          1447,
          1573,
          1618,
          1615,
          1550,
          1555,
          1646,
          1657,
          1758,
          1831,
          1671,
          1628,
          1555,
          1730,
          1832,
          1844,
          1854,
          1963,
          1997,
          1790,
          2043,
          2094,
          2139,
          1914,
          1930,
          1731,
          1922,
          2168,
          2181,
          2171,
          2267,
          2143,
          2047,
          2119,
          2183,
          2369,
          2372,
          2361,
          2340,
          2183,
          2163,
          2206,
          2308,
          2380,
          2363,
          2337,
          2240,
          2156,
          2177,
          2309,
          2190,
          2261,
          2109,
          2063,
          1845,
          1899,
          1961,
          1970,
          1824,
          1817,
          1651,
          1674,
          1696,
          1720,
          1646,
          1742,
          1615,
          1500,
          1347,
          1466,
          1374,
          1377,
          1363,
          1283,
          1172,
          1123,
          1113,
          1051,
          1134,
          1074,
          1078,
          936,
          895,
          955,
          907,
          918,
          898,
          826,
          752,
          772,
          735,
          671,
          704,
          682,
          673,
          564,
          570,
          624,
          635,
          607,
          567,
          567,
          495,
          475,
          461,
          505,
          486,
          541,
          560,
          487,
          482,
          528,
          455,
          473,
          502,
          555,
          430,
          387,
          447,
          435,
          397,
          495,
          476,
          403,
          404,
          375,
          480,
          448,
          595,
          420,
          474,
          442,
          486,
          498,
          534,
          509,
          517,
          390,
          458,
          499,
          537,
          527,
          508,
          571,
          459,
          420,
          521,
          449,
          460,
          461,
          437,
          384,
          407,
          407,
          426,
          388,
          392,
          400,
          429,
          392,
          379,
          408,
          362,
          399,
          346,
          382,
          339,
          341,
          386,
          361,
          346,
          353,
          308,
          305,
          278,
          290,
          310,
          325,
          274,
          263,
          288,
          259,
          256,
          345,
          251,
          230,
          235,
          211,
          212,
          225,
          226,
          250,
          237,
          187,
          236,
          183,
          180,
          196,
          188,
          194,
          181,
          156,
          183,
          205,
          180,
          176,
          197,
          189,
          160,
          440,
          162,
          174,
          186,
          201,
          184,
          187,
          188,
          187,
          183,
          188,
          178,
          201,
          173,
          211,
          220,
          224,
          220,
          225,
          246,
          256,
          236,
          230,
          272,
          287,
          279,
          350,
          329,
          330,
          384,
          406,
          382,
          439,
          447,
          482,
          522,
          553,
          579,
          614,
          641,
          747,
          707,
          795,
          835,
          890,
          945,
          939,
          1035,
          997,
          1027,
          1130,
          1179,
          1228,
          1250,
          1240,
          1274,
          1279,
          1346,
          1415,
          1367,
          1423,
          1436,
          1369,
          1431,
          1496,
          1547,
          1581,
          1494,
          1491,
          1533,
          1491,
          1549,
          1514,
          1508,
          1689,
          1701,
          1559,
          1579,
          1634,
          1585,
          1602,
          1493,
          1505,
          1393,
          1545,
          1503,
          1487,
          1456,
          1388,
          1406,
          1239,
          1411,
          1333,
          1341,
          1346,
          1186,
          1175,
          1164,
          1250,
          1095,
          1101,
          1215,
          1169,
          1065,
          947,
          969,
          971,
          954,
          914,
          983,
          1100,
          952,
          850,
          918,
          935,
          899,
          824,
          850,
          743,
          805,
          753,
          816,
          760,
          795,
          743,
          730,
          646,
          730,
          683,
          677,
          648,
          631,
          679,
          742,
          672,
          705,
          705,
          759,
          635,
          628,
          600,
          687,
          818,
          759,
          750,
          686,
          683,
          733,
          827,
          809,
          717,
          690,
          780,
          902,
          820,
          861,
          1004,
          901,
          911,
          770,
          864,
          894,
          917,
          949,
          1000,
          1048,
          942,
          879,
          1080,
          1016,
          1076,
          1097,
          1163,
          1068,
          1008,
          1026,
          1120,
          1297,
          1227,
          1071,
          1109,
          943,
          1146,
          1191,
          1306,
          1236,
          1282,
          1196,
          1123,
          1326,
          1324,
          1475,
          1505,
          1539,
          1473,
          1487,
          1392,
          1453,
          1623,
          1533,
          1558,
          1492,
          1526,
          1617,
          1476,
          1324,
          1313,
          1320,
          1282,
          1247,
          1311,
          1313,
          1238,
          1301,
          1200,
          1137,
          1057,
          1085,
          1051,
          1021,
          1047,
          926,
          901,
          863,
          836,
          796,
          809,
          725,
          813,
          736,
          703,
          667,
          648,
          585,
          842,
          537,
          496,
          488,
          458,
          458,
          474,
          414,
          383,
          355,
          322,
          318,
          343,
          324,
          316,
          250,
          280,
          249,
          241,
          230,
          234,
          227,
          180,
          200,
          151,
          155,
          192,
          160,
          173,
          180,
          159,
          144,
          140,
          166,
          142,
          180,
          158,
          122,
          96,
          107,
          92,
          103,
          110,
          114,
          97,
          84,
          83,
          84,
          79,
          107,
          88,
          75,
          161,
          96,
          143,
          75,
          81,
          79,
          79,
          150,
          91,
          84,
          92,
          80,
          80,
          70,
          72,
          75,
          125,
          103,
          108,
          106,
          91,
          81,
          125,
          103,
          82,
          87,
          91,
          84,
          84,
          89,
          137,
          74,
          107,
          88,
          90,
          82,
          103,
          95,
          98,
          95,
          98,
          102,
          103,
          92,
          116,
          121,
          102,
          108,
          132,
          163,
          229,
          116,
          104,
          124,
          135,
          222,
          109,
          342,
          159,
          151,
          118,
          125,
          125,
          112,
          115,
          120,
          146,
          122,
          115,
          140,
          123,
          120,
          139,
          124,
          124,
          143,
          133,
          111,
          141,
          136,
          139,
          139,
          150,
          127,
          155,
          127,
          166,
          146,
          140,
          137,
          148,
          156,
          147,
          160,
          210,
          157,
          167,
          163,
          176,
          176,
          170,
          211,
          200,
          125,
          171,
          175,
          176,
          171,
          186,
          192,
          181,
          235,
          175,
          200,
          161,
          174,
          178,
          183,
          175,
          169,
          166
         ]
        },
        {
         "mode": "markers",
         "name": "Train Data",
         "type": "scatter",
         "x": [
          279,
          771,
          957,
          691,
          807,
          867,
          615,
          690,
          1045,
          979,
          644,
          1042,
          946,
          957,
          634,
          710,
          677,
          281,
          258,
          740,
          616,
          310,
          684,
          849,
          784,
          1268,
          995,
          594,
          815,
          774,
          1012,
          647,
          314,
          669,
          976,
          298,
          1241,
          657,
          390,
          370,
          635,
          899,
          634,
          1103,
          962,
          749,
          1266,
          707,
          263,
          957,
          656,
          1040,
          1215,
          283,
          966,
          709,
          861,
          964,
          1006,
          828,
          277,
          606,
          948,
          956,
          272,
          628,
          290,
          278,
          279,
          781,
          709,
          1012,
          476,
          602,
          1058,
          938,
          409,
          764,
          886,
          933,
          951,
          693,
          275,
          821,
          756,
          285,
          881,
          1005,
          1004,
          924,
          1085,
          957,
          374,
          1122,
          726,
          1076,
          1090,
          307,
          448,
          861,
          1010,
          954,
          284,
          626,
          1023,
          923,
          295,
          1094,
          242,
          780,
          1055,
          321,
          606,
          993,
          1174,
          971,
          759,
          997,
          932,
          1015,
          824,
          946,
          642,
          702,
          983,
          902,
          1094,
          1015,
          1162,
          827,
          275,
          779,
          791,
          294,
          315,
          606,
          418,
          1135,
          607,
          615,
          1062,
          951,
          667,
          300,
          927,
          285,
          278,
          754,
          294,
          612,
          981,
          598,
          311,
          403,
          275,
          271,
          930,
          944,
          432,
          459,
          999,
          313,
          284,
          777,
          856,
          659,
          1136,
          677,
          285,
          670,
          601,
          303,
          1154,
          298,
          628,
          590,
          266,
          646,
          1016,
          1045,
          977,
          609,
          345,
          1220,
          876,
          798,
          948,
          272,
          976,
          310,
          275,
          254,
          700,
          286,
          910,
          884,
          902,
          655,
          275,
          644,
          281,
          997,
          843,
          713,
          934,
          1026,
          1078,
          769,
          903,
          280,
          256,
          608,
          941,
          980,
          280,
          1246,
          1083,
          1265,
          614,
          887,
          966,
          660,
          297,
          357,
          635,
          525,
          642,
          361,
          1236,
          841,
          315,
          295,
          968,
          606,
          957,
          978,
          817,
          671,
          837,
          670,
          956,
          270,
          418,
          290,
          404,
          308,
          270,
          440,
          1181,
          953,
          1148,
          960,
          620,
          297,
          775,
          287,
          651,
          641,
          662,
          963,
          287,
          660,
          1008,
          777,
          274,
          598,
          978,
          652,
          1117,
          849,
          282,
          753,
          979,
          963,
          299,
          297,
          1211,
          308,
          733,
          625,
          958,
          998,
          959,
          1069,
          286,
          941,
          1011,
          992,
          429,
          281,
          1261,
          975,
          788,
          902,
          981,
          633,
          268,
          967,
          1089,
          284,
          626,
          947,
          910,
          637,
          292,
          843,
          711,
          979,
          443,
          970,
          893,
          299,
          580,
          363,
          1001,
          926,
          1167,
          943,
          1233,
          1099,
          763,
          278,
          1003,
          277,
          651,
          622,
          850,
          981,
          964,
          609,
          768,
          289,
          1180,
          656,
          780,
          1025,
          966,
          291,
          1105,
          1062,
          600,
          675,
          431,
          304,
          303,
          411,
          1030,
          1158,
          968,
          286,
          651,
          297,
          654,
          270,
          275,
          726,
          781,
          913,
          815,
          598,
          910,
          301,
          908,
          993,
          635,
          742,
          646,
          829,
          734,
          1015,
          1181,
          303,
          313,
          282,
          837,
          1178,
          305,
          981,
          1132,
          848,
          280,
          301,
          298,
          266,
          702,
          808,
          773,
          609,
          823,
          1133,
          581,
          987,
          1210,
          860,
          957,
          956,
          672,
          282,
          325,
          1050,
          664,
          992,
          608,
          1114,
          954,
          733,
          351,
          944,
          1000,
          1014,
          746,
          981,
          1248,
          1241,
          986,
          952,
          314,
          1110,
          651,
          621,
          292,
          682,
          973,
          904,
          289,
          779,
          606,
          651,
          668,
          755,
          949,
          976,
          687,
          640,
          380,
          281,
          947,
          1071,
          659,
          252,
          309,
          671,
          259,
          1097,
          766,
          858,
          645,
          688,
          785,
          933,
          792,
          931,
          760,
          915,
          681,
          821,
          1228,
          338,
          1087,
          437,
          957,
          570,
          1120,
          788,
          278,
          808,
          614,
          1010,
          612,
          887,
          604,
          790,
          312,
          678,
          643,
          647,
          304,
          940,
          955,
          301,
          1088,
          407,
          652,
          721,
          661,
          734,
          297,
          1175,
          1074,
          1125,
          282,
          814,
          614,
          888,
          905,
          279,
          630,
          306,
          747,
          950,
          899,
          960,
          1086,
          643,
          908,
          602,
          639,
          307,
          982,
          790,
          301,
          655,
          591,
          685,
          918,
          957,
          904,
          310,
          1146,
          771,
          1088,
          949,
          980,
          270,
          1231,
          683,
          291,
          1091,
          991,
          292,
          268,
          638,
          659,
          964,
          1264,
          300,
          1083,
          975,
          989,
          940,
          279,
          992,
          859,
          1093,
          263,
          292,
          1082,
          921,
          972,
          933,
          274,
          616,
          718,
          318,
          985,
          853,
          325,
          646,
          310,
          707,
          627,
          274,
          972,
          285,
          765,
          244
         ],
         "y": [
          156.7117202925432,
          752.0056975870673,
          1122.3739644362317,
          617.2291130257674,
          817.4672931390367,
          933.2073765294006,
          502.85338904135915,
          615.6377444956788,
          1325.3869565845866,
          1171.454028472098,
          544.9261308241705,
          1318.1722148272484,
          1098.2522284186048,
          1122.3739644362317,
          530.1993460200204,
          647.9030007176043,
          595.1596777699704,
          158.0023305414202,
          143.71688834916273,
          698.0293809195241,
          504.27190798454455,
          177.75212434097662,
          606.1379311994805,
          897.6141895942993,
          775.3000602487182,
          1919.7579170850477,
          1207.84923749043,
          473.5968679621283,
          832.4199347367403,
          757.3467498223754,
          1247.1656045274253,
          549.3891071580105,
          180.6283414670454,
          582.7513820914813,
          1164.6956096241838,
          169.34472043400635,
          1841.6955866478374,
          564.415497912793,
          242.28263678482747,
          224.76721197863938,
          531.6616535252211,
          998.3278822298809,
          530.1993460200204,
          1468.948909482885,
          1133.430576345138,
          713.4717630134535,
          1913.9179057088795,
          643.0044434247684,
          146.71870950838115,
          1122.3739644362317,
          562.9024878621004,
          1313.3739102948161,
          1768.112365172578,
          159.30215943493204,
          1142.31734977312,
          646.2678436255003,
          921.2600130826532,
          1137.8693537368117,
          1233.2131858726011,
          857.0325635811727,
          155.43032868830102,
          490.1904283048328,
          1102.6172566531995,
          1120.1695560379267,
          152.26718124797296,
          521.4738988731482,
          163.92415738872288,
          156.06987215984276,
          156.7117202925432,
          769.8898681786488,
          646.2678436255003,
          1247.1656045274253,
          328.1036090128317,
          484.62236694539195,
          1356.8905222935587,
          1080.8843019265737,
          259.77616731000785,
          739.6239055119034,
          971.5880511359602,
          1070.1042493567127,
          1109.1820839637817,
          620.4187640694206,
          154.15815572869366,
          843.7312117036839,
          725.611565666953,
          160.61120697307874,
          961.4072104673634,
          1230.8958490775194,
          1228.5808169435963,
          1050.8453483839612,
          1423.5655219455884,
          1122.3739644362317,
          228.19654778279832,
          1517.6636847250957,
          674.3789481088528,
          1401.153844507723,
          1436.0971169960685,
          175.61916043859148,
          298.2905122637726,
          921.2600130826532,
          1242.5055796645156,
          1115.7676532247929,
          159.95553087342603,
          518.5838537801271,
          1272.9605245462753,
          1048.7169938038935,
          167.29472433333473,
          1446.163876937309,
          134.49824371432686,
          768.0910801442765,
          1349.5858987510305,
          185.75045089227606,
          490.1904283048328,
          1203.2675711069164,
          1655.2427372553857,
          1153.4776714341679,
          730.8489081501191,
          1212.440122518578,
          1067.9551528262166,
          1254.1729267804799,
          849.4179631127982,
          1098.2522284186048,
          541.9623365740708,
          634.8862744932161,
          1180.497518858872,
          1004.5539243501331,
          1446.163876937309,
          1254.1729267804799,
          1622.9406064549212,
          855.1254564723409,
          154.15815572869366,
          766.2945967710629,
          788.0045048861012,
          166.61600162209493,
          181.35315740145938,
          490.1904283048328,
          268.35296381214323,
          1551.4742162539355,
          491.58820529758975,
          502.85338904135915,
          1366.6622856064846,
          1109.1820839637817,
          579.6723547834462,
          170.7229078069143,
          1057.2442400911168,
          160.61120697307874,
          156.06987215984276,
          722.1315273173025,
          166.61600162209493,
          498.61166017875536,
          1175.9711643431674,
          479.0911801644904,
          178.46772163075576,
          254.1620127273928,
          154.15815572869366,
          151.6414657433835,
          1063.6638737487006,
          1093.8964188286445,
          282.0656977064615,
          309.7873144539923,
          1217.040226191361,
          179.90583019379017,
          159.95553087342603,
          762.7085440081117,
          911.3672550588951,
          567.4484319976539,
          1554.0911589996495,
          595.1596777699704,
          160.61120697307874,
          584.294352737237,
          483.23611325842853,
          172.80747382496656,
          1601.590225480641,
          169.34472043400635,
          521.4738988731482,
          468.1394303383055,
          148.5474581378167,
          547.8991437189052,
          1256.5133101871488,
          1325.3869565845866,
          1166.9461112456634,
          494.3906732665799,
          204.16930287267806,
          1782.1419899762186,
          951.2839863277343,
          800.8218779202612,
          1102.6172566531995,
          152.26718124797296,
          1164.6956096241838,
          177.75212434097662,
          154.15815572869366,
          141.35691532264474,
          631.6551395487061,
          161.26918773389013,
          1021.2581084284557,
          967.5088008850453,
          1004.5539243501331,
          561.3917824725668,
          154.15815572869366,
          544.9261308241705,
          158.0023305414202,
          1212.440122518578,
          885.9157295526927,
          652.8222999608686,
          1072.2556505483676,
          1280.0439006175675,
          1406.1180846435823,
          748.4565194026555,
          1006.633881045868,
          157.35587308640234,
          142.5322925135863,
          492.9882869515055,
          1087.379989402395,
          1173.7114440770533,
          157.35587308640234,
          1856.0248174021103,
          1418.5690165535075,
          1911.0013570125334,
          501.4371747593325,
          973.6311332531557,
          1142.31734977312,
          568.9683560318224,
          168.65908373929042,
          213.87653567316022,
          531.6616535252211,
          384.6242715995896,
          541.9623365740708,
          217.18602909706627,
          1827.4239724225322,
          882.0346801614268,
          181.35315740145938,
          167.29472433333473,
          1146.7745644540628,
          490.1904283048328,
          1122.3739644362317,
          1169.198917528301,
          836.1811417477534,
          585.8396280441514,
          874.3002373127995,
          584.294352737237,
          1120.1695560379267,
          151.0180548999527,
          268.35296381214323,
          163.92415738872288,
          255.09194350493186,
          176.3278437448945,
          151.0180548999527,
          290.10435582803836,
          1674.2389068560442,
          1113.5701588099637,
          1585.674235518597,
          1129.0010175980997,
          509.96903036887306,
          168.65908373929042,
          759.1317098897954,
          161.92947315586025,
          555.3720075260189,
          540.483896440759,
          572.0151180836357,
          1135.6488127103953,
          161.92947315586025,
          568.9683560318224,
          1237.8547734462409,
          762.7085440081117,
          153.52552624062804,
          479.0911801644904,
          1169.198917528301,
          556.8734942709178,
          1504.7633438892226,
          897.6141895942993,
          158.6510926575968,
          720.3949651342152,
          1171.454028472098,
          1135.6488127103953,
          170.03266178988096,
          168.65908373929042,
          1756.9301492305217,
          176.3278437448945,
          686.1477003158001,
          517.1422882253547,
          1124.580677495696,
          1214.7390220243901,
          1126.7896952163183,
          1383.8516008587158,
          161.26918773389013,
          1087.379989402395,
          1244.834439765391,
          1200.9801949068979,
          279.0892278199889,
          158.0023305414202,
          1899.3582088387357,
          1162.4474126638634,
          782.5459149316991,
          1004.5539243501331,
          1175.9711643431674,
          528.7393431759782,
          149.77814719656726,
          1144.5448047830123,
          1433.5861886636549,
          159.95553087342603,
          518.5838537801271,
          1100.4335902053226,
          1021.2581084284557,
          534.593182519099,
          165.26547018309148,
          885.9157295526927,
          649.540462470867,
          1171.454028472098,
          293.1568795327484,
          1151.240997779641,
          985.9380238406615,
          170.03266178988096,
          454.6571625598581,
          218.85460377597155,
          1221.649548508779,
          1055.108971527573,
          1636.3594960515038,
          1091.7219710254026,
          1818.8886598212534,
          1458.799181739931,
          737.8642967172292,
          156.06987215984276,
          1226.268089470832,
          155.43032868830102,
          555.3720075260189,
          512.8314195279896,
          899.5719992486227,
          1175.9711643431674,
          1137.8693537368117,
          494.3906732665799,
          746.6853873021877,
          163.2569579832766,
          1671.5182543581886,
          562.9024878621004,
          768.0910801442765,
          1277.6804705993113,
          1142.31734977312,
          164.59366145532783,
          1474.0376013213145,
          1366.6622856064846,
          481.8521642326238,
          592.0437758833959,
          281.07123641647865,
          173.50693848663474,
          172.80747382496656,
          261.66598946014915,
          1289.5206673021785,
          1612.2469786785114,
          1146.7745644540628,
          161.26918773389013,
          555.3720075260189,
          168.65908373929042,
          559.8833817441916,
          151.0180548999527,
          154.15815572869366,
          674.3789481088528,
          769.8898681786488,
          1027.5602043669453,
          832.4199347367403,
          479.0911801644904,
          1021.2581084284557,
          171.41545848510634,
          1017.0682344419228,
          1203.2675711069164,
          531.6616535252211,
          701.4448887567308,
          547.8991437189052,
          858.941975351163,
          687.8381692757131,
          1254.1729267804799,
          1674.2389068560442,
          172.80747382496656,
          179.90583019379017,
          158.6510926575968,
          874.3002373127995,
          1666.083863345953,
          174.2087078094616,
          1175.9711643431674,
          1543.6372159837456,
          895.6586846011348,
          157.35587308640234,
          171.41545848510634,
          169.34472043400635,
          148.5474581378167,
          634.8862744932161,
          819.328307024694,
          755.5640944161139,
          494.3906732665799,
          847.5200746486014,
          1546.2472447459836,
          455.9950183624886,
          1189.577883824185,
          1754.1403568979044,
          919.2768521555843,
          1122.3739644362317,
          1120.1695560379267,
          587.3872080122244,
          158.6510926575968,
          188.72807310932805,
          1337.4576194033248,
          575.0710987800837,
          1200.9801949068979,
          492.9882869515055,
          1497.050795321603,
          1115.7676532247929,
          686.1477003158001,
          208.98143537206238,
          1093.8964188286445,
          1219.3437350194909,
          1251.8348480349696,
          708.3035603650487,
          1175.9711643431674,
          1861.7726423319305,
          1841.6955866478374,
          1187.3043355911186,
          1111.3749690562936,
          180.6283414670454,
          1486.7996624876655,
          555.3720075260189,
          511.39907261785197,
          165.26547018309148,
          602.9897640566841,
          1157.9579327266983,
          1008.7161424027615,
          163.2569579832766,
          766.2945967710629,
          490.1904283048328,
          555.3720075260189,
          581.2107161068844,
          723.8703941615483,
          1104.8032277622347,
          1164.6956096241838,
          610.8774668723655,
          539.0077609686059,
          233.409691323798,
          158.0023305414202,
          1100.4335902053226,
          1388.7835757383527,
          567.4484319976539,
          140.190756776338,
          177.0388317123562,
          585.8396280441514,
          144.31264325868898,
          1453.7381458354062,
          743.1500370847282,
          915.3174442849222,
          546.4114849409584,
          612.4619214189779,
          777.1080669277253,
          1070.1042493567127,
          789.8286441932194,
          1065.8083609568791,
          732.5992983001586,
          1031.7731249650653,
          601.4191374770239,
          843.7312117036839,
          1804.7092320422967,
          198.6600103727843,
          1428.5712459823044,
          287.07257407375675,
          1122.3739644362317,
          441.4053608972815,
          1512.4966344072704,
          782.5459149316991,
          156.06987215984276,
          819.328307024694,
          501.4371747593325,
          1242.5055796645156,
          498.61166017875536,
          973.6311332531557,
          487.40178830279496,
          786.1826702401419,
          179.18562358169362,
          596.7210857049957,
          543.4430813685414,
          549.3891071580105,
          173.50693848663474,
          1085.2124555826294,
          1117.9674523007802,
          171.41545848510634,
          1431.0775649924003,
          257.8955638045013,
          556.8734942709178,
          666.0418363672231,
          570.4905847271498,
          687.8381692757131,
          168.65908373929042,
          1657.9495617862895,
          1396.1988230164989,
          1525.4315451605244,
          158.6510926575968,
          830.5427882229719,
          501.4371747593325,
          975.6765200315099,
          1010.8007084208137,
          156.7117202925432,
          524.373162610804,
          174.9127817934472,
          710.023989920025,
          1106.9915035324289,
          998.3278822298809,
          1129.0010175980997,
          1426.067231633367,
          543.4430813685414,
          1017.0682344419228,
          484.62236694539195,
          537.5339301576116,
          175.61916043859148,
          1178.23318927044,
          786.1826702401419,
          171.41545848510634,
          561.3917824725668,
          469.5003327525231,
          607.7154717626169,
          1038.1097908209356,
          1122.3739644362317,
          1008.7161424027615,
          177.75212434097662,
          1580.3873428205188,
          752.0056975870673,
          1431.0775649924003,
          1104.8032277622347,
          1173.7114440770533,
          151.0180548999527,
          1813.2099747261946,
          604.562695297503,
          164.59366145532783,
          1438.6103499896403,
          1198.695123368038,
          165.26547018309148,
          149.77814719656726,
          536.062404007776,
          567.4484319976539,
          1137.8693537368117,
          1908.087112977346,
          170.7229078069143,
          1418.5690165535075,
          1162.4474126638634,
          1194.131894273794,
          1085.2124555826294,
          156.7117202925432,
          1200.9801949068979,
          917.2959958896739,
          1443.6437299602608,
          146.71870950838115,
          165.26547018309148,
          1416.0742208492047,
          1044.4671986272342,
          1155.7166497498538,
          1070.1042493567127,
          153.52552624062804,
          504.27190798454455,
          661.0672252561499,
          183.54143317165352,
          1185.033092019211,
          905.4592561785447,
          188.72807310932805,
          547.8991437189052,
          177.75212434097662,
          643.0044434247684,
          520.0277239960583,
          153.52552624062804,
          1155.7166497498538,
          160.61120697307874,
          741.3858189677364,
          135.61830903745943
         ]
        },
        {
         "mode": "markers",
         "name": "Test Data",
         "type": "scatter",
         "x": [
          282,
          267,
          835,
          892,
          1013,
          781,
          944,
          794,
          277,
          1023,
          622,
          861,
          276,
          761,
          1269,
          853,
          779,
          300,
          937,
          916,
          639,
          916,
          987,
          716,
          640,
          757,
          591,
          961,
          1113,
          1239,
          967,
          647,
          957,
          973,
          952,
          628,
          675,
          628,
          642,
          1092,
          897,
          1016,
          464,
          874,
          654,
          309,
          905,
          1023,
          334,
          599,
          985,
          898,
          283,
          289,
          638,
          285,
          664,
          959,
          361,
          709,
          277,
          1010,
          295,
          607,
          302,
          462,
          647,
          281,
          1048,
          671,
          307,
          933,
          998,
          956,
          1076,
          761,
          283,
          643,
          340,
          920,
          970,
          622,
          836,
          742,
          952,
          699,
          343,
          695,
          831,
          297,
          271,
          986,
          1002,
          987,
          662,
          978,
          709,
          843,
          316,
          707,
          417,
          301,
          875,
          651,
          969,
          1183,
          656,
          644,
          268,
          283,
          617,
          757,
          781,
          262,
          1016,
          407,
          613,
          688,
          354,
          299,
          835,
          826,
          657,
          645,
          567,
          292,
          1013,
          971,
          800,
          1056,
          807,
          696,
          678,
          293,
          308,
          905,
          852,
          914,
          285,
          812,
          660,
          932,
          317,
          967,
          1011,
          299,
          614,
          1250,
          1047,
          415,
          982,
          1064,
          591,
          670,
          940,
          1030,
          977,
          793,
          286,
          298,
          361,
          656,
          765,
          1015,
          655,
          306,
          686,
          677,
          276,
          589,
          282,
          292,
          810,
          615,
          918,
          568,
          650,
          682,
          1179,
          656,
          1063,
          1131,
          814,
          626,
          1018,
          1180,
          301,
          801,
          291
         ],
         "y": [
          158.6510926575968,
          149.16165033661264,
          870.4468438554381,
          983.8811137565137,
          1249.499073950618,
          769.8898681786488,
          1093.8964188286445,
          793.4838367909318,
          155.43032868830102,
          1272.9605245462753,
          512.8314195279896,
          921.2600130826532,
          154.79308987791796,
          734.3519931113567,
          1922.6813797648701,
          905.4592561785447,
          766.2945967710629,
          170.7229078069143,
          1078.7236820902842,
          1033.8830422558633,
          537.5339301576116,
          1033.8830422558633,
          1189.577883824185,
          657.7623411545612,
          539.0077609686059,
          727.3550418335163,
          469.5003327525231,
          1131.2146446410393,
          1494.4845551213803,
          1835.980026974239,
          1144.5448047830123,
          549.3891071580105,
          1122.3739644362317,
          1157.9579327266983,
          1111.3749690562936,
          521.4738988731482,
          592.0437758833959,
          521.4738988731482,
          541.9623365740708,
          1441.1258876443712,
          994.1887107888396,
          1256.5133101871488,
          315.10532007771315,
          947.2508292999936,
          559.8833817441916,
          177.0388317123562,
          1010.8007084208137,
          1272.9605245462753,
          195.56254577547946,
          480.47051986797777,
          1185.033092019211,
          996.2571441787809,
          159.30215943493204,
          163.2569579832766,
          536.062404007776,
          160.61120697307874,
          575.0710987800837,
          1126.7896952163183,
          217.18602909706627,
          646.2678436255003,
          155.43032868830102,
          1242.5055796645156,
          167.29472433333473,
          491.58820529758975,
          172.11031382445708,
          312.9712038447487,
          549.3891071580105,
          158.0023305414202,
          1332.6224402923535,
          585.8396280441514,
          175.61916043859148,
          1070.1042493567127,
          1214.7390220243901,
          1120.1695560379267,
          1401.153844507723,
          734.3519931113567,
          159.30215943493204,
          543.4430813685414,
          200.222570638389,
          1042.3457580306426,
          1151.240997779641,
          512.8314195279896,
          872.3723882535395,
          701.4448887567308,
          1111.3749690562936,
          630.0430290681892,
          202.5836959954863,
          623.6176337577086,
          862.7677128746199,
          168.65908373929042,
          151.6414657433835,
          1187.3043355911186,
          1223.957666659226,
          1189.577883824185,
          572.0151180836357,
          1169.198917528301,
          646.2678436255003,
          885.9157295526927,
          182.08027799703206,
          643.0044434247684,
          267.39076777838227,
          171.41545848510634,
          949.2662554832846,
          555.3720075260189,
          1149.0066287862728,
          1679.6871258352326,
          562.9024878621004,
          544.9261308241705,
          149.77814719656726,
          159.30215943493204,
          505.6927315888886,
          727.3550418335163,
          769.8898681786488,
          146.11373595422003,
          1256.5133101871488,
          257.8955638045013,
          500.0232651384646,
          612.4619214189779,
          211.4186145473971,
          170.03266178988096,
          870.4468438554381,
          853.2206540246681,
          564.415497912793,
          546.4114849409584,
          437.47476129110345,
          165.26547018309148,
          1249.499073950618,
          1153.4776714341679,
          804.504726451878,
          1352.018468604048,
          817.4672931390367,
          625.2205255935908,
          596.7210857049957,
          165.93958357201387,
          176.3278437448945,
          1010.8007084208137,
          903.4945325407452,
          1029.665512335426,
          160.61120697307874,
          826.7954091789111,
          568.9683560318224,
          1067.9551528262166,
          182.80970325376342,
          1144.5448047830123,
          1244.834439765391,
          170.03266178988096,
          501.4371747593325,
          1867.5296859063856,
          1330.2083077286056,
          265.47328969433636,
          1178.23318927044,
          1371.5619952298998,
          469.5003327525231,
          584.294352737237,
          1085.2124555826294,
          1289.5206673021785,
          1166.9461112456634,
          791.6550881614962,
          161.26918773389013,
          169.34472043400635,
          217.18602909706627,
          562.9024878621004,
          741.3858189677364,
          1254.1729267804799,
          561.3917824725668,
          174.9127817934472,
          609.2953169869118,
          595.1596777699704,
          154.79308987791796,
          466.78083258524657,
          158.6510926575968,
          165.26547018309148,
          823.0572487794852,
          502.85338904135915,
          1038.1097908209356,
          438.78265649867075,
          553.8728254422788,
          602.9897640566841,
          1668.7999065214913,
          562.9024878621004,
          1369.110988087613,
          1541.0294918826667,
          830.5427882229719,
          518.5838537801271,
          1261.200990983963,
          1671.5182543581886,
          171.41545848510634,
          806.3496077094246,
          164.59366145532783
         ]
        }
       ],
       "layout": {
        "template": {
         "data": {
          "bar": [
           {
            "error_x": {
             "color": "#2a3f5f"
            },
            "error_y": {
             "color": "#2a3f5f"
            },
            "marker": {
             "line": {
              "color": "#E5ECF6",
              "width": 0.5
             },
             "pattern": {
              "fillmode": "overlay",
              "size": 10,
              "solidity": 0.2
             }
            },
            "type": "bar"
           }
          ],
          "barpolar": [
           {
            "marker": {
             "line": {
              "color": "#E5ECF6",
              "width": 0.5
             },
             "pattern": {
              "fillmode": "overlay",
              "size": 10,
              "solidity": 0.2
             }
            },
            "type": "barpolar"
           }
          ],
          "carpet": [
           {
            "aaxis": {
             "endlinecolor": "#2a3f5f",
             "gridcolor": "white",
             "linecolor": "white",
             "minorgridcolor": "white",
             "startlinecolor": "#2a3f5f"
            },
            "baxis": {
             "endlinecolor": "#2a3f5f",
             "gridcolor": "white",
             "linecolor": "white",
             "minorgridcolor": "white",
             "startlinecolor": "#2a3f5f"
            },
            "type": "carpet"
           }
          ],
          "choropleth": [
           {
            "colorbar": {
             "outlinewidth": 0,
             "ticks": ""
            },
            "type": "choropleth"
           }
          ],
          "contour": [
           {
            "colorbar": {
             "outlinewidth": 0,
             "ticks": ""
            },
            "colorscale": [
             [
              0,
              "#0d0887"
             ],
             [
              0.1111111111111111,
              "#46039f"
             ],
             [
              0.2222222222222222,
              "#7201a8"
             ],
             [
              0.3333333333333333,
              "#9c179e"
             ],
             [
              0.4444444444444444,
              "#bd3786"
             ],
             [
              0.5555555555555556,
              "#d8576b"
             ],
             [
              0.6666666666666666,
              "#ed7953"
             ],
             [
              0.7777777777777778,
              "#fb9f3a"
             ],
             [
              0.8888888888888888,
              "#fdca26"
             ],
             [
              1,
              "#f0f921"
             ]
            ],
            "type": "contour"
           }
          ],
          "contourcarpet": [
           {
            "colorbar": {
             "outlinewidth": 0,
             "ticks": ""
            },
            "type": "contourcarpet"
           }
          ],
          "heatmap": [
           {
            "colorbar": {
             "outlinewidth": 0,
             "ticks": ""
            },
            "colorscale": [
             [
              0,
              "#0d0887"
             ],
             [
              0.1111111111111111,
              "#46039f"
             ],
             [
              0.2222222222222222,
              "#7201a8"
             ],
             [
              0.3333333333333333,
              "#9c179e"
             ],
             [
              0.4444444444444444,
              "#bd3786"
             ],
             [
              0.5555555555555556,
              "#d8576b"
             ],
             [
              0.6666666666666666,
              "#ed7953"
             ],
             [
              0.7777777777777778,
              "#fb9f3a"
             ],
             [
              0.8888888888888888,
              "#fdca26"
             ],
             [
              1,
              "#f0f921"
             ]
            ],
            "type": "heatmap"
           }
          ],
          "heatmapgl": [
           {
            "colorbar": {
             "outlinewidth": 0,
             "ticks": ""
            },
            "colorscale": [
             [
              0,
              "#0d0887"
             ],
             [
              0.1111111111111111,
              "#46039f"
             ],
             [
              0.2222222222222222,
              "#7201a8"
             ],
             [
              0.3333333333333333,
              "#9c179e"
             ],
             [
              0.4444444444444444,
              "#bd3786"
             ],
             [
              0.5555555555555556,
              "#d8576b"
             ],
             [
              0.6666666666666666,
              "#ed7953"
             ],
             [
              0.7777777777777778,
              "#fb9f3a"
             ],
             [
              0.8888888888888888,
              "#fdca26"
             ],
             [
              1,
              "#f0f921"
             ]
            ],
            "type": "heatmapgl"
           }
          ],
          "histogram": [
           {
            "marker": {
             "pattern": {
              "fillmode": "overlay",
              "size": 10,
              "solidity": 0.2
             }
            },
            "type": "histogram"
           }
          ],
          "histogram2d": [
           {
            "colorbar": {
             "outlinewidth": 0,
             "ticks": ""
            },
            "colorscale": [
             [
              0,
              "#0d0887"
             ],
             [
              0.1111111111111111,
              "#46039f"
             ],
             [
              0.2222222222222222,
              "#7201a8"
             ],
             [
              0.3333333333333333,
              "#9c179e"
             ],
             [
              0.4444444444444444,
              "#bd3786"
             ],
             [
              0.5555555555555556,
              "#d8576b"
             ],
             [
              0.6666666666666666,
              "#ed7953"
             ],
             [
              0.7777777777777778,
              "#fb9f3a"
             ],
             [
              0.8888888888888888,
              "#fdca26"
             ],
             [
              1,
              "#f0f921"
             ]
            ],
            "type": "histogram2d"
           }
          ],
          "histogram2dcontour": [
           {
            "colorbar": {
             "outlinewidth": 0,
             "ticks": ""
            },
            "colorscale": [
             [
              0,
              "#0d0887"
             ],
             [
              0.1111111111111111,
              "#46039f"
             ],
             [
              0.2222222222222222,
              "#7201a8"
             ],
             [
              0.3333333333333333,
              "#9c179e"
             ],
             [
              0.4444444444444444,
              "#bd3786"
             ],
             [
              0.5555555555555556,
              "#d8576b"
             ],
             [
              0.6666666666666666,
              "#ed7953"
             ],
             [
              0.7777777777777778,
              "#fb9f3a"
             ],
             [
              0.8888888888888888,
              "#fdca26"
             ],
             [
              1,
              "#f0f921"
             ]
            ],
            "type": "histogram2dcontour"
           }
          ],
          "mesh3d": [
           {
            "colorbar": {
             "outlinewidth": 0,
             "ticks": ""
            },
            "type": "mesh3d"
           }
          ],
          "parcoords": [
           {
            "line": {
             "colorbar": {
              "outlinewidth": 0,
              "ticks": ""
             }
            },
            "type": "parcoords"
           }
          ],
          "pie": [
           {
            "automargin": true,
            "type": "pie"
           }
          ],
          "scatter": [
           {
            "fillpattern": {
             "fillmode": "overlay",
             "size": 10,
             "solidity": 0.2
            },
            "type": "scatter"
           }
          ],
          "scatter3d": [
           {
            "line": {
             "colorbar": {
              "outlinewidth": 0,
              "ticks": ""
             }
            },
            "marker": {
             "colorbar": {
              "outlinewidth": 0,
              "ticks": ""
             }
            },
            "type": "scatter3d"
           }
          ],
          "scattercarpet": [
           {
            "marker": {
             "colorbar": {
              "outlinewidth": 0,
              "ticks": ""
             }
            },
            "type": "scattercarpet"
           }
          ],
          "scattergeo": [
           {
            "marker": {
             "colorbar": {
              "outlinewidth": 0,
              "ticks": ""
             }
            },
            "type": "scattergeo"
           }
          ],
          "scattergl": [
           {
            "marker": {
             "colorbar": {
              "outlinewidth": 0,
              "ticks": ""
             }
            },
            "type": "scattergl"
           }
          ],
          "scattermapbox": [
           {
            "marker": {
             "colorbar": {
              "outlinewidth": 0,
              "ticks": ""
             }
            },
            "type": "scattermapbox"
           }
          ],
          "scatterpolar": [
           {
            "marker": {
             "colorbar": {
              "outlinewidth": 0,
              "ticks": ""
             }
            },
            "type": "scatterpolar"
           }
          ],
          "scatterpolargl": [
           {
            "marker": {
             "colorbar": {
              "outlinewidth": 0,
              "ticks": ""
             }
            },
            "type": "scatterpolargl"
           }
          ],
          "scatterternary": [
           {
            "marker": {
             "colorbar": {
              "outlinewidth": 0,
              "ticks": ""
             }
            },
            "type": "scatterternary"
           }
          ],
          "surface": [
           {
            "colorbar": {
             "outlinewidth": 0,
             "ticks": ""
            },
            "colorscale": [
             [
              0,
              "#0d0887"
             ],
             [
              0.1111111111111111,
              "#46039f"
             ],
             [
              0.2222222222222222,
              "#7201a8"
             ],
             [
              0.3333333333333333,
              "#9c179e"
             ],
             [
              0.4444444444444444,
              "#bd3786"
             ],
             [
              0.5555555555555556,
              "#d8576b"
             ],
             [
              0.6666666666666666,
              "#ed7953"
             ],
             [
              0.7777777777777778,
              "#fb9f3a"
             ],
             [
              0.8888888888888888,
              "#fdca26"
             ],
             [
              1,
              "#f0f921"
             ]
            ],
            "type": "surface"
           }
          ],
          "table": [
           {
            "cells": {
             "fill": {
              "color": "#EBF0F8"
             },
             "line": {
              "color": "white"
             }
            },
            "header": {
             "fill": {
              "color": "#C8D4E3"
             },
             "line": {
              "color": "white"
             }
            },
            "type": "table"
           }
          ]
         },
         "layout": {
          "annotationdefaults": {
           "arrowcolor": "#2a3f5f",
           "arrowhead": 0,
           "arrowwidth": 1
          },
          "autotypenumbers": "strict",
          "coloraxis": {
           "colorbar": {
            "outlinewidth": 0,
            "ticks": ""
           }
          },
          "colorscale": {
           "diverging": [
            [
             0,
             "#8e0152"
            ],
            [
             0.1,
             "#c51b7d"
            ],
            [
             0.2,
             "#de77ae"
            ],
            [
             0.3,
             "#f1b6da"
            ],
            [
             0.4,
             "#fde0ef"
            ],
            [
             0.5,
             "#f7f7f7"
            ],
            [
             0.6,
             "#e6f5d0"
            ],
            [
             0.7,
             "#b8e186"
            ],
            [
             0.8,
             "#7fbc41"
            ],
            [
             0.9,
             "#4d9221"
            ],
            [
             1,
             "#276419"
            ]
           ],
           "sequential": [
            [
             0,
             "#0d0887"
            ],
            [
             0.1111111111111111,
             "#46039f"
            ],
            [
             0.2222222222222222,
             "#7201a8"
            ],
            [
             0.3333333333333333,
             "#9c179e"
            ],
            [
             0.4444444444444444,
             "#bd3786"
            ],
            [
             0.5555555555555556,
             "#d8576b"
            ],
            [
             0.6666666666666666,
             "#ed7953"
            ],
            [
             0.7777777777777778,
             "#fb9f3a"
            ],
            [
             0.8888888888888888,
             "#fdca26"
            ],
            [
             1,
             "#f0f921"
            ]
           ],
           "sequentialminus": [
            [
             0,
             "#0d0887"
            ],
            [
             0.1111111111111111,
             "#46039f"
            ],
            [
             0.2222222222222222,
             "#7201a8"
            ],
            [
             0.3333333333333333,
             "#9c179e"
            ],
            [
             0.4444444444444444,
             "#bd3786"
            ],
            [
             0.5555555555555556,
             "#d8576b"
            ],
            [
             0.6666666666666666,
             "#ed7953"
            ],
            [
             0.7777777777777778,
             "#fb9f3a"
            ],
            [
             0.8888888888888888,
             "#fdca26"
            ],
            [
             1,
             "#f0f921"
            ]
           ]
          },
          "colorway": [
           "#636efa",
           "#EF553B",
           "#00cc96",
           "#ab63fa",
           "#FFA15A",
           "#19d3f3",
           "#FF6692",
           "#B6E880",
           "#FF97FF",
           "#FECB52"
          ],
          "font": {
           "color": "#2a3f5f"
          },
          "geo": {
           "bgcolor": "white",
           "lakecolor": "white",
           "landcolor": "#E5ECF6",
           "showlakes": true,
           "showland": true,
           "subunitcolor": "white"
          },
          "hoverlabel": {
           "align": "left"
          },
          "hovermode": "closest",
          "mapbox": {
           "style": "light"
          },
          "paper_bgcolor": "white",
          "plot_bgcolor": "#E5ECF6",
          "polar": {
           "angularaxis": {
            "gridcolor": "white",
            "linecolor": "white",
            "ticks": ""
           },
           "bgcolor": "#E5ECF6",
           "radialaxis": {
            "gridcolor": "white",
            "linecolor": "white",
            "ticks": ""
           }
          },
          "scene": {
           "xaxis": {
            "backgroundcolor": "#E5ECF6",
            "gridcolor": "white",
            "gridwidth": 2,
            "linecolor": "white",
            "showbackground": true,
            "ticks": "",
            "zerolinecolor": "white"
           },
           "yaxis": {
            "backgroundcolor": "#E5ECF6",
            "gridcolor": "white",
            "gridwidth": 2,
            "linecolor": "white",
            "showbackground": true,
            "ticks": "",
            "zerolinecolor": "white"
           },
           "zaxis": {
            "backgroundcolor": "#E5ECF6",
            "gridcolor": "white",
            "gridwidth": 2,
            "linecolor": "white",
            "showbackground": true,
            "ticks": "",
            "zerolinecolor": "white"
           }
          },
          "shapedefaults": {
           "line": {
            "color": "#2a3f5f"
           }
          },
          "ternary": {
           "aaxis": {
            "gridcolor": "white",
            "linecolor": "white",
            "ticks": ""
           },
           "baxis": {
            "gridcolor": "white",
            "linecolor": "white",
            "ticks": ""
           },
           "bgcolor": "#E5ECF6",
           "caxis": {
            "gridcolor": "white",
            "linecolor": "white",
            "ticks": ""
           }
          },
          "title": {
           "x": 0.05
          },
          "xaxis": {
           "automargin": true,
           "gridcolor": "white",
           "linecolor": "white",
           "ticks": "",
           "title": {
            "standoff": 15
           },
           "zerolinecolor": "white",
           "zerolinewidth": 2
          },
          "yaxis": {
           "automargin": true,
           "gridcolor": "white",
           "linecolor": "white",
           "ticks": "",
           "title": {
            "standoff": 15
           },
           "zerolinecolor": "white",
           "zerolinewidth": 2
          }
         }
        },
        "title": {
         "text": "Predicciones"
        },
        "xaxis": {
         "title": {
          "text": "Falta de personal médico"
         }
        },
        "yaxis": {
         "title": {
          "text": "Muertes por COVID-19"
         }
        }
       }
      }
     },
     "metadata": {},
     "output_type": "display_data"
    }
   ],
   "source": [
    "X = table_r['critical_staffing_shortage_today_yes'].values\n",
    "X = (X)**2\n",
    "X = X.reshape(-1,1)\n",
    "y = table_r['deaths_covid'].values\n",
    "X_tr, X_te, y_tr, y_te = train_test_split(X, y, test_size=0.25, random_state=0)\n",
    "lr = LinearRegression(fit_intercept=True)\n",
    "lr.fit(X_tr, y_tr)\n",
    "y_pr_tr = lr.predict(X_tr)\n",
    "y_pr_te = lr.predict(X_te)\n",
    "print('**Error en predicciones (MSE):** {}'.format(mean_squared_error(y_te,y_pr_te)))\n",
    "fig = go.Figure()\n",
    "X_tr = X_tr.reshape(-1)\n",
    "X_tr = X_tr**0.5\n",
    "X_te = X_te.reshape(-1)\n",
    "X_te = X_te**0.5\n",
    "fig.add_trace(go.Scatter(y = table_r['deaths_covid'], x = table_r['critical_staffing_shortage_today_yes'], mode = 'markers', name='Datos'))\n",
    "fig.add_trace(go.Scatter(x = X_tr, y = y_pr_tr, mode='markers', name='Train Data'))\n",
    "fig.add_trace(go.Scatter(x = X_te, y = y_pr_te, mode='markers', name='Test Data'))\n",
    "fig.update_layout(\n",
    "    title='Predicciones',\n",
    "    xaxis_title = 'Falta de personal médico',\n",
    "    yaxis_title = 'Muertes por COVID-19')"
   ]
  },
  {
   "cell_type": "markdown",
   "metadata": {},
   "source": [
    "Cuando aumenta la falta del personal médico, aumentan las muertes por covid"
   ]
  },
  {
   "cell_type": "markdown",
   "metadata": {},
   "source": [
    "**8 - Siguiendo las respuestas anteriores, ¿cuál fue el peor mes de la pandemia para USA en su conjunto? Puede utilizar otras medidas que considere necesarias.**"
   ]
  },
  {
   "cell_type": "code",
   "execution_count": 17,
   "metadata": {},
   "outputs": [
    {
     "data": {
      "application/vnd.plotly.v1+json": {
       "config": {
        "plotlyServerURL": "https://plot.ly"
       },
       "data": [
        {
         "line": {
          "color": "rgba(228,26,28, .6)",
          "dash": "dash",
          "width": 2
         },
         "name": "Muertes por covid",
         "type": "scatter",
         "x": [
          "2020-01-01T00:00:00",
          "2020-02-01T00:00:00",
          "2020-03-01T00:00:00",
          "2020-04-01T00:00:00",
          "2020-05-01T00:00:00",
          "2020-06-01T00:00:00",
          "2020-07-01T00:00:00",
          "2020-08-01T00:00:00",
          "2020-09-01T00:00:00",
          "2020-10-01T00:00:00",
          "2020-11-01T00:00:00",
          "2020-12-01T00:00:00",
          "2021-01-01T00:00:00",
          "2021-02-01T00:00:00",
          "2021-03-01T00:00:00",
          "2021-04-01T00:00:00",
          "2021-05-01T00:00:00",
          "2021-06-01T00:00:00",
          "2021-07-01T00:00:00",
          "2021-08-01T00:00:00",
          "2021-09-01T00:00:00",
          "2021-10-01T00:00:00",
          "2021-11-01T00:00:00",
          "2021-12-01T00:00:00",
          "2022-01-01T00:00:00",
          "2022-02-01T00:00:00",
          "2022-03-01T00:00:00",
          "2022-04-01T00:00:00",
          "2022-05-01T00:00:00",
          "2022-06-01T00:00:00",
          "2022-07-01T00:00:00",
          "2022-08-01T00:00:00"
         ],
         "y": [
          0.002196304150257498,
          0,
          0.016934262344744017,
          0.5085125719478946,
          0.8313238412602242,
          0.2656922144804605,
          0.29048773099060893,
          0.47347773401999393,
          0.23091487428052104,
          0.2720842169039685,
          0.5064374431990306,
          0.8584368373220236,
          1,
          0.5109512269009391,
          0.252953650408967,
          0.21588912450772493,
          0.1655104513783702,
          0.09762193274765223,
          0.12161466222356862,
          0.4872917297788549,
          0.6801423810966374,
          0.44881853983641323,
          0.328112693123296,
          0.49289609209330504,
          0.6398970009088155,
          0.28282338685246894,
          0.08791275371099667,
          0.043199030596788854,
          0.049636473795819445,
          0.06295062102393215,
          0.07840048470160557,
          0.02129657679491063
         ]
        },
        {
         "line": {
          "color": "rgba(55, 126, 184, .6)",
          "dash": "dash",
          "width": 2
         },
         "name": "Pacientes en cama con COVID-19",
         "type": "scatter",
         "x": [
          "2020-01-01T00:00:00",
          "2020-02-01T00:00:00",
          "2020-03-01T00:00:00",
          "2020-04-01T00:00:00",
          "2020-05-01T00:00:00",
          "2020-06-01T00:00:00",
          "2020-07-01T00:00:00",
          "2020-08-01T00:00:00",
          "2020-09-01T00:00:00",
          "2020-10-01T00:00:00",
          "2020-11-01T00:00:00",
          "2020-12-01T00:00:00",
          "2021-01-01T00:00:00",
          "2021-02-01T00:00:00",
          "2021-03-01T00:00:00",
          "2021-04-01T00:00:00",
          "2021-05-01T00:00:00",
          "2021-06-01T00:00:00",
          "2021-07-01T00:00:00",
          "2021-08-01T00:00:00",
          "2021-09-01T00:00:00",
          "2021-10-01T00:00:00",
          "2021-11-01T00:00:00",
          "2021-12-01T00:00:00",
          "2022-01-01T00:00:00",
          "2022-02-01T00:00:00",
          "2022-03-01T00:00:00",
          "2022-04-01T00:00:00",
          "2022-05-01T00:00:00",
          "2022-06-01T00:00:00",
          "2022-07-01T00:00:00",
          "2022-08-01T00:00:00"
         ],
         "y": [
          0.0020957357081878396,
          0.00001719463500590982,
          0.015485220317984627,
          0.33050611849872524,
          0.35206573441970673,
          0.2870119542908542,
          0.45485615571282817,
          0.3761056206135537,
          0.2576319057394575,
          0.3102524016104004,
          0.5408449622287462,
          0.8266751761501033,
          0.873510458915876,
          0.4562569601984395,
          0.2940836387241938,
          0.29491032104616627,
          0.2216064657186989,
          0.12668046852477402,
          0.19813087618277317,
          0.5934310688296773,
          0.6205418721741901,
          0.40923365298234243,
          0.33547335825290003,
          0.494673124405864,
          1,
          0.494975035399734,
          0.1703280446060095,
          0.10426313061603018,
          0.16149402173803817,
          0.2062887256118108,
          0.2822095150643984,
          0.07707193677019103
         ]
        },
        {
         "line": {
          "color": "rgba(77, 175, 74, .6)",
          "dash": "dash",
          "width": 2
         },
         "name": "Número de hospitales con falta de personal",
         "type": "scatter",
         "x": [
          "2020-01-01T00:00:00",
          "2020-02-01T00:00:00",
          "2020-03-01T00:00:00",
          "2020-04-01T00:00:00",
          "2020-05-01T00:00:00",
          "2020-06-01T00:00:00",
          "2020-07-01T00:00:00",
          "2020-08-01T00:00:00",
          "2020-09-01T00:00:00",
          "2020-10-01T00:00:00",
          "2020-11-01T00:00:00",
          "2020-12-01T00:00:00",
          "2021-01-01T00:00:00",
          "2021-02-01T00:00:00",
          "2021-03-01T00:00:00",
          "2021-04-01T00:00:00",
          "2021-05-01T00:00:00",
          "2021-06-01T00:00:00",
          "2021-07-01T00:00:00",
          "2021-08-01T00:00:00",
          "2021-09-01T00:00:00",
          "2021-10-01T00:00:00",
          "2021-11-01T00:00:00",
          "2021-12-01T00:00:00",
          "2022-01-01T00:00:00",
          "2022-02-01T00:00:00",
          "2022-03-01T00:00:00",
          "2022-04-01T00:00:00",
          "2022-05-01T00:00:00",
          "2022-06-01T00:00:00",
          "2022-07-01T00:00:00",
          "2022-08-01T00:00:00"
         ],
         "y": [
          0.0021376085504342017,
          0,
          0,
          0.0008016032064128256,
          0.00016032064128256512,
          0.001282565130260521,
          0.2679492317969272,
          0.6468937875751503,
          0.6933867735470942,
          0.7753373413493654,
          0.868376753507014,
          1,
          0.8506078824315297,
          0.6122912491649967,
          0.5689779559118237,
          0.528630594522378,
          0.5338410153640615,
          0.48758851035404144,
          0.5131596526386105,
          0.6358583834335337,
          0.7758183032732131,
          0.8065197060788243,
          0.7617100868403474,
          0.8396526386105544,
          0.7567134268537075,
          0.3045290581162325,
          0.2540814963259853,
          0.232625250501002,
          0.23091516366065465,
          0.21958583834335338,
          0.2461189044756179,
          0.06578490313961256
         ]
        },
        {
         "line": {
          "color": "rgba(0, 0, 0, 1)",
          "width": 3
         },
         "name": "Promedio de los 3 indicadores",
         "type": "scatter",
         "x": [
          "2020-01-01T00:00:00",
          "2020-02-01T00:00:00",
          "2020-03-01T00:00:00",
          "2020-04-01T00:00:00",
          "2020-05-01T00:00:00",
          "2020-06-01T00:00:00",
          "2020-07-01T00:00:00",
          "2020-08-01T00:00:00",
          "2020-09-01T00:00:00",
          "2020-10-01T00:00:00",
          "2020-11-01T00:00:00",
          "2020-12-01T00:00:00",
          "2021-01-01T00:00:00",
          "2021-02-01T00:00:00",
          "2021-03-01T00:00:00",
          "2021-04-01T00:00:00",
          "2021-05-01T00:00:00",
          "2021-06-01T00:00:00",
          "2021-07-01T00:00:00",
          "2021-08-01T00:00:00",
          "2021-09-01T00:00:00",
          "2021-10-01T00:00:00",
          "2021-11-01T00:00:00",
          "2021-12-01T00:00:00",
          "2022-01-01T00:00:00",
          "2022-02-01T00:00:00",
          "2022-03-01T00:00:00",
          "2022-04-01T00:00:00",
          "2022-05-01T00:00:00",
          "2022-06-01T00:00:00",
          "2022-07-01T00:00:00",
          "2022-08-01T00:00:00"
         ],
         "y": [
          0.002360267654781584,
          0.000006312000012967496,
          0.011900908330837526,
          0.30829067919187386,
          0.4344708078048493,
          0.20336368119292564,
          0.37197103485569144,
          0.5493436608442308,
          0.4338774625270001,
          0.49839022749364137,
          0.7032217102533314,
          0.9856811184436336,
          1,
          0.5798204183314304,
          0.40967942842489724,
          0.3815656700002782,
          0.338075596233314,
          0.26132892276418196,
          0.3057522055495504,
          0.6301419273852138,
          0.7622659137183296,
          0.611049774759142,
          0.5232137372973167,
          0.6707571500751841,
          0.8797747114676044,
          0.39731294486754704,
          0.1880690302131244,
          0.13952676208839807,
          0.1622710924430204,
          0.17944344691622804,
          0.2227248702938218,
          0.06025928250368173
         ]
        }
       ],
       "layout": {
        "plot_bgcolor": "white",
        "template": {
         "data": {
          "bar": [
           {
            "error_x": {
             "color": "#2a3f5f"
            },
            "error_y": {
             "color": "#2a3f5f"
            },
            "marker": {
             "line": {
              "color": "#E5ECF6",
              "width": 0.5
             },
             "pattern": {
              "fillmode": "overlay",
              "size": 10,
              "solidity": 0.2
             }
            },
            "type": "bar"
           }
          ],
          "barpolar": [
           {
            "marker": {
             "line": {
              "color": "#E5ECF6",
              "width": 0.5
             },
             "pattern": {
              "fillmode": "overlay",
              "size": 10,
              "solidity": 0.2
             }
            },
            "type": "barpolar"
           }
          ],
          "carpet": [
           {
            "aaxis": {
             "endlinecolor": "#2a3f5f",
             "gridcolor": "white",
             "linecolor": "white",
             "minorgridcolor": "white",
             "startlinecolor": "#2a3f5f"
            },
            "baxis": {
             "endlinecolor": "#2a3f5f",
             "gridcolor": "white",
             "linecolor": "white",
             "minorgridcolor": "white",
             "startlinecolor": "#2a3f5f"
            },
            "type": "carpet"
           }
          ],
          "choropleth": [
           {
            "colorbar": {
             "outlinewidth": 0,
             "ticks": ""
            },
            "type": "choropleth"
           }
          ],
          "contour": [
           {
            "colorbar": {
             "outlinewidth": 0,
             "ticks": ""
            },
            "colorscale": [
             [
              0,
              "#0d0887"
             ],
             [
              0.1111111111111111,
              "#46039f"
             ],
             [
              0.2222222222222222,
              "#7201a8"
             ],
             [
              0.3333333333333333,
              "#9c179e"
             ],
             [
              0.4444444444444444,
              "#bd3786"
             ],
             [
              0.5555555555555556,
              "#d8576b"
             ],
             [
              0.6666666666666666,
              "#ed7953"
             ],
             [
              0.7777777777777778,
              "#fb9f3a"
             ],
             [
              0.8888888888888888,
              "#fdca26"
             ],
             [
              1,
              "#f0f921"
             ]
            ],
            "type": "contour"
           }
          ],
          "contourcarpet": [
           {
            "colorbar": {
             "outlinewidth": 0,
             "ticks": ""
            },
            "type": "contourcarpet"
           }
          ],
          "heatmap": [
           {
            "colorbar": {
             "outlinewidth": 0,
             "ticks": ""
            },
            "colorscale": [
             [
              0,
              "#0d0887"
             ],
             [
              0.1111111111111111,
              "#46039f"
             ],
             [
              0.2222222222222222,
              "#7201a8"
             ],
             [
              0.3333333333333333,
              "#9c179e"
             ],
             [
              0.4444444444444444,
              "#bd3786"
             ],
             [
              0.5555555555555556,
              "#d8576b"
             ],
             [
              0.6666666666666666,
              "#ed7953"
             ],
             [
              0.7777777777777778,
              "#fb9f3a"
             ],
             [
              0.8888888888888888,
              "#fdca26"
             ],
             [
              1,
              "#f0f921"
             ]
            ],
            "type": "heatmap"
           }
          ],
          "heatmapgl": [
           {
            "colorbar": {
             "outlinewidth": 0,
             "ticks": ""
            },
            "colorscale": [
             [
              0,
              "#0d0887"
             ],
             [
              0.1111111111111111,
              "#46039f"
             ],
             [
              0.2222222222222222,
              "#7201a8"
             ],
             [
              0.3333333333333333,
              "#9c179e"
             ],
             [
              0.4444444444444444,
              "#bd3786"
             ],
             [
              0.5555555555555556,
              "#d8576b"
             ],
             [
              0.6666666666666666,
              "#ed7953"
             ],
             [
              0.7777777777777778,
              "#fb9f3a"
             ],
             [
              0.8888888888888888,
              "#fdca26"
             ],
             [
              1,
              "#f0f921"
             ]
            ],
            "type": "heatmapgl"
           }
          ],
          "histogram": [
           {
            "marker": {
             "pattern": {
              "fillmode": "overlay",
              "size": 10,
              "solidity": 0.2
             }
            },
            "type": "histogram"
           }
          ],
          "histogram2d": [
           {
            "colorbar": {
             "outlinewidth": 0,
             "ticks": ""
            },
            "colorscale": [
             [
              0,
              "#0d0887"
             ],
             [
              0.1111111111111111,
              "#46039f"
             ],
             [
              0.2222222222222222,
              "#7201a8"
             ],
             [
              0.3333333333333333,
              "#9c179e"
             ],
             [
              0.4444444444444444,
              "#bd3786"
             ],
             [
              0.5555555555555556,
              "#d8576b"
             ],
             [
              0.6666666666666666,
              "#ed7953"
             ],
             [
              0.7777777777777778,
              "#fb9f3a"
             ],
             [
              0.8888888888888888,
              "#fdca26"
             ],
             [
              1,
              "#f0f921"
             ]
            ],
            "type": "histogram2d"
           }
          ],
          "histogram2dcontour": [
           {
            "colorbar": {
             "outlinewidth": 0,
             "ticks": ""
            },
            "colorscale": [
             [
              0,
              "#0d0887"
             ],
             [
              0.1111111111111111,
              "#46039f"
             ],
             [
              0.2222222222222222,
              "#7201a8"
             ],
             [
              0.3333333333333333,
              "#9c179e"
             ],
             [
              0.4444444444444444,
              "#bd3786"
             ],
             [
              0.5555555555555556,
              "#d8576b"
             ],
             [
              0.6666666666666666,
              "#ed7953"
             ],
             [
              0.7777777777777778,
              "#fb9f3a"
             ],
             [
              0.8888888888888888,
              "#fdca26"
             ],
             [
              1,
              "#f0f921"
             ]
            ],
            "type": "histogram2dcontour"
           }
          ],
          "mesh3d": [
           {
            "colorbar": {
             "outlinewidth": 0,
             "ticks": ""
            },
            "type": "mesh3d"
           }
          ],
          "parcoords": [
           {
            "line": {
             "colorbar": {
              "outlinewidth": 0,
              "ticks": ""
             }
            },
            "type": "parcoords"
           }
          ],
          "pie": [
           {
            "automargin": true,
            "type": "pie"
           }
          ],
          "scatter": [
           {
            "fillpattern": {
             "fillmode": "overlay",
             "size": 10,
             "solidity": 0.2
            },
            "type": "scatter"
           }
          ],
          "scatter3d": [
           {
            "line": {
             "colorbar": {
              "outlinewidth": 0,
              "ticks": ""
             }
            },
            "marker": {
             "colorbar": {
              "outlinewidth": 0,
              "ticks": ""
             }
            },
            "type": "scatter3d"
           }
          ],
          "scattercarpet": [
           {
            "marker": {
             "colorbar": {
              "outlinewidth": 0,
              "ticks": ""
             }
            },
            "type": "scattercarpet"
           }
          ],
          "scattergeo": [
           {
            "marker": {
             "colorbar": {
              "outlinewidth": 0,
              "ticks": ""
             }
            },
            "type": "scattergeo"
           }
          ],
          "scattergl": [
           {
            "marker": {
             "colorbar": {
              "outlinewidth": 0,
              "ticks": ""
             }
            },
            "type": "scattergl"
           }
          ],
          "scattermapbox": [
           {
            "marker": {
             "colorbar": {
              "outlinewidth": 0,
              "ticks": ""
             }
            },
            "type": "scattermapbox"
           }
          ],
          "scatterpolar": [
           {
            "marker": {
             "colorbar": {
              "outlinewidth": 0,
              "ticks": ""
             }
            },
            "type": "scatterpolar"
           }
          ],
          "scatterpolargl": [
           {
            "marker": {
             "colorbar": {
              "outlinewidth": 0,
              "ticks": ""
             }
            },
            "type": "scatterpolargl"
           }
          ],
          "scatterternary": [
           {
            "marker": {
             "colorbar": {
              "outlinewidth": 0,
              "ticks": ""
             }
            },
            "type": "scatterternary"
           }
          ],
          "surface": [
           {
            "colorbar": {
             "outlinewidth": 0,
             "ticks": ""
            },
            "colorscale": [
             [
              0,
              "#0d0887"
             ],
             [
              0.1111111111111111,
              "#46039f"
             ],
             [
              0.2222222222222222,
              "#7201a8"
             ],
             [
              0.3333333333333333,
              "#9c179e"
             ],
             [
              0.4444444444444444,
              "#bd3786"
             ],
             [
              0.5555555555555556,
              "#d8576b"
             ],
             [
              0.6666666666666666,
              "#ed7953"
             ],
             [
              0.7777777777777778,
              "#fb9f3a"
             ],
             [
              0.8888888888888888,
              "#fdca26"
             ],
             [
              1,
              "#f0f921"
             ]
            ],
            "type": "surface"
           }
          ],
          "table": [
           {
            "cells": {
             "fill": {
              "color": "#EBF0F8"
             },
             "line": {
              "color": "white"
             }
            },
            "header": {
             "fill": {
              "color": "#C8D4E3"
             },
             "line": {
              "color": "white"
             }
            },
            "type": "table"
           }
          ]
         },
         "layout": {
          "annotationdefaults": {
           "arrowcolor": "#2a3f5f",
           "arrowhead": 0,
           "arrowwidth": 1
          },
          "autotypenumbers": "strict",
          "coloraxis": {
           "colorbar": {
            "outlinewidth": 0,
            "ticks": ""
           }
          },
          "colorscale": {
           "diverging": [
            [
             0,
             "#8e0152"
            ],
            [
             0.1,
             "#c51b7d"
            ],
            [
             0.2,
             "#de77ae"
            ],
            [
             0.3,
             "#f1b6da"
            ],
            [
             0.4,
             "#fde0ef"
            ],
            [
             0.5,
             "#f7f7f7"
            ],
            [
             0.6,
             "#e6f5d0"
            ],
            [
             0.7,
             "#b8e186"
            ],
            [
             0.8,
             "#7fbc41"
            ],
            [
             0.9,
             "#4d9221"
            ],
            [
             1,
             "#276419"
            ]
           ],
           "sequential": [
            [
             0,
             "#0d0887"
            ],
            [
             0.1111111111111111,
             "#46039f"
            ],
            [
             0.2222222222222222,
             "#7201a8"
            ],
            [
             0.3333333333333333,
             "#9c179e"
            ],
            [
             0.4444444444444444,
             "#bd3786"
            ],
            [
             0.5555555555555556,
             "#d8576b"
            ],
            [
             0.6666666666666666,
             "#ed7953"
            ],
            [
             0.7777777777777778,
             "#fb9f3a"
            ],
            [
             0.8888888888888888,
             "#fdca26"
            ],
            [
             1,
             "#f0f921"
            ]
           ],
           "sequentialminus": [
            [
             0,
             "#0d0887"
            ],
            [
             0.1111111111111111,
             "#46039f"
            ],
            [
             0.2222222222222222,
             "#7201a8"
            ],
            [
             0.3333333333333333,
             "#9c179e"
            ],
            [
             0.4444444444444444,
             "#bd3786"
            ],
            [
             0.5555555555555556,
             "#d8576b"
            ],
            [
             0.6666666666666666,
             "#ed7953"
            ],
            [
             0.7777777777777778,
             "#fb9f3a"
            ],
            [
             0.8888888888888888,
             "#fdca26"
            ],
            [
             1,
             "#f0f921"
            ]
           ]
          },
          "colorway": [
           "#636efa",
           "#EF553B",
           "#00cc96",
           "#ab63fa",
           "#FFA15A",
           "#19d3f3",
           "#FF6692",
           "#B6E880",
           "#FF97FF",
           "#FECB52"
          ],
          "font": {
           "color": "#2a3f5f"
          },
          "geo": {
           "bgcolor": "white",
           "lakecolor": "white",
           "landcolor": "#E5ECF6",
           "showlakes": true,
           "showland": true,
           "subunitcolor": "white"
          },
          "hoverlabel": {
           "align": "left"
          },
          "hovermode": "closest",
          "mapbox": {
           "style": "light"
          },
          "paper_bgcolor": "white",
          "plot_bgcolor": "#E5ECF6",
          "polar": {
           "angularaxis": {
            "gridcolor": "white",
            "linecolor": "white",
            "ticks": ""
           },
           "bgcolor": "#E5ECF6",
           "radialaxis": {
            "gridcolor": "white",
            "linecolor": "white",
            "ticks": ""
           }
          },
          "scene": {
           "xaxis": {
            "backgroundcolor": "#E5ECF6",
            "gridcolor": "white",
            "gridwidth": 2,
            "linecolor": "white",
            "showbackground": true,
            "ticks": "",
            "zerolinecolor": "white"
           },
           "yaxis": {
            "backgroundcolor": "#E5ECF6",
            "gridcolor": "white",
            "gridwidth": 2,
            "linecolor": "white",
            "showbackground": true,
            "ticks": "",
            "zerolinecolor": "white"
           },
           "zaxis": {
            "backgroundcolor": "#E5ECF6",
            "gridcolor": "white",
            "gridwidth": 2,
            "linecolor": "white",
            "showbackground": true,
            "ticks": "",
            "zerolinecolor": "white"
           }
          },
          "shapedefaults": {
           "line": {
            "color": "#2a3f5f"
           }
          },
          "ternary": {
           "aaxis": {
            "gridcolor": "white",
            "linecolor": "white",
            "ticks": ""
           },
           "baxis": {
            "gridcolor": "white",
            "linecolor": "white",
            "ticks": ""
           },
           "bgcolor": "#E5ECF6",
           "caxis": {
            "gridcolor": "white",
            "linecolor": "white",
            "ticks": ""
           }
          },
          "title": {
           "x": 0.05
          },
          "xaxis": {
           "automargin": true,
           "gridcolor": "white",
           "linecolor": "white",
           "ticks": "",
           "title": {
            "standoff": 15
           },
           "zerolinecolor": "white",
           "zerolinewidth": 2
          },
          "yaxis": {
           "automargin": true,
           "gridcolor": "white",
           "linecolor": "white",
           "ticks": "",
           "title": {
            "standoff": 15
           },
           "zerolinecolor": "white",
           "zerolinewidth": 2
          }
         }
        },
        "title": {
         "text": "Muertes por COVID-19"
        },
        "xaxis": {
         "title": {
          "text": "Fecha"
         }
        },
        "yaxis": {
         "title": {
          "text": "Porcentaje del valor máximo"
         }
        }
       }
      }
     },
     "metadata": {},
     "output_type": "display_data"
    }
   ],
   "source": [
    "table08 = table[['date', 'deaths_covid', 'inpatient_beds_used_covid', 'critical_staffing_shortage_today_yes']].copy()\n",
    "table08['date'] = table08['date'].map(lambda x: dt.datetime.strptime(x.strftime('%Y-%m'), '%Y-%m'))\n",
    "table08 = table08.groupby(['date']).sum().reset_index()\n",
    "fig08 = go.Figure()\n",
    "fig08.add_trace(go.Scatter(x = table08['date'], \n",
    "                         y = table08['deaths_covid']/ (table08['deaths_covid'].max()), \n",
    "                         name='Muertes por covid',\n",
    "                         line=dict(color='rgba(228,26,28, .6)', width=2, dash='dash')))\n",
    "fig08.add_trace(go.Scatter(x = table08['date'], \n",
    "                         y = table08['inpatient_beds_used_covid']/(table08['inpatient_beds_used_covid'].max()), \n",
    "                         name='Pacientes en cama con COVID-19',\n",
    "                         line=dict(color='rgba(55, 126, 184, .6)', width=2, dash='dash')))\n",
    "fig08.add_trace(go.Scatter(x = table08['date'], \n",
    "                         y = table08['critical_staffing_shortage_today_yes']/(table08['critical_staffing_shortage_today_yes'].max()), \n",
    "                         name='Número de hospitales con falta de personal',\n",
    "                         line=dict(color='rgba(77, 175, 74, .6)', width=2, dash='dash')))\n",
    "table08['prom_indicators'] = (table08['deaths_covid']/ (table08['deaths_covid'].max()) + table08['inpatient_beds_used_covid']/(table08['inpatient_beds_used_covid'].max()) + table08['critical_staffing_shortage_today_yes']/(table08['critical_staffing_shortage_today_yes'].max())) / 3\n",
    "fig08.add_trace(go.Scatter(x = table08['date'], \n",
    "                         y = table08['prom_indicators']/table08['prom_indicators'].max(), \n",
    "                         name='Promedio de los 3 indicadores',\n",
    "                         line=dict(color='rgba(0, 0, 0, 1)', width=3)))\n",
    "fig08.update_layout(\n",
    "    title='Muertes por COVID-19',\n",
    "    xaxis_title = 'Fecha',\n",
    "    yaxis_title = 'Porcentaje del valor máximo', plot_bgcolor='white')"
   ]
  },
  {
   "cell_type": "markdown",
   "metadata": {},
   "source": [
    "**Enero del 2021 fue el pero mes**"
   ]
  },
  {
   "cell_type": "markdown",
   "metadata": {},
   "source": [
    "**9 - ¿Qué recomendaciones haría, ex post, con respecto a los recursos hospitalarios y su uso?**"
   ]
  },
  {
   "cell_type": "markdown",
   "metadata": {},
   "source": [
    "## Conclusiones\n",
    "### * A lo largo de las exploraciones de los datos se puede concluir que los estados afecatos fueron Nueva York, California y Texas.\n",
    "### * El peor momento en la pandemia ha sido el enero del 2021.\n",
    "### * En enero de todos los años hay un repunte debido a la falta de personal enmes pasado y a las temperaturas frías.\n",
    "### * Los gráficos coinciden en que los meses cálidos (sobre todo Junio y Julio) son mejores meses del año.\n",
    "### * Se recomendaría preparar personal antes de las temperaturas frías para poabordar de mejor manera la pandemia. Esto debido a que la falta de personal médcrea tendencia a mayor número de muertes.\n",
    "### * Aprovechar los climas cálidos para escatimar en gastos y poder usarlos en invierno."
   ]
  }
 ],
 "metadata": {
  "kernelspec": {
   "display_name": "Python 3.10.2 64-bit",
   "language": "python",
   "name": "python3"
  },
  "language_info": {
   "codemirror_mode": {
    "name": "ipython",
    "version": 3
   },
   "file_extension": ".py",
   "mimetype": "text/x-python",
   "name": "python",
   "nbconvert_exporter": "python",
   "pygments_lexer": "ipython3",
   "version": "3.10.2"
  },
  "orig_nbformat": 4,
  "vscode": {
   "interpreter": {
    "hash": "ed449d678b2c1eb2d054f3ecf73eb9588e3708dcf99ab7b6fdac6947a13ce72b"
   }
  }
 },
 "nbformat": 4,
 "nbformat_minor": 2
}
